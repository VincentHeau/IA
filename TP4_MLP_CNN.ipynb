{
  "cells": [
    {
      "cell_type": "markdown",
      "metadata": {
        "id": "view-in-github",
        "colab_type": "text"
      },
      "source": [
        "<a href=\"https://colab.research.google.com/github/VincentHeau/IA/blob/main/TP4_MLP_CNN.ipynb\" target=\"_parent\"><img src=\"https://colab.research.google.com/assets/colab-badge.svg\" alt=\"Open In Colab\"/></a>"
      ]
    },
    {
      "cell_type": "markdown",
      "metadata": {
        "id": "oTuFe2msQhXu"
      },
      "source": [
        "# TP4 - Réseau de neurones convolutif à implémenter"
      ]
    },
    {
      "cell_type": "markdown",
      "metadata": {
        "id": "I53lSvyk9Yn0"
      },
      "source": [
        " ## Introduction\n",
        "\n",
        " Ce TP vous propose d'explorer désormais les architectures de neurones convolutives. La tâche de classification d'images se fera avec le jeu de données de référence <a href=\"https://en.wikipedia.org/wiki/CIFAR-10\">CIFAR-10</a>.\n",
        "\n",
        "**Objectif** : classifier le jeu de données CIFAR-10 par apprentissage profond. En plus de se familiariser avec PyTorch, ce TP doit permettre d'exploirer les avantages des CNN par rapport aux MLP pour des tâches de vision.\n",
        "\n",
        "**Objectifs pédagogiques** :\n",
        "- découvrir un jeu de données de référence\n",
        "- implémenter un réseau de neurones convolutif\n",
        "- comparer deux architectures de réseaux de neurones\n",
        "\n",
        "**Etapes** :\n",
        "- préparer le jeu de données en découvrant les fonctionnalités de PyTorch\n",
        "- implémenter deux modèles : un perceptron multicouches (MLP) et un réseau de neurones convolutif (CNN)\n",
        "- comparer leurs résultats"
      ]
    },
    {
      "cell_type": "code",
      "execution_count": 2,
      "metadata": {
        "colab": {
          "base_uri": "https://localhost:8080/"
        },
        "id": "5kRFhQqdp8yH",
        "outputId": "2b3cd007-f627-43ff-f4cc-34b6a6bb7fcc"
      },
      "outputs": [
        {
          "output_type": "execute_result",
          "data": {
            "text/plain": [
              "<torch._C.Generator at 0x7a90cc51e650>"
            ]
          },
          "metadata": {},
          "execution_count": 2
        }
      ],
      "source": [
        "import torch\n",
        "import torch.nn as nn\n",
        "from torchsummary import summary\n",
        "from torch.utils.data import DataLoader\n",
        "import torch.optim as optim\n",
        "\n",
        "import torchvision\n",
        "from torchvision import datasets\n",
        "import torchvision.transforms as transforms\n",
        "\n",
        "import matplotlib.pyplot as plt\n",
        "import numpy as np\n",
        "import time\n",
        "\n",
        "\n",
        "# Pour la reproductibilité du code, nous allons fixer:\n",
        "seed = 11\n",
        "torch.manual_seed(seed)"
      ]
    },
    {
      "cell_type": "code",
      "source": [
        "b = torch.randn(1, 3, 32, 32)\n",
        "t = torch.randn(2,3,3,3)\n",
        "\n",
        "print(b)\n",
        "print(t)"
      ],
      "metadata": {
        "colab": {
          "base_uri": "https://localhost:8080/"
        },
        "id": "9bfPBs8HaULh",
        "outputId": "9a16b55a-5adc-428d-913e-a3c6ede8630c"
      },
      "execution_count": null,
      "outputs": [
        {
          "output_type": "stream",
          "name": "stdout",
          "text": [
            "tensor([[[[-0.5108,  1.0283, -0.3532,  ..., -1.1686, -1.3242,  1.1267],\n",
            "          [-0.2255,  0.5218, -2.0598,  ...,  0.2803,  0.5700,  1.4841],\n",
            "          [-1.4556,  0.5582, -0.5062,  ...,  0.8602, -1.6499, -0.0435],\n",
            "          ...,\n",
            "          [-0.4467,  0.2804, -0.0854,  ...,  0.0051,  1.0966, -0.0295],\n",
            "          [ 0.0768, -0.2569, -1.0988,  ...,  1.4854,  0.9315, -1.9214],\n",
            "          [-0.3775, -1.6685,  0.3266,  ..., -0.1797, -0.8276,  1.8440]],\n",
            "\n",
            "         [[-1.8810, -1.1979,  0.7211,  ..., -0.5522,  0.3621,  1.7623],\n",
            "          [-1.5825, -0.3284,  0.3856,  ...,  0.2177, -0.2903,  2.2581],\n",
            "          [-2.1114, -1.1800, -1.3502,  ...,  0.8886, -1.1752,  1.5109],\n",
            "          ...,\n",
            "          [ 0.7657,  0.0308,  0.4106,  ..., -2.2700,  0.7905, -1.0780],\n",
            "          [-0.5304, -0.5513,  1.6712,  ..., -0.3682,  1.4355, -0.9610],\n",
            "          [ 1.5231, -0.1905,  0.6827,  ..., -0.2026,  0.2661, -0.8274]],\n",
            "\n",
            "         [[ 0.9988, -0.5941,  0.6783,  ..., -0.5524,  0.2312, -0.4613],\n",
            "          [-1.6057, -0.2786,  1.3931,  ...,  0.8800, -0.0406,  0.3524],\n",
            "          [-0.4180,  0.2013,  1.0321,  ..., -1.3615,  0.3833,  0.1696],\n",
            "          ...,\n",
            "          [ 0.2656,  1.6991, -2.2642,  ..., -1.0444,  1.8612, -2.6155],\n",
            "          [ 0.6917, -0.3438,  1.5088,  ..., -0.5481,  1.9989,  0.6331],\n",
            "          [ 0.3473, -0.7782, -1.6215,  ..., -0.1161,  0.4376,  0.1791]]]])\n",
            "tensor([[[[ 1.3965, -0.5948,  1.5142],\n",
            "          [-0.1539, -1.0511, -1.4072],\n",
            "          [ 1.2508,  0.2235, -0.7392]],\n",
            "\n",
            "         [[-0.1321, -1.1454, -0.9152],\n",
            "          [ 0.3628,  1.2959, -1.6404],\n",
            "          [ 1.0957,  1.8375, -0.0688]],\n",
            "\n",
            "         [[-3.0734,  0.6806, -0.8964],\n",
            "          [ 0.1387,  0.5664,  0.0381],\n",
            "          [ 0.3676, -1.1207,  0.3029]]],\n",
            "\n",
            "\n",
            "        [[[ 1.0921, -1.0304, -0.6468],\n",
            "          [ 0.2922, -0.9582,  0.8978],\n",
            "          [-0.2440,  0.4706,  0.2157]],\n",
            "\n",
            "         [[-2.0050,  0.8777, -0.4954],\n",
            "          [-0.7620, -1.2268, -0.2879],\n",
            "          [-0.8220,  0.2875, -0.4164]],\n",
            "\n",
            "         [[-0.7084, -0.3133, -1.8031],\n",
            "          [ 1.9185, -2.2710, -0.5351],\n",
            "          [-0.1604,  0.6600,  0.4958]]]])\n"
          ]
        }
      ]
    },
    {
      "cell_type": "code",
      "execution_count": null,
      "metadata": {
        "id": "DYs4HeHTm7Il"
      },
      "outputs": [],
      "source": [
        "device = torch.device('cuda' if torch.cuda.is_available() else 'cpu')"
      ]
    },
    {
      "cell_type": "markdown",
      "metadata": {
        "id": "zo9CDTXy9qDC"
      },
      "source": [
        "## 1. Le jeu de données CIFAR-10\n",
        "\n",
        "CIFAR-10 est un jeu de données populaire en vision par ordinateur composé de 60 000 images réparties en 10 classes distinctes (avion, voiture, oiseau, chat, cerf, chien, grenouille, cheval, navire, et camion). Chaque classe comprend 6 000 échantillons, qui sont des images de 32x32 pixels.\n",
        "\n",
        "L'une des caractéristiques intéressantes de CIFAR-10 est sa diversité d'objets et sa variété d'angles de vue, ce qui en fait un ensemble de données de référence pour la classification d'images.\n",
        "\n",
        "Le jeu de données CIFAR-10 est largement utilisé dans la recherche en apprentissage automatique et en vision par ordinateur en raison de sa taille modeste, de sa complexité adaptée aux projets pédagogiques, et de sa capacité à tester la capacité d'un modèle à généraliser à partir de données d'images du monde réel."
      ]
    },
    {
      "cell_type": "markdown",
      "metadata": {
        "id": "MzQxLRlSngG6"
      },
      "source": [
        "![](https://cdn-images-1.medium.com/v2/resize:fit:600/1*SZnidBt7CQ4Xqcag6rd8Ew.png)"
      ]
    },
    {
      "cell_type": "code",
      "execution_count": null,
      "metadata": {
        "id": "coQqYSE03tS9"
      },
      "outputs": [],
      "source": [
        "classes = ['plane', 'car', 'bird', 'cat', 'deer',\n",
        "           'dog', 'frog', 'horse', 'ship', 'truck']"
      ]
    },
    {
      "cell_type": "markdown",
      "metadata": {
        "id": "T6fX6aRTYiwV"
      },
      "source": [
        "### 1.1 Dataset\n",
        "\n",
        "Nous avons toujours veillé à découpler le code pré-traitant le jeu de données au code d'apprentissage du modèle afin d'avoir un code **lisible** et **modulaire**. Nous allons découvrir à présent deux fonctionnalités implémentées dans la bibliothèque PyTorch : *torch.utils.data.Dataset* et *torch.utils.data.DataLoader*.\n",
        "\n",
        "La fonctionnalité *Dataset* permet d'utiliser des jeux de données préchargés ainsi que vos propres données. Le *Dataset* stocke les *features* et *labels* de notre jeu de données. Les [jeux de données préchargés](https://pytorch.org/vision/stable/datasets.html) comme CIFAR-10 sous-classent cette classe abstraite *Dataset* et implémentent des fonctions spécifiques au jeu de données.\n",
        "\n"
      ]
    },
    {
      "cell_type": "code",
      "execution_count": null,
      "metadata": {
        "colab": {
          "base_uri": "https://localhost:8080/"
        },
        "id": "t_-qG7u9kON8",
        "outputId": "9a8b2f7e-bad5-41cf-e53c-9f380ef538dd"
      },
      "outputs": [
        {
          "output_type": "stream",
          "name": "stderr",
          "text": [
            "100%|██████████| 170M/170M [00:02<00:00, 65.5MB/s]\n"
          ]
        }
      ],
      "source": [
        "# Les jeux de données sont souvent déjà chargés en sous-ensembles d'entraînement et de tests\n",
        "# On télécharge le jeu d'entraînement et l'on fera de même pour le jeu de données test\n",
        "cifar10 = datasets.CIFAR10(\n",
        "    root=\"data\",\n",
        "    train=True,\n",
        "    download=True,\n",
        "    transform=transforms.ToTensor()\n",
        ")"
      ]
    },
    {
      "cell_type": "markdown",
      "source": [
        "- *root* : désigne le chemin où sont stockées les données d'entraînement/de test\n",
        "- *train* : spécifie l'ensemble de données d'entraînement ou de test\n",
        "- *download=True* : télécharge les données depuis Internet si elles ne sont pas disponibles à la racine.\n",
        "- *transform* : spécifie les transformations des caractéristiques et des étiquettes"
      ],
      "metadata": {
        "id": "Z0hTyUZSYHGf"
      }
    },
    {
      "cell_type": "code",
      "source": [
        "print(cifar10)"
      ],
      "metadata": {
        "colab": {
          "base_uri": "https://localhost:8080/"
        },
        "id": "qEGaupeyXW5M",
        "outputId": "872d017c-36cd-4673-87e6-1eb59dca1383"
      },
      "execution_count": null,
      "outputs": [
        {
          "output_type": "stream",
          "name": "stdout",
          "text": [
            "Dataset CIFAR10\n",
            "    Number of datapoints: 50000\n",
            "    Root location: data\n",
            "    Split: Train\n",
            "    StandardTransform\n",
            "Transform: ToTensor()\n"
          ]
        }
      ]
    },
    {
      "cell_type": "markdown",
      "metadata": {
        "id": "2wd8r8OulbGZ"
      },
      "source": [
        "Nous allons regarder comment normaliser notre jeu de données"
      ]
    },
    {
      "cell_type": "code",
      "execution_count": null,
      "metadata": {
        "colab": {
          "base_uri": "https://localhost:8080/"
        },
        "id": "NJOEUkmUkXgW",
        "outputId": "8053ce15-875e-46c6-af02-480a6705e49d"
      },
      "outputs": [
        {
          "output_type": "execute_result",
          "data": {
            "text/plain": [
              "torch.Size([3, 32, 32, 50000])"
            ]
          },
          "metadata": {},
          "execution_count": 7
        }
      ],
      "source": [
        "imgs = torch.stack([img_t for img_t, _ in cifar10], dim=3) # tenseur des 50 000 images d'entraînement au format 3x32x32.\n",
        "imgs.shape"
      ]
    },
    {
      "cell_type": "code",
      "execution_count": null,
      "metadata": {
        "colab": {
          "base_uri": "https://localhost:8080/"
        },
        "id": "RUHqGt8MktUH",
        "outputId": "a58eb2fd-2b60-4117-9d1b-f561a54f1b91"
      },
      "outputs": [
        {
          "output_type": "stream",
          "name": "stdout",
          "text": [
            "tensor([0.4914, 0.4822, 0.4465]) \n",
            " tensor([0.2470, 0.2435, 0.2616])\n"
          ]
        }
      ],
      "source": [
        "# Calcul des moyennes et écart-types de notre jeu de données pour les canaux rouge, vert et bleu:\n",
        "mean = imgs.view(3, -1).mean(dim=1)\n",
        "std = imgs.view(3, -1).std(dim=1)\n",
        "print(mean, \"\\n\", std)"
      ]
    },
    {
      "cell_type": "code",
      "execution_count": null,
      "metadata": {
        "id": "nwpgC9jDr3zx"
      },
      "outputs": [],
      "source": [
        "training_data = datasets.CIFAR10(\n",
        "    root=\"data\",\n",
        "    train=True,\n",
        "    download=True,\n",
        "    transform=transforms.Compose(\n",
        "        [transforms.ToTensor(),\n",
        "         transforms.Normalize(mean, std)])\n",
        ")"
      ]
    },
    {
      "cell_type": "markdown",
      "metadata": {
        "id": "pk-y6ypBt2jl"
      },
      "source": [
        "**Consigne** : Chargez de même le jeu test"
      ]
    },
    {
      "cell_type": "code",
      "execution_count": null,
      "metadata": {
        "id": "Vex9Ud8It2xD"
      },
      "outputs": [],
      "source": [
        "# Jeu de données test\n",
        "test_data = datasets.CIFAR10(\n",
        "    root=\"data\",\n",
        "    train=False,\n",
        "    download=True,\n",
        "    transform=transforms.Compose([\n",
        "        transforms.ToTensor(),\n",
        "        transforms.Normalize(mean, std)\n",
        "    ])\n",
        ")"
      ]
    },
    {
      "cell_type": "markdown",
      "metadata": {
        "id": "X-oxmSRFt25K"
      },
      "source": [
        "#### Solution"
      ]
    },
    {
      "cell_type": "code",
      "execution_count": null,
      "metadata": {
        "id": "Jp1ljcirt3PQ"
      },
      "outputs": [],
      "source": [
        "test_data = datasets.CIFAR10(\n",
        "    root=\"data\",\n",
        "    train=False,\n",
        "    download=True,\n",
        "    transform=transforms.Compose(\n",
        "        [transforms.ToTensor(),\n",
        "         transforms.Normalize(mean, std)])\n",
        ")"
      ]
    },
    {
      "cell_type": "markdown",
      "metadata": {
        "id": "lbrbMoLhzxbB"
      },
      "source": [
        "### 1.2 Visualisation des données\n",
        "\n",
        "Visualisation d'images aléatoires du jeu de données.\n",
        "\n",
        "La normalisation consiste à appliquer la formule suivante aux données x : $\\frac{x - moyenne}{écart-type}$.\n",
        "\n",
        "Pour visualiser nos données, nous souhaitons inverser cette formule pour visualiser les images avec leurs couleurs d'origine. Pour cela, on applique une formule telle que :\n",
        "\n",
        "$\\text{moyenne} = \\frac{- \\text{moyenne}}{\\text{écart-type}}$\n",
        "\n",
        "$\\text{écart-type} = \\frac{1}{\\text{écart-type}}$.\n",
        "\n",
        "Vous pouvez tester l'affichage sans cette manipulation pour constater son effet."
      ]
    },
    {
      "cell_type": "code",
      "source": [
        "mean = imgs.view(3, -1).mean(dim=1).numpy()\n",
        "std = imgs.view(3, -1).std(dim=1).numpy()\n",
        "\n",
        "unorm = transforms.Normalize(mean=-mean/std,\n",
        "                             std=1/std)"
      ],
      "metadata": {
        "id": "Cmw0-KENKpJv"
      },
      "execution_count": null,
      "outputs": []
    },
    {
      "cell_type": "code",
      "execution_count": null,
      "metadata": {
        "colab": {
          "base_uri": "https://localhost:8080/",
          "height": 428
        },
        "id": "X-I5kZ8bzxlh",
        "outputId": "e3b5f2f7-d1cb-465e-d94a-2df8bcf0f4f9"
      },
      "outputs": [
        {
          "output_type": "display_data",
          "data": {
            "text/plain": [
              "<Figure size 640x480 with 9 Axes>"
            ],
            "image/png": "[encoded data removed]"
          },
          "metadata": {}
        }
      ],
      "source": [
        "labels_map = {\n",
        "    0: \"airplane\",\n",
        "    1: \"automobile\",\n",
        "    2: \"bird\",\n",
        "    3: \"cat\",\n",
        "    4: \"deer\",\n",
        "    5: \"dog\",\n",
        "    6: \"frog\",\n",
        "    7: \"horse\",\n",
        "    8: \"ship\",\n",
        "    9: \"truck\",\n",
        "}\n",
        "\n",
        "figure = plt.figure()\n",
        "cols, rows = 3, 3\n",
        "for i in range(1, cols * rows + 1):\n",
        "    sample_idx = torch.randint(len(training_data), size=(1,)).item()\n",
        "    img, label = training_data[sample_idx]\n",
        "    img = unorm(img).permute(1, 2, 0) # Pour inverser l'ordre des canaux : [3, 32, 32] à [32, 32, 3]\n",
        "    figure.add_subplot(rows, cols, i)\n",
        "    plt.title(labels_map[label])\n",
        "    plt.axis(\"off\")\n",
        "    plt.imshow(img)\n",
        "plt.show()"
      ]
    },
    {
      "cell_type": "markdown",
      "metadata": {
        "id": "dWaoLFg4umBG"
      },
      "source": [
        "### 1.3 Dataloader\n",
        "\n",
        "La fonctionnalité *DataLoader* permet d'itérer sur une instance de *Dataset* afin d'accéder facilement aux échantillons un à un ou par batch.\n",
        "\n",
        "La spécification *shuffle=True* permet de mélanger les données après avoir itéré sur tous les lots."
      ]
    },
    {
      "cell_type": "code",
      "execution_count": null,
      "metadata": {
        "id": "5pVFnbAC98BV"
      },
      "outputs": [],
      "source": [
        "train_loader = DataLoader(\n",
        "    training_data,\n",
        "    batch_size=64,\n",
        "    shuffle=True)\n"
      ]
    },
    {
      "cell_type": "code",
      "execution_count": null,
      "metadata": {
        "colab": {
          "base_uri": "https://localhost:8080/"
        },
        "id": "1ETLUDKwpLCr",
        "outputId": "1a64e57c-e64f-434c-93a4-a8da3b027608"
      },
      "outputs": [
        {
          "output_type": "stream",
          "name": "stdout",
          "text": [
            "Taille des features: torch.Size([64, 3, 32, 32])\n",
            "Taille des labels: torch.Size([64])\n"
          ]
        }
      ],
      "source": [
        "train_features, train_labels = next(iter(train_loader))\n",
        "print(f\"Taille des features: {train_features.size()}\")\n",
        "print(f\"Taille des labels: {train_labels.size()}\")"
      ]
    },
    {
      "cell_type": "markdown",
      "metadata": {
        "id": "Mp3HkqnQ2CLZ"
      },
      "source": [
        "**Consigne** : préparer de même le *DataLoader* pour le jeu test"
      ]
    },
    {
      "cell_type": "code",
      "execution_count": null,
      "metadata": {
        "id": "m4Ycmqn-2CUx"
      },
      "outputs": [],
      "source": [
        "# .... A FAIRE ....\n",
        "test_loader = test_loader = DataLoader(\n",
        "    test_data,\n",
        "    batch_size=64,\n",
        "    shuffle=True)\n",
        "\n",
        "test_features, test_labels = next(iter(test_loader))\n",
        "print(f\"Taille des features: {test_features.size()}\")\n",
        "print(f\"Taille des labels: {test_labels.size()}\")"
      ]
    },
    {
      "cell_type": "markdown",
      "metadata": {
        "id": "F4eZTJsu1970"
      },
      "source": [
        "#### Solution"
      ]
    },
    {
      "cell_type": "code",
      "execution_count": null,
      "metadata": {
        "id": "VcEpMard1-NE"
      },
      "outputs": [],
      "source": [
        "test_loader = DataLoader(\n",
        "    test_data,\n",
        "    batch_size=64,\n",
        "    shuffle=True)"
      ]
    },
    {
      "cell_type": "code",
      "execution_count": null,
      "metadata": {
        "colab": {
          "base_uri": "https://localhost:8080/"
        },
        "id": "d9PdJQUopGop",
        "outputId": "feeedfdc-5d84-41da-dff6-6114b33f59a5"
      },
      "outputs": [
        {
          "output_type": "stream",
          "name": "stdout",
          "text": [
            "Taille des features: torch.Size([64, 3, 32, 32])\n",
            "Taille des labels: torch.Size([64])\n"
          ]
        }
      ],
      "source": [
        "test_features, test_labels = next(iter(test_loader))\n",
        "print(f\"Taille des features: {test_features.size()}\")\n",
        "print(f\"Taille des labels: {test_labels.size()}\")"
      ]
    },
    {
      "cell_type": "markdown",
      "metadata": {
        "id": "EWOPXKMRwgxS"
      },
      "source": [
        "### 1.4 Visualisation des données\n",
        "\n",
        "Nous pouvons désormais itérer à travers le jeu de données selon nos besoins. Le code ci-dessous permet de renvoyer un lot de *features* et *labels* du jeu de données d'entraînement de 64 éléments (car notre taille de batch est de 64)."
      ]
    },
    {
      "cell_type": "code",
      "execution_count": 1,
      "metadata": {
        "colab": {
          "base_uri": "https://localhost:8080/",
          "height": 216
        },
        "id": "UNaO9Y969-Nx",
        "outputId": "c8eab5d9-4741-4c11-a538-751dfe466eb2"
      },
      "outputs": [
        {
          "output_type": "error",
          "ename": "NameError",
          "evalue": "name 'train_loader' is not defined",
          "traceback": [
            "\u001b[0;31m---------------------------------------------------------------------------\u001b[0m",
            "\u001b[0;31mNameError\u001b[0m                                 Traceback (most recent call last)",
            "\u001b[0;32m<ipython-input-1-0d2aaeb01775>\u001b[0m in \u001b[0;36m<cell line: 0>\u001b[0;34m()\u001b[0m\n\u001b[1;32m      1\u001b[0m \u001b[0;31m# Récupérer des images d'entraînement de manière aléatoire :\u001b[0m\u001b[0;34m\u001b[0m\u001b[0;34m\u001b[0m\u001b[0m\n\u001b[0;32m----> 2\u001b[0;31m \u001b[0mdataiter\u001b[0m \u001b[0;34m=\u001b[0m \u001b[0miter\u001b[0m\u001b[0;34m(\u001b[0m\u001b[0mtrain_loader\u001b[0m\u001b[0;34m)\u001b[0m\u001b[0;34m\u001b[0m\u001b[0;34m\u001b[0m\u001b[0m\n\u001b[0m\u001b[1;32m      3\u001b[0m \u001b[0mtrain_features\u001b[0m\u001b[0;34m,\u001b[0m \u001b[0mtrain_labels\u001b[0m \u001b[0;34m=\u001b[0m \u001b[0mnext\u001b[0m\u001b[0;34m(\u001b[0m\u001b[0mdataiter\u001b[0m\u001b[0;34m)\u001b[0m\u001b[0;34m\u001b[0m\u001b[0;34m\u001b[0m\u001b[0m\n\u001b[1;32m      4\u001b[0m \u001b[0;34m\u001b[0m\u001b[0m\n\u001b[1;32m      5\u001b[0m \u001b[0;32mdef\u001b[0m \u001b[0mimshow\u001b[0m\u001b[0;34m(\u001b[0m\u001b[0mimg\u001b[0m\u001b[0;34m)\u001b[0m\u001b[0;34m:\u001b[0m\u001b[0;34m\u001b[0m\u001b[0;34m\u001b[0m\u001b[0m\n",
            "\u001b[0;31mNameError\u001b[0m: name 'train_loader' is not defined"
          ]
        }
      ],
      "source": [
        "# Récupérer des images d'entraînement de manière aléatoire :\n",
        "dataiter = iter(train_loader)\n",
        "train_features, train_labels = next(dataiter)\n",
        "\n",
        "def imshow(img):\n",
        "  img = unorm(img).swapaxes(0, 2).swapaxes(0, 1) # Pour inverser l'ordre des canaux : [3, 32, 32] à [32, 32, 3]\n",
        "  plt.imshow(img)\n",
        "  plt.show()\n",
        "\n",
        "# Afficher les images\n",
        "imshow(torchvision.utils.make_grid(train_features[0:6]))\n",
        "# Afficher les labels\n",
        "print(' '.join('%5s' % classes[train_labels[j]] for j in range(6)))"
      ]
    },
    {
      "cell_type": "markdown",
      "metadata": {
        "id": "9Hn25ingY5mz"
      },
      "source": [
        "## 2. Implémentation des modèles\n",
        "\n",
        "Les images sont des grilles bidimensionnelles de pixels. Nous allons comparer deux approches de traitement d'images :\n",
        "- une première avec un modèle de perceptron multicouches (MLP) traitant cette structure très riche comme un vecteur de nombres, sans tenir compte de la relation spatiale entre les pixels.\n",
        "- un réseau de neurones convolutif (CNN) qui prend en compte la structure spatiale des images grâce à des filtres de convolution."
      ]
    },
    {
      "cell_type": "markdown",
      "metadata": {
        "id": "zDr40PT1PCmg"
      },
      "source": [
        "### 2.1 Définir le perceptron multi-couches\n",
        "\n",
        "Nous avons déjà vu ce modèle de réseau de neurones dans le TP précédent. Pour rendre les données images exploitables dans un perceptron multicouches, nous allons d'abord aplatir (*flatten*) chaque image à partir d'une matrice de taille 32x32 avec 3 canaux rouge, vert, bleu, en un vecteur de longueur fixe de 32x32x3 = 3072, puis nous allons les traiter dans des couches entièrement connectées.\n",
        "\n",
        "**Consignes** :\n",
        "- implémenter la classe définissant un perceptron multi-couches avec 4 couches entièrement connectées suivies de ReLU, et de tailles suivantes :\n",
        "  - (input_size, 64)\n",
        "  - (64, 64)\n",
        "  - (64, 64)\n",
        "  - (64, num_classes)\n",
        "- instancier un modèle de perceptron multi-couches"
      ]
    },
    {
      "cell_type": "code",
      "execution_count": null,
      "metadata": {
        "id": "N1_ahMKYTd-H"
      },
      "outputs": [],
      "source": [
        "# .... A FAIRE ....\n",
        "# Compléter la définition de la classe MLP ci-dessous\n",
        "\n",
        "class MLP(nn.Module):\n",
        "    def __init__(self):\n",
        "        super(MLP, self).__init__()\n",
        "        num_classes = 10\n",
        "\n",
        "        self.net = nn.Sequential(\n",
        "            nn.Linear(32 * 32 * 3, 64),\n",
        "            nn.ReLU(),\n",
        "            nn.Linear(64, 64),\n",
        "            nn.ReLU(),\n",
        "            nn.Linear(64, 64),\n",
        "            nn.ReLU(),\n",
        "            nn.Linear(64, num_classes),\n",
        "        )\n",
        "\n",
        "    def forward(self, x):\n",
        "        x = x.view(-1, 32 * 32 * 3)\n",
        "        x = self.net(x)\n",
        "        x = torch.softmax(x, dim=1)\n",
        "        return x"
      ]
    },
    {
      "cell_type": "code",
      "execution_count": null,
      "metadata": {
        "id": "B_ZOPvI4T1DS",
        "colab": {
          "base_uri": "https://localhost:8080/"
        },
        "outputId": "8abf8dfe-b6a6-4ab1-be8f-f79d61b93081"
      },
      "outputs": [
        {
          "output_type": "stream",
          "name": "stdout",
          "text": [
            "----------------------------------------------------------------\n",
            "        Layer (type)               Output Shape         Param #\n",
            "================================================================\n",
            "            Linear-1                   [-1, 64]         196,672\n",
            "              ReLU-2                   [-1, 64]               0\n",
            "            Linear-3                   [-1, 64]           4,160\n",
            "              ReLU-4                   [-1, 64]               0\n",
            "            Linear-5                   [-1, 64]           4,160\n",
            "              ReLU-6                   [-1, 64]               0\n",
            "            Linear-7                   [-1, 10]             650\n",
            "================================================================\n",
            "Total params: 205,642\n",
            "Trainable params: 205,642\n",
            "Non-trainable params: 0\n",
            "----------------------------------------------------------------\n",
            "Input size (MB): 0.01\n",
            "Forward/backward pass size (MB): 0.00\n",
            "Params size (MB): 0.78\n",
            "Estimated Total Size (MB): 0.80\n",
            "----------------------------------------------------------------\n"
          ]
        }
      ],
      "source": [
        "mlp = MLP().to(device)\n",
        "summary(mlp,(3,32,32))"
      ]
    },
    {
      "cell_type": "markdown",
      "metadata": {
        "id": "_9qrXE-7TeFx"
      },
      "source": [
        "#### Solution"
      ]
    },
    {
      "cell_type": "code",
      "execution_count": null,
      "metadata": {
        "id": "qxBOfmcLY6pw"
      },
      "outputs": [],
      "source": [
        "class MLP(nn.Module):\n",
        "    def __init__(self):\n",
        "        super(MLP, self).__init__()\n",
        "        num_classes = 10\n",
        "\n",
        "        self.net = nn.Sequential(\n",
        "            nn.Linear(32 * 32 * 3, 64),\n",
        "            nn.ReLU(),\n",
        "            nn.Linear(64, 64),\n",
        "            nn.ReLU(),\n",
        "            nn.Linear(64, 64),\n",
        "            nn.ReLU(),\n",
        "            nn.Linear(64, num_classes),\n",
        "        )\n",
        "\n",
        "    def forward(self, x):\n",
        "        x = x.view(-1, 32 * 32 * 3)\n",
        "        x = self.net(x)\n",
        "        x = torch.softmax(x, dim=1)\n",
        "        return x"
      ]
    },
    {
      "cell_type": "code",
      "execution_count": null,
      "metadata": {
        "colab": {
          "base_uri": "https://localhost:8080/"
        },
        "id": "_nXhyEF1UiMR",
        "outputId": "93e49591-5cbf-4c98-d202-1df496e4f0db"
      },
      "outputs": [
        {
          "output_type": "stream",
          "name": "stdout",
          "text": [
            "----------------------------------------------------------------\n",
            "        Layer (type)               Output Shape         Param #\n",
            "================================================================\n",
            "            Linear-1                   [-1, 64]         196,672\n",
            "              ReLU-2                   [-1, 64]               0\n",
            "            Linear-3                   [-1, 64]           4,160\n",
            "              ReLU-4                   [-1, 64]               0\n",
            "            Linear-5                   [-1, 64]           4,160\n",
            "              ReLU-6                   [-1, 64]               0\n",
            "            Linear-7                   [-1, 10]             650\n",
            "================================================================\n",
            "Total params: 205,642\n",
            "Trainable params: 205,642\n",
            "Non-trainable params: 0\n",
            "----------------------------------------------------------------\n",
            "Input size (MB): 0.01\n",
            "Forward/backward pass size (MB): 0.00\n",
            "Params size (MB): 0.78\n",
            "Estimated Total Size (MB): 0.80\n",
            "----------------------------------------------------------------\n"
          ]
        }
      ],
      "source": [
        "mlp = MLP().to(device)\n",
        "summary(mlp,(3,32,32))"
      ]
    },
    {
      "cell_type": "markdown",
      "metadata": {
        "id": "wYWI7migLqRK"
      },
      "source": [
        "### 2.2 Découvrir les fonctions de PyTorch constituant les CNN\n",
        "\n",
        "La fonction *torch.randn* retourne un tenseur rempli de nombres aléatoire suivant une distribution normale de moyenne 0 et de variance 1. Elle nous permet de définir un tenseur pour tester les effets de convolutions 2d avec différents paramètres.\n",
        "\n",
        "\n",
        "La fonction *nn.Conv2d* applique une convolution 2D sur un signal en entrée. On définit les paramètres suivants :\n",
        "- *in_channels* : le nombre de canaux en entrée\n",
        "- *out_channels* : le nombre de canaux en sortie\n",
        "- *kernel_size* : la taille du noyau\n",
        "- *stride=1* : de valeur 1 par défaut\n",
        "- *padding=0* : de valeur 0 par défaut\n",
        "\n",
        "\n",
        "La fonction *nn.MaxPool2d* applique un max-pooling avec les paramètres suivants :\n",
        "- *kernel_size* : taille du noyau\n",
        "- *stride=None* : par défaut pas de stride\n",
        "- *padding=0* : par défaut padding à 0\n",
        "\n",
        "**Consignes** :\n",
        "- Tester les différentes fonctions et leurs paramètres pour comprendre leur fonctionnement\n",
        "- Comparer les tailles des vecteurs en sortie"
      ]
    },
    {
      "cell_type": "code",
      "execution_count": null,
      "metadata": {
        "colab": {
          "base_uri": "https://localhost:8080/",
          "height": 140
        },
        "id": "oX7TJdBc9xE0",
        "outputId": "ad8bc03f-eb17-4327-bb8c-0b2db0124e6e"
      },
      "outputs": [
        {
          "ename": "SyntaxError",
          "evalue": "ignored",
          "output_type": "error",
          "traceback": [
            "\u001b[0;36m  File \u001b[0;32m\"<ipython-input-15-d0d50b0181eb>\"\u001b[0;36m, line \u001b[0;32m6\u001b[0m\n\u001b[0;31m    conv1 = ???\u001b[0m\n\u001b[0m            ^\u001b[0m\n\u001b[0;31mSyntaxError\u001b[0m\u001b[0;31m:\u001b[0m invalid syntax\n"
          ]
        }
      ],
      "source": [
        "# Nous allons appliquer des convolutions à un tenseur en entrée défini avec la fonction randn :\n",
        "input = torch.randn(32, 32, 3)\n",
        "\n",
        "# .... A FAIRE ....\n",
        "# Convolution de taille en sortie avec un noyau carré de taille 3 et un stride de 2\n",
        "conv1 = ???\n",
        "x1 = conv1(input)\n",
        "print(x1.shape)\n",
        "\n",
        "# Convolution avec 5 canaux en sortie, un noyau nde taille 3x5, un padding de 4x2 et un stride de 2x1\n",
        "conv2 = ???\n",
        "x2 = conv2(input)\n",
        "print(x2.shape)\n",
        "\n",
        "# Pooling d'une taille 2x2 avec un stride de 2\n",
        "pool1 = ???\n",
        "x3 = pool1(input)\n",
        "print(x3.shape)\n",
        "\n",
        "# Pooling de taille 3x2 avec un stride de 2x1\n",
        "pool2 = ???\n",
        "x4 = pool2(input)\n",
        "print(x4.shape)"
      ]
    },
    {
      "cell_type": "markdown",
      "metadata": {
        "id": "q7-xsx8gCKpw"
      },
      "source": [
        "#### Solution"
      ]
    },
    {
      "cell_type": "code",
      "execution_count": null,
      "metadata": {
        "colab": {
          "base_uri": "https://localhost:8080/"
        },
        "id": "l72Rxxh7CKwS",
        "outputId": "d2862722-6ad8-42d7-cce6-73c72c47d87e"
      },
      "outputs": [
        {
          "output_type": "stream",
          "name": "stdout",
          "text": [
            "torch.Size([1, 3, 32, 32])\n",
            "torch.Size([1, 5, 15, 15])\n",
            "torch.Size([1, 5, 19, 32])\n",
            "torch.Size([1, 3, 16, 16])\n",
            "torch.Size([1, 3, 15, 31])\n"
          ]
        }
      ],
      "source": [
        "# Nous allons appliquer des convolutions à un tenseur en entrée défini avec la fonction randn :\n",
        "input = torch.randn(1, 3, 32, 32)\n",
        "print(input.shape)\n",
        "\n",
        "# Convolution avec 5 canaux en sortie, un noyau de taille 3x3 et un stride de 2\n",
        "conv1 = nn.Conv2d(3, 5, 3, stride=2)\n",
        "x1 = conv1(input)\n",
        "print(x1.shape)\n",
        "\n",
        "# Convolution avec 5 canaux en sortie, un noyau nde taille 3x5, un padding de 4x2 et un stride de 2x1\n",
        "conv2 = nn.Conv2d(3, 5, (3, 5), stride=(2, 1), padding=(4, 2))\n",
        "x2 = conv2(input)\n",
        "print(x2.shape)\n",
        "\n",
        "# Pooling d'une taille 2x2 avec un stride de 2\n",
        "pool1 = nn.MaxPool2d(2, stride=2)\n",
        "x3 = pool1(input)\n",
        "print(x3.shape)\n",
        "\n",
        "# Pooling de taille 3x2 avec un stride de 2x1\n",
        "pool2 = nn.MaxPool2d((3,2), stride=(2,1))\n",
        "x4 = pool2(input)\n",
        "print(x4.shape)"
      ]
    },
    {
      "cell_type": "markdown",
      "metadata": {
        "id": "k-TbV44zPFAy"
      },
      "source": [
        "### 2.3 Définir le réseau de neurones convolutif (CNN)\n",
        "\n",
        "Maintenant que nous maîtrisons les couches convolutives, nous pouvons conserver la structure spatiale de nos données images en entrée avec un modèle adapté.\n",
        "\n",
        "Les CNN ont été spécialement conçus pour la vision par ordinateur et sont dotés de couches de convolution. Les couches de convolution effectuent des opérations de filtrage sur l'image d'entrée, permettant ainsi de capturer des caractéristiques locales.\n",
        "\n",
        "Le remplacement des couches entièrement connectées par des couches convolutives présente un avantage supplémentaire, nous bénéficierons de modèles plus parcimonieux qui nécessitent beaucoup moins de paramètres.\n",
        "\n",
        "\n",
        "\n",
        "**Consigne** :\n",
        "- implémenter une classe définissant le modèle LeNet avec ce que l'on a vu en cours et le schéma ci-dessous.\n",
        "- créer une instance du modèle LeNet"
      ]
    },
    {
      "cell_type": "markdown",
      "metadata": {
        "id": "pRSDsbUpO4Sf"
      },
      "source": [
        "![](https://media5.datahacker.rs/2018/11/leNet5_2.png)"
      ]
    },
    {
      "cell_type": "code",
      "execution_count": null,
      "metadata": {
        "id": "kydK6u8UOalM"
      },
      "outputs": [],
      "source": [
        "# .... A FAIRE ....\n",
        "class LeNet(nn.Module):\n",
        "  def __init__(self):\n",
        "    super(LeNet, self).__init__()\n",
        "    ???\n",
        "\n",
        "  def forward(self, x):\n",
        "    ???\n",
        "    return x"
      ]
    },
    {
      "cell_type": "code",
      "execution_count": null,
      "metadata": {
        "id": "F6kpHFGeOgUa"
      },
      "outputs": [],
      "source": [
        "# .... A FAIRE ....\n",
        "lenet = ???\n",
        "summary(???)"
      ]
    },
    {
      "cell_type": "markdown",
      "source": [
        "#### Solution intermédiaire"
      ],
      "metadata": {
        "id": "TxQQKzoYbC4I"
      }
    },
    {
      "cell_type": "code",
      "source": [
        "class LeNet(nn.Module):\n",
        "  def __init__(self):\n",
        "    super(LeNet, self).__init__()\n",
        "\n",
        "    self.pool = ?\n",
        "    self.relu = ?\n",
        "\n",
        "    self.conv1 = nn.Conv2d(3, 6, 5) # Nous adaptons le réseau de 1 canal monochromatique à une image couleur\n",
        "    self.conv2 = nn.Conv2d(?,?)\n",
        "    self.fc1 = nn.Linear(16*5*5, 120)\n",
        "    self.fc2 = nn.Linear(?,?)\n",
        "    self.fc3 = nn.Linear(84, ?) # Comment de classes en sortie ?\n",
        "\n",
        "  def forward(self, x):\n",
        "    x = self.pool(self.relu(self.conv1(x)))\n",
        "    x = self.pool(self.relu(self.conv2(x)))\n",
        "    x = x.view(-1, 16 * 5 * 5) # y.view(y.shape[0], -1)\n",
        "    x = self.relu(self.fc1(x))\n",
        "    x = self.relu(self.fc2(x))\n",
        "    x = torch.softmax(self.fc3(x),dim=1)\n",
        "    return x"
      ],
      "metadata": {
        "id": "G7M9HVaGbDOk",
        "colab": {
          "base_uri": "https://localhost:8080/",
          "height": 108
        },
        "outputId": "06f88b0f-65e1-4118-89b0-1ae8ec1d2720"
      },
      "execution_count": null,
      "outputs": [
        {
          "output_type": "error",
          "ename": "SyntaxError",
          "evalue": "invalid syntax (<ipython-input-32-2b8e0da758e9>, line 5)",
          "traceback": [
            "\u001b[0;36m  File \u001b[0;32m\"<ipython-input-32-2b8e0da758e9>\"\u001b[0;36m, line \u001b[0;32m5\u001b[0m\n\u001b[0;31m    self.pool = ?\u001b[0m\n\u001b[0m                ^\u001b[0m\n\u001b[0;31mSyntaxError\u001b[0m\u001b[0;31m:\u001b[0m invalid syntax\n"
          ]
        }
      ]
    },
    {
      "cell_type": "markdown",
      "metadata": {
        "id": "E7oDglX0OasW"
      },
      "source": [
        "#### Solution"
      ]
    },
    {
      "cell_type": "code",
      "execution_count": null,
      "metadata": {
        "id": "_IIMO_WBPFIa"
      },
      "outputs": [],
      "source": [
        "class LeNet(nn.Module):\n",
        "  def __init__(self):\n",
        "    super(LeNet, self).__init__()\n",
        "\n",
        "    self.pool = nn.MaxPool2d(2, 2)\n",
        "    self.relu = nn.ReLU()\n",
        "\n",
        "    self.conv1 = nn.Conv2d(3, 6, 5) #Nous adaptons le réseau de 1 canal monochromatique à une image couleur\n",
        "    self.conv2 = nn.Conv2d(6, 16, 5)\n",
        "    self.fc1 = nn.Linear(16*5*5, 120)\n",
        "    self.fc2 = nn.Linear(120, 84)\n",
        "    self.fc3 = nn.Linear(84, 10)\n",
        "\n",
        "  def forward(self, x):\n",
        "    x = self.pool(self.relu(self.conv1(x)))\n",
        "    x = self.pool(self.relu(self.conv2(x)))\n",
        "    x = x.view(-1, 16 * 5 * 5) # y.view(y.shape[0], -1)\n",
        "    x = self.relu(self.fc1(x))\n",
        "    x = self.relu(self.fc2(x))\n",
        "    x = torch.softmax(self.fc3(x),dim=1)\n",
        "    return x"
      ]
    },
    {
      "cell_type": "code",
      "execution_count": null,
      "metadata": {
        "colab": {
          "base_uri": "https://localhost:8080/"
        },
        "id": "94vhYeRsZAM_",
        "outputId": "cf179a0e-91ec-40f4-e22b-aa7de824d5cb"
      },
      "outputs": [
        {
          "output_type": "stream",
          "name": "stdout",
          "text": [
            "----------------------------------------------------------------\n",
            "        Layer (type)               Output Shape         Param #\n",
            "================================================================\n",
            "            Conv2d-1            [-1, 6, 28, 28]             456\n",
            "              ReLU-2            [-1, 6, 28, 28]               0\n",
            "         MaxPool2d-3            [-1, 6, 14, 14]               0\n",
            "            Conv2d-4           [-1, 16, 10, 10]           2,416\n",
            "              ReLU-5           [-1, 16, 10, 10]               0\n",
            "         MaxPool2d-6             [-1, 16, 5, 5]               0\n",
            "            Linear-7                  [-1, 120]          48,120\n",
            "              ReLU-8                  [-1, 120]               0\n",
            "            Linear-9                   [-1, 84]          10,164\n",
            "             ReLU-10                   [-1, 84]               0\n",
            "           Linear-11                   [-1, 10]             850\n",
            "================================================================\n",
            "Total params: 62,006\n",
            "Trainable params: 62,006\n",
            "Non-trainable params: 0\n",
            "----------------------------------------------------------------\n",
            "Input size (MB): 0.01\n",
            "Forward/backward pass size (MB): 0.11\n",
            "Params size (MB): 0.24\n",
            "Estimated Total Size (MB): 0.36\n",
            "----------------------------------------------------------------\n"
          ]
        }
      ],
      "source": [
        "lenet = LeNet().to(device)\n",
        "summary(lenet,(3,32,32))"
      ]
    },
    {
      "cell_type": "markdown",
      "metadata": {
        "id": "HGPAm6luZCoD"
      },
      "source": [
        "## 3. Entraînement et évaluation des modèles\n",
        "\n",
        "**Objectif de l'algorithme d'optimisation** : trouver la meilleure combinaison de paramètres qui minimise la fonction de coût\n"
      ]
    },
    {
      "cell_type": "code",
      "execution_count": null,
      "metadata": {
        "id": "36FMkr8ry2pE"
      },
      "outputs": [],
      "source": [
        "def accuracy(dataloader, net):\n",
        "  net.eval()\n",
        "  correct = 0\n",
        "  total = 0\n",
        "\n",
        "  with torch.no_grad():\n",
        "    for data in dataloader:\n",
        "      inputs, labels = data\n",
        "      inputs = inputs.to(device)\n",
        "      labels = labels.to(device)\n",
        "      outputs = net(inputs)\n",
        "\n",
        "      _, predicted = torch.max(outputs.data, 1)\n",
        "      total += labels.size(0)\n",
        "      correct += (predicted == labels).sum().item() # nombre de prédictions correctes\n",
        "\n",
        "  accuracy_per_epoch = 100 * correct / total\n",
        "  return accuracy_per_epoch"
      ]
    },
    {
      "cell_type": "code",
      "execution_count": null,
      "metadata": {
        "id": "t4Y8iFVNZAR5"
      },
      "outputs": [],
      "source": [
        "def train(train_loader, net, optimizer, criterion, running_loss, epoch):\n",
        "  net.train() # Passer le modèle en mode d'entraînement\n",
        "\n",
        "  for i, data in enumerate(train_loader): # On passe les exemples d'entraînement par lots (batch_size=64) dans le modèle.\n",
        "    input, label = data\n",
        "    input = input.to(device)\n",
        "    label = label.to(device)\n",
        "\n",
        "    optimizer.zero_grad() # On met les gradients des paramètres à zéro\n",
        "    output = net(input) # On calcule la prédiction du réseau\n",
        "    loss = criterion(output, label) # On calcule la fonction de coût\n",
        "    loss.backward() # On calcule les gradients (rétropropagation)\n",
        "    optimizer.step() # On met à jours les gradients\n",
        "\n",
        "    # Pour les statistiques et suivi de l'apprentissage :\n",
        "    running_loss += loss.item() # on conserve le score de la fonction de coût à cette étape\n",
        "\n",
        "    if i % 100 == 99:\n",
        "      print(\"Epoch:{}, Iteration:{}, Loss:{:.3f}\".format(epoch + 1, i + 1, running_loss / (i+1)))\n",
        "    # On répète l'opération pour tous les autres lots jusqu'à ce que toutes les données d'entraînement soient passées dans le modèle.\n",
        "  loss_per_epoch = round(running_loss/len(train_loader), 3)\n",
        "  return loss_per_epoch"
      ]
    },
    {
      "cell_type": "markdown",
      "source": [
        "**Remarque** : Nous avons vu que la fonction *forward()* du modèle fonctionne différemment en phase d’entraînement et d’inférence. Certaines couches se comportent différemment pendant l’apprentissage et l’inférence (dropouts, batchnorm, etc.) et doivent être désactivées durant l’évaluation du modèle, ce qui est réalisé avec la fonction *eval()*."
      ],
      "metadata": {
        "id": "dJ5j-RJQw7fM"
      }
    },
    {
      "cell_type": "markdown",
      "metadata": {
        "id": "u3EnJxbmQuwQ"
      },
      "source": [
        "### 3.1 Entraînement du perceptron multicouches\n",
        "\n",
        "**Consignes** :\n",
        "- Définir les hyperparamètres du perceptron multicouches:\n",
        "    - criterion\n",
        "    - optimizer\n",
        "    - epochs\n",
        "\n",
        "- Lancer l'entraînement du perceptron multicouches sur le jeu de données d'entraînement\n"
      ]
    },
    {
      "cell_type": "markdown",
      "metadata": {
        "id": "qOJ5mEPNSTG6"
      },
      "source": [
        "#### Solution"
      ]
    },
    {
      "cell_type": "code",
      "execution_count": null,
      "metadata": {
        "colab": {
          "base_uri": "https://localhost:8080/"
        },
        "id": "ZKw9xlM7Qu6X",
        "outputId": "9bb4150d-a7fe-46ac-baf0-42c43fc209c3"
      },
      "outputs": [
        {
          "output_type": "stream",
          "name": "stdout",
          "text": [
            "Epoch:1, Iteration:100, Loss:2.254\n",
            "Epoch:1, Iteration:200, Loss:1.972\n",
            "Epoch:1, Iteration:300, Loss:1.839\n",
            "Epoch:1, Iteration:400, Loss:1.753\n",
            "Epoch:1, Iteration:500, Loss:1.690\n",
            "Epoch:1, Iteration:600, Loss:1.636\n",
            "Epoch:1, Iteration:700, Loss:1.588\n",
            "Accuracy of the network on the test images: 53 %\n",
            "Epoch:2, Iteration:100, Loss:1.193\n",
            "Epoch:2, Iteration:200, Loss:1.188\n",
            "Epoch:2, Iteration:300, Loss:1.170\n",
            "Epoch:2, Iteration:400, Loss:1.158\n",
            "Epoch:2, Iteration:500, Loss:1.150\n",
            "Epoch:2, Iteration:600, Loss:1.136\n",
            "Epoch:2, Iteration:700, Loss:1.126\n",
            "Accuracy of the network on the test images: 58 %\n",
            "Epoch:3, Iteration:100, Loss:0.907\n"
          ]
        }
      ],
      "source": [
        "mlp = torchvision.models.resnet18().to(device)\n",
        "\n",
        "criterion_mlp = nn.CrossEntropyLoss()\n",
        "optimizer_mlp = optim.SGD(mlp.parameters(), lr=0.005, momentum=0.9)\n",
        "epochs_mlp = 10\n",
        "train_loss_mlp = []\n",
        "train_accuracy_mlp = []\n",
        "test_accuracy_mlp = []\n",
        "\n",
        "start = time.time()\n",
        "for epoch in range(epochs_mlp): # itérations sur le jeu de données sur plusieurs époques\n",
        "    running_loss = 0.0\n",
        "    training_loss = train(train_loader, mlp, optimizer_mlp, criterion_mlp, running_loss, epoch)\n",
        "    training_accuracy = accuracy(train_loader, mlp)\n",
        "    testing_accuracy = accuracy(test_loader, mlp)\n",
        "    print('Accuracy of the network on the test images: %d %%' % testing_accuracy)\n",
        "\n",
        "    train_loss_mlp.append(training_loss)\n",
        "    train_accuracy_mlp.append(training_accuracy)\n",
        "    test_accuracy_mlp.append(testing_accuracy)\n",
        "end = time.time()\n",
        "print(f'Entrainement terminé en {end-start} secondes.')"
      ]
    },
    {
      "cell_type": "markdown",
      "metadata": {
        "id": "swEn_PffQ095"
      },
      "source": [
        "### 3.2 Entraînement du réseau de neurones convolutif\n",
        "\n",
        "**Consignes** :\n",
        "- Définir les hyperparamètres du modèle LeNet:\n",
        "    - criterion\n",
        "    - optimizer\n",
        "    - epochs\n",
        "\n",
        "- Lancer l'entraînement de l'instance de LeNet sur le jeu de données d'entraînement"
      ]
    },
    {
      "cell_type": "code",
      "execution_count": null,
      "metadata": {
        "id": "5HpCiaCSVubo"
      },
      "outputs": [],
      "source": []
    },
    {
      "cell_type": "markdown",
      "metadata": {
        "id": "Qbh-NdSFVuj_"
      },
      "source": [
        "#### Solution"
      ]
    },
    {
      "cell_type": "code",
      "execution_count": null,
      "metadata": {
        "id": "eWogEAzSVuqm"
      },
      "outputs": [],
      "source": [
        "lenet = LeNet().to(device)\n",
        "criterion_lenet = nn.CrossEntropyLoss()\n",
        "optimizer_lenet = optim.SGD(lenet.parameters(), lr=0.005, momentum=0.9)\n",
        "epochs_lenet = 10\n",
        "train_loss_lenet = []\n",
        "train_accuracy_lenet = []\n",
        "test_accuracy_lenet = []\n",
        "\n",
        "start = time.time()\n",
        "for epoch in range(epochs_lenet):\n",
        "    running_loss = 0.0\n",
        "    training_loss = train(train_loader, lenet, optimizer_lenet, criterion_lenet, running_loss, epoch)\n",
        "    training_accuracy = accuracy(train_loader, lenet)\n",
        "    testing_accuracy = accuracy(test_loader, lenet)\n",
        "    print('Accuracy of the network on the test images: %d %%' % testing_accuracy)\n",
        "\n",
        "    train_loss_lenet.append(training_loss)\n",
        "    train_accuracy_lenet.append(training_accuracy)\n",
        "    test_accuracy_lenet.append(testing_accuracy)\n",
        "end = time.time()\n",
        "print(f'Entrainement terminé en {end-start} secondes.')"
      ]
    },
    {
      "cell_type": "markdown",
      "metadata": {
        "id": "d6hfs2jlgNLd"
      },
      "source": [
        "### 3.3 Visualisation des performances des modèles"
      ]
    },
    {
      "cell_type": "code",
      "execution_count": null,
      "metadata": {
        "id": "vtUDAJHSgLjG"
      },
      "outputs": [],
      "source": [
        "plt.figure(figsize=(5, 3))\n",
        "plt.plot(np.arange(len(train_loss_mlp)), train_loss_mlp)"
      ]
    },
    {
      "cell_type": "code",
      "source": [
        "plt.plot(np.arange(len(train_accuracy_mlp)), train_accuracy_mlp, label=\"training\")\n",
        "plt.plot(np.arange(len(test_accuracy_mlp)), test_accuracy_mlp, label = \"validation\")\n",
        "\n",
        "plt.xlabel(\"epoch\")\n",
        "plt.ylabel(\"accuracy\")\n",
        "plt.title('Multilayer perpectron accuracy')\n",
        "\n",
        "plt.legend(loc='lower right')\n",
        "plt.show()"
      ],
      "metadata": {
        "colab": {
          "base_uri": "https://localhost:8080/",
          "height": 472
        },
        "id": "8Cq5fF08g2b0",
        "outputId": "0779cb11-9616-4d48-b039-c65ba71b6f3e"
      },
      "execution_count": null,
      "outputs": [
        {
          "output_type": "display_data",
          "data": {
            "text/plain": [
              "<Figure size 640x480 with 1 Axes>"
            ],
            "image/png": "[encoded data removed]"
          },
          "metadata": {}
        }
      ]
    },
    {
      "cell_type": "code",
      "execution_count": null,
      "metadata": {
        "id": "zCh1bjX8gk68"
      },
      "outputs": [],
      "source": [
        "plt.plot(np.arange(len(train_accuracy_lenet)), train_accuracy_lenet, label=\"training\")\n",
        "plt.plot(np.arange(len(test_accuracy_lenet)), test_accuracy_lenet, label = \"validation\")\n",
        "\n",
        "plt.xlabel(\"epoch\")\n",
        "plt.ylabel(\"accuracy\")\n",
        "plt.title('LeNet accuracy')\n",
        "\n",
        "plt.legend(loc='lower right')\n",
        "plt.show()\n"
      ]
    },
    {
      "cell_type": "markdown",
      "metadata": {
        "id": "Jbr4VogOhRZs"
      },
      "source": [
        "### 3.4 Visualisation des résultats"
      ]
    },
    {
      "cell_type": "code",
      "execution_count": null,
      "metadata": {
        "id": "aQ8XgsSoqMYr"
      },
      "outputs": [],
      "source": [
        "test_features, test_labels = next(iter(test_loader))\n",
        "outputs = mlp(test_features)\n",
        "_, predicted = torch.max(outputs.data, 1)\n",
        "\n",
        "plt.figure(figsize=(12, 12), facecolor='white')\n",
        "for i in range(15):\n",
        "    plt.subplot(4,4,i+1)\n",
        "    img = unorm(test_features[i]).swapaxes(0, 2).swapaxes(0, 1)\n",
        "    plt.imshow(img)\n",
        "\n",
        "    plt.title('This image contains: {0:>2} '.format(classes[predicted[i].item()]))\n",
        "    plt.xticks([]), plt.yticks([])\n",
        "    plt.subplots_adjust()\n",
        "plt.show()"
      ]
    },
    {
      "cell_type": "markdown",
      "metadata": {
        "id": "2V49OPKe8zmM"
      },
      "source": [
        "### 3.2 Comparaison des modèles perceptron multicouches et réseau de neurones convolutif\n",
        "\n",
        "MLP :\n",
        "- Structure plate : Contrairement aux CNN, les MLP considèrent l'entrée comme un vecteur plat. Ils ne tiennent pas compte de la structure spatiale des données, ce qui les rend moins adaptés à la classification d'images.\n",
        "- Apprentissage global : Les MLP apprennent des modèles globaux pour les caractéristiques, ce qui signifie qu'ils ne prennent pas en compte les relations spatiales locales entre les pixels d'une image.\n",
        "\n",
        "CNN :\n",
        "- Convolution : Les CNN utilisent des filtres de convolution pour extraire des caractéristiques locales des images. Cela permet de capturer des motifs tels que les bords, les textures et les formes.\n",
        "- Hiérarchie des caractéristiques : Les CNN empilent plusieurs couches de convolution, de regroupement (*pooling*) et de couches entièrement connectées pour créer une hiérarchie de caractéristiques, ce qui leur permet de représenter des caractéristiques de plus en plus abstraites.\n",
        "- Partage de poids : Les CNN partagent les poids des filtres de convolution, ce qui réduit considérablement le nombre de paramètres du modèle. Cela les rend plus efficaces pour l'apprentissage de caractéristiques.\n",
        "\n",
        "En résumé, les MLP sont des réseaux de neurones classiques adaptés à des données tabulaires, tandis que les CNN sont spécialement conçus pour la vision par ordinateur et excellent dans la classification d'images grâce à la capture des caractéristiques locales et à la hiérarchie de caractéristiques."
      ]
    },
    {
      "cell_type": "markdown",
      "metadata": {
        "id": "z0vz9vqdhWhQ"
      },
      "source": [
        "**Consignes** :\n",
        "\n",
        "Vous pouvez vous amusez à modifier en début de code le jeu de données utilisé pour l'exercice, et comparer les résultats avec le jeu de données <a href=\"https://fr.wikipedia.org/wiki/Base_de_donn%C3%A9es_MNIST\">MNIST</a> vu en cours."
      ]
    },
    {
      "cell_type": "code",
      "execution_count": null,
      "metadata": {
        "id": "B5I4nbisGYFq"
      },
      "outputs": [],
      "source": []
    },
    {
      "cell_type": "markdown",
      "source": [
        "### Accès à des GPU\n",
        "Vous pouvez utiliser des GPU pour exécuter votre code du TP4 à venir.\n",
        "Attention, cette ressource est limitée, utilisez-là à bon escient."
      ],
      "metadata": {
        "id": "11p65rGKcT7u"
      }
    },
    {
      "cell_type": "markdown",
      "source": [
        "![Capture d’écran du 2024-10-03 09-48-28.png](data:image/png;base64,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)"
      ],
      "metadata": {
        "id": "Km7DwL6Ccb22"
      }
    },
    {
      "cell_type": "markdown",
      "source": [
        "![image.png](data:image/png;base64,iVBORw0KGgoAAAANSUhEUgAAAlYAAAHcCAYAAAAUZuQ8AAAABHNCSVQICAgIfAhkiAAAABl0RVh0U29mdHdhcmUAZ25vbWUtc2NyZWVuc2hvdO8Dvz4AAAAodEVYdENyZWF0aW9uIFRpbWUAamV1LiAwMyBvY3QuIDIwMjQgMTA6MTU6MDIxz+lqAAAgAElEQVR4nOzdd3wUdf7H8dfMbnonPYQQIHQIhKqABbBwAmIF9Cwndk89PfU8f3d6ysFZD/XsZzu7iIiCBUFQikiH0FvoqUB6z+7M7w9qIAECS0Lg/Xw8NI/Mzs58d3aXeefz/c53jDZt2tjUgW3XaXURERGRM4ZhGEd93KzLxhSqRERE5Gx2rCzk9MRGRERERM4W+3NRTdWrYwarxh6qGnv7RUREzmTH6lo7ndm2fUT7jxqsTudQcjq3TURERI7P8Z7PT9cAdni4qjFYnU6h5XRqi4iIiDSM2vLA6RC4Du0adNb0QEM6HdogIiIijcPhuaEhg5Zt2weDVUMGGoUpERER8YRDM0VDhCzn4Y2oLwpTIiIicio1RMhy1nfAUaASERGR+na0KRI86bjmsTpZClMiIiJyOjjVVaxTHqxOp1B1OrVFRETkbHU6XMkHNc9DdbJOWbCqzxCjwCQiItJ4nE5zV3m6i9DjwepUhxyFKBERkbNDTef8UxW2PBWwPBqsTkXoUZASERGR/U71vFUn2z3osWDlqQCkICUiIiLH61QErZMJVx4JVjWFoQ7hFqPaltAtrARv0/LEbo4prE9pvexHRESkPuTN82/oJpzRKi2TpXkBvLc+gDV7zGqPnWi4Mo+9Su1s2641VL16Tg7nhBfVW6gSERERqQtv0+Kc8CJePSeHDuFH5pXacs7RnFCwOtaORrWtvyqViIjImUjVqvrjbe7tZatNXQJWnYPV8Wy4W1jtjRMRERE53RxPdjmeDHTcY6zqUgpriGqVxleJiIjIiTre7HKsaRmM1q1bHzMx1bV/MSIiok7ri4iIiDS03bt312n9msLVMbsCNf2BiIiIyJFqykhHDVYnEqoUxERERKQx8kTuqTVYKVSJiIjI2eZk80+NwUqhSkRERM5WJ5ODjghWClUiIiJytjvRPGQevqA+diwiIiJyujuRjHMgWClUiYiIiFR3Qre08WRAUtgSERGRxsgTGcaj9wpUqBIREZHGrLZ8c9z3CqxrGFJ4EhERkbPR8WSgE6pYnejORERERE53J5Np6hSsFJ5ERETkbHasLOSRipUCl4iIiJxJTjTbeKwrUERERORsd9LBStUqEREROROd1AShDdkIERERkYZWr/NYHc+8VQpVIiIi0pgdT7Y5Wt45rmClyUBFRETkbFWXHKR5rEREREQOcUrnsVK1SkRERM52x5uH6lyxUqgSERGRs9FJ39LmeEOUwpaIiIicSU40A+mWNiIiIiLH6YRvaaMQJSIiInJsh2Ym54k86WjL6yeQOWh17Rj+OigKE7B2fMNToyez06ppXQP/nnfy7B098TeBquW88+dX+K3Ug80xm3HFk08wtClkfT+WxyduxcJJwqAHuH9oM4rmvM0L41dRcuDQeBGZMpirf3cO7ZqF4ePKY+6bf+fTnZ258aFR9PbdxMQXX2FmZo0vyKPMqEH8dcy1tDL28NPzj/HZBvcp32fj4qTDjc/y4IWhWJvG8/dnp7HLTOaWf99Hn6KpjH1iIltP/duEEZTCqCfuoU+Yi/Sf32TcZ6nk18N+a2kNfm2v4qG7B9Ik6wdeGzeFtMqGaouIiOfYto1hGLX+fqzlUEvFqrFVq8ymPemVUEvxzQgkuVdH/Or7rohGAIkdkgj1DSS+UxsiDzn+fh2H89DdQ+jZKpIgLwdevgH4OsCMbkunWH98m7SlQ3Ofem6wZ5mh7RkwdBjDhg6gfegZektKt5t6iaFGECnDr+ecMIusX9/mxXoLVU7iew1l2LBhDO0Vf8hfYQZhrTuQEORDcIsOtAw+Q99fEZE62J+djqtiddoHLTOGHj1b8M3WtCNOdEZQF3p19KPmXHkK2QUs+PxtAnrHUbziF7YfOBE6adO7F+EOA2v3fN598SMWZlWCaWExlXc/KaO9zzZ+W1pW3y32rND29L98MHFk8N3KX1ib39AN8jyrvITyetiPd2I/+sYWsv6XCfzvs6Xk1VulykHTXoO5PMWLqmVZTFu4ExcAFpk/f8T/jBRCcxYzd0+Dlc5ERBpMbVWr4+4KPN6d1DeropwqL18iu/ek1aQ0NrgOfdQkNKUX7b0PrlefdaCKjCX8MGnJYUu9CAj0wQSqti1naVY5FrD3f/ms/+Ub1nu4HaZpYlsWp3k8bnxKSymth4NaueUHXhnzw6nfUR3YJVuZN2VrQzdDRMTjjtbNdzyOCFZ1CUenQyXL2ryS1fHd6RbenV6tv2LD2kMGe5hhpPRugxcuNq9YQ2j3bjUGK2dER/r/7lL6JjcnOtibyrwMNi6fxbffzWVr0WF/jZuhtL/0Gq68IJlmYU7KsjewcOr8GkKLky6jxnFf3wDcqz/kkRdnUdr1Dl7+Y298971fXt3v4o1378K942tGj55CRsRRxjt5RdJp4GAG9elEYmQgRtketq2ex9TJP7Ji1740aUZyyaNjGJFksnP6/5jldwGDujcnZPt4HnthJrl1LCw4QttwwWW/4/yUVkQHO6nI3cm6hdOZ/P1iMipqee+d7bnh2T/T/0D3XxyDH3+bwa7VfPDIO7hufppRXX2xtn/NU/+cQvq+NplhA/jz09fT3uli3af/x79/cXDRo2MYkQRpU97lt8B+DOiWRJS/RVHWeuZ/P4HJC7OoPrTHJDDxHAYNHkCP1nGE+rgoyNjIsl+mMGXu1kPGuNVm79i3a4f0pUPTICjOYO3c71hZy58f7vIyDhwGw5e47pcw+KLetG8Wjp9VTM6WFcz99htmbCjAAsywPtzzj1tICYSsn57nqc83UAkYIb25+6nb6B4Eu2e9zJMfraLMPr5tHnyzwmg7YCiD+yXTMioIp7uQrA1LmTl5MnO3luxdt8axgHuPW+Slf2XM8FaYuTN44a+fk3PBQzzz+3YH/oHwSrmD19+9jd3Tn+P/Pt+ET5/7efHWZBwVC3n9/rdYesgfNMf3fXLQeuS/+MvFEbiXvcuTM4IZPOwCOjdvgk9lLluWTuWLCbPZWh/JVUTkKOoStGzb9mzFqkFYaSxdlkTX80NJ6dWGCWtXUbHvITO8O71bOaFyDfNXFDG4+5FP94q/mPsfHk77IBPDtnBbEBCRSMrFzenUuSVvPf8hy/YPaDH86DDiYe4fGIuXAdg2XnGduGhUB9yWAceoCdmlOWzftoOw6KZE+plYpbvYkVOCO7vgQJtr5J3AoD89xNXtAjFtG8ttQXAMbftcSesOibz/9BvM233oadYgdsDNXO9wYAAu+1gtO5Ijqh93/eVmUsJMsC3cbgiMbEXPIS3okBTKcy9OZ6erhidaZeTu3M7WslDiYkLxppL8rAzyS7MpchWzceEayrp0w79pMp0jvyM92wIMAjp0oqXTwK7axJLl+ViE728JLQbfTkurhF1Zu8hzxhDRrCuDbk8k2jmWN+blHggHoSk38cid/YjxMrAtN268CE/sysU3t6dN5Is899XGo3TdmYT2vIW/3NGLJqYBto0dmkC3IXeR7KZ6V7J7PV+NfZzvKvL2dj0bfrS9+mHuH5SIr2Fjud3YRijxHS9gRNt2xL32NB+uKMLKm8+X351HhxFtiL7gavr/8iw/ZnnRdsiVpASZWIWLmfjN6n2h6vi2aQOYEZxz+18Y1SMch2FjWTZ4NaFZl4u4qX07Yl5+hgnryurwGbBxFWazbas/wVHxRPrv/azuzCkhL7f8qNup0/dp/zucdBWPdA4lxAFgYHhH0fb8G7jXkc8T76fWS1VQRMRTGn+w8oIt8xezp9/FhKf0pv34VSwvBzCJ6tGLFg4oXzWf5aXtufLwwGnGcdHNV9E+yMCVOZcP3/ic+elVBLe5mFvuuopOMX25eeQaNr21kCIbzPhLGNE/Bi/c7Fr4MW98Oo+drjA6XHoLtw1uS+AxTl3u9V/z7D9/pM/9L3JrFxP3mok888aiA1WXmocAm8RfejNXtg2EwlV8+fp7TN9YhCOqK9f+8XYujO/KNcM6s+zdVA6OyjIw7VyWT/qCqcuzKKsoorAu1SoznH43jCQlDMrSvuett6awOtcmtMMQ7rrrMpLaDuOqcxbxytz8I1+xtZXvX/wnUxOv4qm/DSaO3fz6zli+2nfpnLFyEWvKUujhl0CXzmFMy96DhS/tk1vjbdhUbVp8xImXPQt4+9//Y8EuF/g05aJ7HmFEp1C6XjWE9os/ZHXl3qvmht/YlxhnFTtnvc8bExaTVRlAq4tG8cdrkkm4dDj95z3ND1m1HAjvtgy+tidNTKjc+TPvvTmRpbtMYlKu4LZb+pNw6DfFrqAgJ+vgU9sM4w+XNsfH2sXCj9/gk7nbKPWJp8+N93Jzr2j6jRjE3DUTSHNZZP08nml9H2NIs5b87soeLJoSwTXnRWDapayZ8iWLC+w6btMguPdIru8ejmntYsGHr/HxvHSqQtsyaNSdXN6+KQOvHcCvY78j/bg/ADZFiz/kX4t96H3vy9yRYuJeP4lnXl2w7w+AWv5yq+P36cDTArzI+f4Vnp26kt3E0u8PD3JjjzBCu/eh42epLGrkww1F5OxS7Vx+OnTt1ZXh7QVbFrI4x8IMSKZXR7+9D5ix9OydgIMyVi9IpdjpdUSKNBP7cl6iN4aVy5xPPmVeehkWLvI3TOX9r1ZSZpsEdj2P7qEmYNK0ezfiHAZWyRK+/GgO24pcuMt2sXLyBObknKIBvM5W9OubgBMXad9/zI8bC3BhUZGzlInfr6TCNgnq1JWW1V6cRfGi8bzz7VI27cwgfVdRna5eM6PP4fx2fhhWFr98+jWr9lRi21Xkrf6WbxYWYBm+tOvaDt8TeDl26SoWrirBMhwkJnci2AB82tC5rS+GXcXGRcsPu+LNJn/lHBbv7+6sSGfml7+QYYEZkkzXlg7AICTlAlKCTayC+UwYv5CsMgvcRaRNn8TsTAvDmUBy5ya1TtzmbNWdbmEmWHuY+9kXLMosw+0qIX3RF0xaVEzt764vHc8/lwgTyld8w6dztlFsgVW2k3lfTmejG8yoLnSJ37dn11amjp/NbssgsNu1PHj372juBZXbpjF+9q59+6nDNo0QUs7thL9pU778Kz79dQellkVV7lq++3I2WZaBM74drYNP/eUbdfs+HWRl/sxn36SSU2ZhlaUz75dlFFhgeEUQeaZeUSoiZ6xGX7EyvLzxdm1lwaIMLh3alOTenQlcupDS+J70bOrAKl7B/JWlOFO8qd5FahKS2JxwE+zSTaxJO7QzzqZwzWq2u7vQ1tGM5nEm5DmIiY3CANzb1rGh7NAQ6sJ1iq67N8MSaRFmAjYxF97JY70O7tfwDccJmP7hRAQYUHTweVVlpVSd4D59E1sSZwJ2CD1u/CvtDkkV3qH+GBg4wyNpYnJgjNTxK2X1whWU9OhDYFJXOgbOZmGzZNoHmNiVG1iUWnDMLisrM42tJRbxQUHERAdhrCsmvmUCTgPw6cDVD/+NYQfWdhAUBmASERmOwe4atmgSFBtHoAl22WbWbj505JaN62hvrhlDy0R/TMCR+Dvu/78BBx8z/IkybTCaENHEwf4Jr8rXTebLxd24s1cT4mLAdmfxy+fTDnat1mWbO2Np1tSBgZuMtC3Vus2srZP4x51f730Vln0Cdwati7p+nw421K6qqvZZtcor9lbGDCfejf5fKBE523jsn60Gq3Z5e+NlWGxZsIDtl11F847nkBy4lMxePYk1LQqXz2dNGfh4OY/owPDx3TsNg11eRMlh506rbN8VX6Yv/v4mGN74+JgY2LiLi+pv3IdfwN45uAwHQTEtCKpxJW+8vTxVkTDx9ffDNAAjgKjElkTVsJbh5Y3XCe6hfM1iUovPoV9Qa7q2DyK7RUdCTJvK9YtILTyOA2tXUF4FYODj542BSUCA797c4BdBQsuIGp5k4VXDZ2A/Hx/vvZ+FskKK61Te8yfAb29bvMOa0jKsxpXw9nbA/vhgF5E6ZzkFPS4kzAQrfT5zDw0iddqmD74+e19Vednh45/2jbeqJ3X6PtXPDGAiIifkZK4MbPx/DzqcOAErexHztwyjeat29O6ZQmaPKEwrn6UL1lOBgb/DcdgTbcpLSrEB08d/b3g55N96MyCQAAOwyikrs/aezMvd2DgwvfeGiprGbntcZSVVNmAVMfc/j/D+yqPUoTxSkbCpqty7D7tyOe899ArzPDlLPUDFWhYtL6TP+cG07T6QvLhwTLuS9YtTq429qZUjkCBfA7CoLK/ExqKiwoWNF+79s6PXqZJmHwglhpc3dcqodhWVlQDWYVfaHYUZyXmX9WZ/L5cj/kIu6/oL7yzdNxi9Ltt0VlBWboMf+Pj4YlDUQNNq1PH7JCJyhjpwKm6M46uqsfawZMFGqvCm/eXX0yfcxNqzhAUba7vXhk3hjm3stsDwa037Ft6HPGYQ1LYDCQ6w3TvZlm4BLjLTs7AwcMS3oFm1SHrqxq9YuensLLXADKBDShv8qj1q4B8Whp9Hd29Tkr5j73FxtialS/Bhr86bsCZBx85wR/08VbJh0XIKLBP/LpdwfqyJXbGWRSuKawwFpmlWa4NXi7a09DXAKiIzqxgbi4ydGbhtcCSk0DX8sNY5QmgScniwrtZYijLSKbTA9G9Oi+jqzz/qXy1WFtszq7AxierSrfogd8AMCiPMu9oSQnsP5/K2flC1g2UrcrCMEHpdezntfE9gm+4Mdma4sTGJa5V4YCoPADOyDzf9+WEefnAEKUEG4KKqau8R9vH1rXZMHfuuID3iyBzyhhz9Y1bX75OIyJnphGscp18Qs8hbMp91leAICibAtMhZNJ8tRykrWVt/49ftVdhmBBf8fiQ9Y3wxcRDUciA3XdkJH8OieMVsluRbgEXm0iXscNmY4X254pL9JzEnEd0upnfMKQpXlWv5dX4Olm0Sdt7NjLo4iRAnYAYS32s4D/zjSf40pBX+Htz9weMSQNcRdzC0YzjeBph+MSQPvZe/jX6IER2Djn6irayg0gYIJT4hHB8fH7wO+bRVblzIsjxrX4XIpnztYlYW1xirCO55OUM6huGFgXdEF64efh4RJlj5y1m22QVY7F44l3VlNoZ3EsPuGk73GD9MDLzD23HxHX/ln4/dQu+I2j/u7s1LWLLHAkcz+l/Zj5h9ucCnaT8GdDlKkLSLSZ29hAILzLiLue2mviQEmoCTkJbnc9PDo/n7XQNouq/f1PDvzJVXdSXItNg9ZzzvvjeRRUU2ZuT5jBiUuLd7tS7btAtZPn8VZZaJX8oVXHduHH4mOIJacOHwKzmvQzvahFWSV2KDlUdWdiU2JiFdz6d3jA+mw5/IjoMYMSChhtfopqrShQ04ohJICPTG5yiDnur2fRIRaTzqknkaf1fgIezCVOavLqNzN38MK4OFC7YffSSHlc70/31Fh4eupV38Bdw55jxcVRYOLyemYePatZDPPl/M/mE/VsZMvvipFw9cGk/bq/6P587PJNcdQkx0AI5TljMr2Tj5PSa3+BOXJ4XTbeRf6XpNFS7DCy+HgWGVkYaN28ZzhTMrnenvf0HrB6+jc2h7hj34LENcVdgOL5ymgV2x89ib2J1GWp5FYoQ/XW5+htd/v5HP//4c0/f30VWlsWjpHi68OBLTLmPtwhXUmKuwwS+JwQ8+z2CXC9vhxGEa2FYeS7/8nnX7CpJW7lw+/rgdD43qRWTixdwzZiBV1d7LzRy1j861ke/H/0bXu/sQmXITTz53KVkFDprERuBn2EfpXrMpWT6BD35O4K4B8cT2HcUT595EldvEy2liYFGQu7/y40PSkOGcG2ZiFS9j8nfrKSuCb77fSNcRbYm/ZCQD5j/Hj1lWHbZpUzB/PJ91TeSWbjH0GTWac252YZv7jlPlTmZ8No1tFkA5q+f8xu6e/Yls0ptbx/RiFGAYUFlZBXgf9tostm3cQmXvDvg0HcSjL19C0eyXePiDNbW86XX7PomInInOrGuZ7SJWzF9FiWXj3r6ABRnH/su4asc0/jP2VSbNW0dWYSWGE8rzd5A68xOeG/sOCw6drtwuY/3Ecbz05Tw27S7HKyyKUDOThRNeYXxq1Skb22KXpjHl32N4ZeJc1qbnU26bUJFPxpq5THx9DC9M2Xz0CUZPQNXOmbw65gU+n7mC7blluA2DysJsNiyYwtv/epbPVx9jLE/VBqa89zXL0ouodFVQuHsXhdWGh7nYvHINhRbY5WtYvKq0lu3ZFPz6Ee/8sJydxW5sq4L8nalMfesF3l2Qe0hWsti14B3GPvMBPy7dzK7iKgzTTcnuzSz58UOeG/tu9feyhv0ULvuQF16bzOKteVT5RRAVXMXWWR/x+uSNRw/odiErPnuGsf+dwsINWRRVgmmXkrs9lZnjxzHmtZlkuMDZ7BJG9o/GQSVbp05i/r5KaPasiczMcoNPKwYP70MT8/i3ufel72LeW2MZN34Wq9PzKbcN3KW7SVv8A+89/Qzj15YcOLblayfw0js/sSqjkArLTWVhJqtnfsiL41fVMGbQInfuJ3w4ayO7S11UluaRfYwJQuv0fRIROQMZSUlJe//uPUqZq6bHDl926O8xMTGeap+csRwkXPEEjw9tSvmit/jLW4uoNoPFIbfnyZ35An/9ZL2uIxMRkVMqK+vg5M+Hj6+tabztKb8Js8ixmTi8fQhrOZDhF8ZhWgUsnbeqeqgSERFppI4ZrI6nWiVy3Px7c8+42+jqBWBRtn4qP6zSPUtEROT0VtPcVjUtc+5/4GR3JnJc3OWUllVR5SpiR+p0vvj8J2q7fZ+IiEhDOdFJQo2kpCTbk+OrbNsmNja2zg0RERERaUiZmZnVwtSJjLM6s64KFBEREWlAClYiIiIiHqJgJSIiIuIhClYiIiIiHqJgJSIiIuIhHg1WmnZBREREGrOTzTKqWImIiIh4yFGDlSpQIiIiIrU7PCupYiUiIiLiIQpWIiIiIh6iYCUiIiLiIQpWIiIiIh6iYCUiIiLiIQpWIiIiIh6iYCUiIiLiIQpWIiIiIh6iYCUiIiLiIQpWIiIiIh6iYCUiIiLiIQpWIiIiIh7ibOgG1JkRRL8/vcAtnWtruosV7z7If+aVUu+3kDYTuXr037gsMo3P//5vtg4cw8PJi3nu8QmkuU9u04ZfR2588gHO813H+Ode5qd0l2fafHAP+HW6nr/d1ZOi7/7N8z/swPLwHkRERM50jS9Y2W6K0jexyc8JmATFJRLtD0VZW8gutgEXGUVW/Yeq2riqqDrpxnjTcvAI+oZm88sr/2WGJ0KV2YwrnnyCoTFbmPD3Z5iaY+MdHEaITwBeof6YoGAlIiJSR40vWFFK6oTnSYWD1atOFuu+eo43l3i6inPy7PJSyk52I4aTomWf8O/52aTtLDpFodGmYN6bPLYuCCs/j9PvSIqIiJz+GmGwOgazKUP//g+uaFbCnJcf5X+rKnG2+z1PPzSA0IzJPDV2B4NfuoceZWuYvymIjslxeBdtYf7E//H5gixcgBnankHDr+LC5HiCKWJH6gwmfD6dDUWH13AMgtoN4Q+/H0iHCMhOXUaud/U17NJSym2DgFb9uebqi+nWIgxnaRZr5kzks8kryQvowe2j76SX72YmPPUs0wo7cfPo++gXlM6UMWP4JjOMlKEjuLxvO2IDLPK3LOb7zycwZ3sZNuAV05urrx/KOa0j8anYzaYF3/DJxIVkOc/lvnG3kVw2m5ce+YDVLiddRo3jvr7eLH/3TYqu/SPnB5tAK659+g3a/+8R3uVWnv9DB4p/eZFHP1qDy/Aj8fyrueaSHrQM96YiZz2/TRnP14uyqDQjueTRMYxI3M70iWnED+hHUoiL7OWTePv9WeysrJ+3W0RE5HRy5g1etzJZuiwdtxlIu07NcWAS37EDoaZFxrKlZOzLRmZIOzqGZbFi2VbKQ5O48JbbGdTUBGcCg++7n6t6xWPmbGHzHi8Sel/DfaP60uSwo2UE9eKGuy6na6wPxRnpVCb2pPOBldxs/PxR7n5pLiURF3LnA9dxXis/CrZuJtuOJmXIPdx1aVOMoqVM/nELVV4tuWRwN1oPGMY5oZC/YBLTdzppP/wB7h7chSh3JmnbivBvfT433n89XQIMDL+ODH/gNi5q34TynWlkuJrQfuBt3HdFaw7Ld4fJZfWs+aQVWWDls37OdJbsrDysEmYS0e8OHryhP21Dy8nYloMV1ZlL7niQ67sEYOxfzdmCgUOT8dqdSYEdSHzPEVzdK+Tg4yIiImeRMy9YYZG5dCkZbpPw9h2Jc0bTsUMkppXJsqXpB8YN2VWpjB/3Fv/77wu8MT0b2yuBnj2b4ttuAAMSvKhY8xX/efVt3n7lHX7OBP8O59I15NDDZRCY3JvkQIPy1Z/xr7HP86+n3mZeweFVLZOE8y+ivZ/Fth9e5+X/vs2rr37HZrcXLc7pSVPTIuvnSczdDSHn3Mz9v0vAWbmBH6aspCywGwP7RmMULuaTl17nnbde5uP5+RDajXM7+OGXfCF9IqB48XuM+ddzjB3zOWuqTKK6dqWZ42iHKIfFk6exphCw97Di+6+YvaXisGY3pd9FnQgkm5//8yRjnh7NP99fQjHh9L6oJ6H7D4WVx5w3n+LpF57mxSlbcBtexDePORM/WCIiIsd05nUFAlbmMpZkDKVZXAc6tS6hY7yJlbmMZTutg1HSdlHlAqhix5aduOxoIiKjCK+IJ8A0cHQcyT+eH3nIRoMJCwHy9i8wCI+OxGlYbF23gQILqCigsAwIPKQxhj/xzSIwDSeJQx/luaGHbDIkhGATqFjP99+t4tybk/Hztcia9jVzdlmYreKJ9zYwfXtx65heh2zURUhoENGBMXgbFjs2b6PUBit/Ni/9cc7el+fb++QOolcsTaMM7LI0VqeVA1CweiVbrB50im1KjLl634rlFJdUATaFBcV7uyedTlWsRETkrHRGBiusDJYtzeDy+Ob0vtJJtMMma/kydljUWKMzzYMLDcMALAqXf9kgeekAACAASURBVMWHs9I5MEuCUUFOdvXOMtuyARu362hDvQ0MA7ArWP/dO0xNO7iu4c5j+74Cl19gIPuLTL6BgXgZ4Db2tsvKmcen4xex55BiWElmAVbfw4ex21iWp4a2741Gtm0dvDrQ2LfUUGwSERGpyRnaY2ORsWwZGbaTZq2a423nsHzp9urTBxj+BPgZgC+t2iXiNGx2ZWezOyODUsskMLYJlWkrWbFiBev2+BJYtoPsskNDi82enF1U2SYxzZvhC2B64+V1WFPsUjIy8rAML6KjnGxftYIVK9aQ6QjGnZ5OkQVGcE+GXZqIV+UuduVDSK9hXNzMiZWTTpbLxgiLIyR/PStWrGDlxhICffPZsauCXZnZVNomMS0S8DXACEjhhsdH89SDg2hmuXDZNoZPIAFegOGDn/9h/YM2gAOzpm7Dqgx25tiY/kl0bOkDGAS27Uhz08aVmU6W5mIQERE5wplZsQKs9KUsyxhCfLyJlbOMpTuqJwHDuyPXPf5/9NztR4vWYRiVm5m/MIPy3TOYsb0HwxL7c+9TrUjLtIhqlUjorm/Z+dTXBypMYFOy8jeWFyXTq/fNPOToTHpQB3qGm1BtMlA3W36Zxtq+19Gx52082fRCtpeF0aJlBOWzc/nbR5todunldAuE7B/f5T/Zl/H4TZ0YeOU5zHp1CT/OHUT7/okMfmQ0HTbvwjsuiXj/zfhtfoGZK39h/u6uXNDzFh5vcgFFoUm0iHCS89NmsiuL2Z7hpnvzrlz/2CP0K48gqaUvBlX72lVMQZEbu2kCl9z9EGHfvse31Q8gv85YxYAbkxl435O03F5KWMvmBJHLr9MWkW/5naJ3TkREpPE6QytWgJXOsmWZWFjkLFvK9sNmPrerNpO61iYuMRIjbyMz3n2b6VkWuLby3csvMmFeGgU+cbROiqBq8yw+eX8ah2Uz7KIlfPbGJJZnGTRN6UGrylSWbDtyinUr+2feGPcRP6/bBZGtaBNrkDF/Iu9MXocrsh9XXhgNJal8N30T2fO+4ecMG79OQ7istZu148fx2uTFbC8NoHmblgQVr2Ha+x8zd7eFXbqa8S+9zU9r8/Fr3pZmvrmsnf4Or3y1gUork58//YplGSX4xrQgzpHGglW5B6t2Vj4LpnzP2j2V+EXE0MTv8I+Cxe45/+XFz+awqSSQhNZxeO1Zw09vj+OTFcWnzwSsIiIipxEjKSnJtu2aT5PHu3z/7/t/xsbGerCJJ8jwJ+XWMdzTu5xpzzzOhP33lHF2487/3ENPFvH6/W+xVDNhioiICJCZmQnsH2998Od+h/9e0/IzsivQjOrLzbcNpXuLYKz0X5i/5SRv1CciIiJyHM7IYIV3CLFxIbgyFvHVez8e0YUnIiIiciqcuV2BIiIiInXgia7AM3fwuoiIiEg9U7ASERER8RAFKxEREREPUbASERER8RAFKxEREREPUbASERER8RAFKxEREREPUbASERER8RAFKxEREREPUbASERER8RAFKxEREREPUbASERER8RAFKxEREREPUbASERER8RAFKxEREREPUbASERER8RAFKxEREREPUbASERER8RAFKxEREREPUbASERER8RAFKxEREREPUbASERER8RAFKxEREREPUbASERER8RAFKxEREREPcTZ0A85UY8eOJSYm5sDvubm5LF++nC+//JKKioo6bcvHx4fXX3+df/3rX6SlpXm6qUcICwvj97//PW3btqW8vJw5c+bw7bffYlnWKd+3iIhIY6ZgdQpNnz6dOXPmABAREcGIESMIDQ3ltddeO+rzQkJCGDduHE888QTp6en10dQDTNPkvvvuIzc3l2eeeYbQ0FBuv/128vPzmT17dr22RUREpLFRV+ApVFhYSHp6Ounp6aSmpvL+++/TrVs3IiMjG7pptYqNjaV58+Z8/PHHpKens3r1aubPn0/Xrl0bumkiIiKnPVWs6tG2bdsAiIqKYvjw4RiGwauvvgqAv78/L7/8MnPnzuX8888HYPTo0fz444988803ACQlJXHTTTcRFRXFxo0befvttykqKgIgJiaG66+/ntatW1NSUsKMGTP44YcfAEhOTmbUqFF89dVXXH755fj6+vLbb7/x6aefYtt2tTZmZmZy7733UlZWdmCZy+XC29v71B4cERGRM4CCVT0KCwsDoKCggAULFnDrrbfi7e1NZWUlnTt3pqKigs8++4zvv/+eZ555hn/+85/s3LkTh8MBwIUXXsgHH3yAZVncdtttDBo0iAkTJuDn58fDDz/M2rVr+ec//0lsbCy33HILJSUlB7rvAgMDSUlJ4ZVXXiE6Oprbb7+dVatWkZqaWq2NlmVVC1Xx8fH06dOHL774op6OktTFwIEDGTBgwFHXmTlzJjNmzKinFomInN0UrOpJSEgII0eOJD09nYyMDHJycrBtm44dO7Js2TI6d+7MsmXLqKyspLKyEoCqqipcLteBYPXJJ5+wbt06ABYsWECLFi0A6NWrFw6Hgw8++ACXy0VGRgYRERFcdtllB4KVbdu89dZblJeXs23bNi666CISEhKOCFb7paSkcMcdd+Dt7c3ChQuZP3/+qT5EcgL2B6bawpVClYhI/VKwOoWuvPJKhg0bBoDT6WTz5s28+eabWJZFZWUly5cvp1u3bqSmptKpUyfef//9o27v0EpSZWUlPj4+wN6q0pYtW3C5XAce37BhA9dee+2BLjzLsigvL6/x+TVZs2YNTz31FLGxsVx//fUMGjSIqVOn1v0gyClXW7hSqBIRqX8KVqfQTz/9xKxZswDIz8+vFmwAFi1axB/+8AdatWqFl5cXq1evPqH9uN3uI6ZCME0TwzAOVLvqqqKigqysLLKysggJCWHw4MEKVqexw8OVQpWISMNQsDqFioqKyMrKqvXxlStX4nA4uOqqq0hNTT1QcTp8QPmxpKen06NHDxwOB263G4DWrVuTm5tbrcp1PNq0acPNN9/M448/fiCsWZZVrRomp6dDg5RClYhIw9B0Cw3I5XKxbNky2rRpw+LFiw8sLy0txbIsunTpcmDA+9EsWLAAgJtuuonY2FhSUlIYPHgw06ZNq3ObduzYQUBAADfccAPR0dEkJSVx6aWXVmufnL5mzJihUCUi0oAUrBrY0qVLqaioYNWqVQeWuVwupk6dypAhQxg4cOAxt1FZWcm4ceOIjIzkySef5Prrr+fbb79l+vTpdW5PWVkZ48aNIyoqiieeeIK77rqLZcuWHZjyQURERGpnJCUl2bV1PR3v8v2/7/8ZGxvrwSae2S677DISEhJ48803G7opIiIiZ7XMzEwADMOo9nO/w3+vabkqVg0kKCiI5ORkLrnkkgO3vREREZHGTYPXG0hKSgojR45k2rRpJ3w1oIiIiJxe1BUoIiIigroCRURERE4rClYiIiIiHqJgJSIiIuIhClYiIiIiHqJgJSIiIuIhClYiIiIiHqJgJSIiIuIhClYiIiIiHqJgJSIiIuIhClYiIiIiHqJgJSIiIuIhClYiIiIiHqJgJSIiIuIhClYiIiIiHqJgJSIiIuIhClYiIiIiHqJgJSIiIuIhClYiIiIiHuJs6Aacjtq3b9/QTRA5ba1du7ahmyAictpSsKqBThwiIiJyItQVKCIiIuIhClYiIiIiHqJgJSIiIuIhClYiIiIiHqJgJSIiIuIhClYiIiIiHqJgJSIiIuIhClYiIiIiHqJgJSIiIuIhClYiIiIiHqJgJSIiIuIhClYiIiIiHqJgJSIiIuIhClYiIiIiHqJgJSIiIuIhClYiIiIiHqJgJSIiIuIhzoZugMjpy8QrPIW4DucT2yqZkJAIfP29sMpyKcvfzO60uWSsnsOu3BLshm6qiIicFoykpCTbtms+LRzv8v2/7/8ZGxvrwSaK1D8joBOtLvoT7Tom4W0ata5nW4UUrP6A1J8msafEqscWioiIp2VmZgJgGEa1n/sd/ntNy1WxEqnGwBlzJT2H301MsBdUZpCzYjLb1y1mz+4sysuqMP2a4B/Riah2l9AyuQehne/lvOYprBg/ls3ZZQ39AkREpAE5mjRp8qSnNxoUFOTpTdbCpMmAh3jxb7dyeYrN0jkbKPJwn4xX4lX849k/MzzFwbqF68lzOel6238Y88fLic+axqJ094F1Db+O3DT2X9w7tA1lKxexuUgVjMMd7zEyw3pz++jHuK5tIcsWb6f0aO+rI4mRTz/Lg9e2p3jeb2wpO/EPgRk+jN433E9soEnltg+Z/8lo1q5eQUF+LlWVldi2G6uymIr8zeRums6WlWuwo3sSGdWWmHZJVGycRX6Z3ncRkcaouLgYOLmKVeMevG6G0rV7Ek4DHE270y3Owy/HjGHAyIuIK1zM/16bTFr50U7Y3rQcPIK+odn88vZ/mZHuOsGdOulw4795+923+FMff2rvhDp9efe6hzfffYf/jOpyWEm0DsfIJ5TwIF+CmoThc4rbe4CjDW2G3U20v03p2mf45bP3ySmsAiOQ0JQ/0+/ubxj22HSG3v825w4cSLA3WIWLWPvZvSxZmw3+vUkedj2hjvpqsIiInG4adVegGdqVHq2cYFlYZlO6d4vju5078Vi9wKuK9V+9xNjdW9mae4ytGk6Kln3Cv+dnk7azqNbBzKZpYlkNWdEwME2wrAYYbn2cx8gwTciaxr//shi/yjwK6uVwmfin3EWbWB/sXZ+ycMo0StwAToJ6jua8i1MwC1eSuSoLZ+w5xJzzN8JCLGZM+pkKdzrbpzxFcMTLtI4dQacuU/l1abYGtIuInIUacbAyCUvpQUunTca8Xynr3Y+W3bvT9Nud7Nh/IjaDaHPJdQwf2JlmwSZFO1OZ8cVn/Li+CAuTJsmXc91V59ExNgB33laWTv2c8bO2UmqDGdqeQcOv4sLkeIIpYkfqDCZ8Pp0NRTU0xRlJytARXN63HbEBFvlbFvP95xOYs72C2CF/58krm7Jj3ixKWvcjaccHPPj6GuIvuoZr+nchMdyXqrzNLPr2U76Yu4uu977MHSleACTf+h9e6fAqD7yzHKu29pSEc8mjYxjRMofvxv6Dr7ba+Pe5nxdv7UTZ7Jd4+MMd9H3weW5qv5vFv2QQf24nCr7+Gy/8lHsggDraXMfTjwzEf+V3fFvRmYu7xOFduJEZH41nU+uruW5AO8LJZfUP7/Hu1DRKbZOwjoMZfkU/OjULxVm+iw2/TuLjScuw+z/C2JFtcAJefe/njTbTefZvn7PJqO0YlWHu23/QxjnMNZPpF5nK6y/u5oonriYhawqjn/yaHZZBQKv+XHP1xXRrEYazNIs1cyby2eSV5Hri4+RoQ4seXXCym60zPyW3at9yI5SgYKjMn8WaD0ezo8gCr56k3P0siUkXEOH1M+mVQNUa1s+cRrMRg4nsOYSQ5e+Srx5BEZGzTuPtCjTDSOneCqe9i5WzprN8u4UZ143uTfe/JJPoC+/kvmt6keCVx+Yt+Xgn9OKqe0fRt4mJM/Fy7r9nCCnRNllp2ykJakW/39/HdV0DMJwJDL7vfq7qFY+Zs4XNe7xI6H0N943qS5Mjjpgv7Yc/wN2DuxDlziRtWxH+rc/nxvuvp0vA/o48J4l9BtA+2E1ZuYuQvrfw4PC+JJrbWfjrcnb5tuaCm+/m8lYGmUtnsHhHBTYWu1b+zIwVu7Dq1J7ajlcMPfp3Jdwuo7yqplqKgV/yIC6OLSN7TwW+ER0Ycv/fufu8MArS91DhF02XK67jgmgTM+5S7rl3GD1iK9j42zzWFIbS4dLbuf3iaMq3LmLmiiwsbKrSl/LT7HXk28dzjAy8255P/5Z+VJZV4DqsiWbkhdz5wHWc18qPgq2bybajSRlyD3dd2tQjH2Ij4lximziw82ewdUvJwQfs3WT89GemvT6anQfGg+376a7g0OJj1Zbv2JlvYYT3JS5S/YEiImejRluxMpt0o3srB3b+alZsy6RkRQZXtmxKt+7xTN6xHctsRp/+bfG3tvP1C2OZstNBm5GjeeSi9qS0Dya31Xk0dVax7pN/Me7nPHy73c6/7u5Fl25J+FWlMCDBi4o14/nP/xZTZMZx6Z8e4OIO59I1ZEG1CokR1I2BfaMxChfxyUtfsLbci9ZX/YXbz+3GuR0+5xsALAqXvM+Y/85jj8sktJWDT/+3mIK0RazJsWle0pS/XRZN2zahTPxhErNanUO3Zg4yF07i64WleHX6Q+3tCV5/fAfMLmftF2P5z7QMKmtZxb3la55/+geyfHrzx3/fTjfnDr59/ml+yPajz/0vMKpzHAlNnRjbt/Lzx+/h3rWORRvzcXaEZ/50Ps3btsKYOpNJv7Wjf3I0lVvnMvH7VNxBfRhZ6zH6lJUFe/dv5czi1ac/JrXQwoy57NB3m4TzL6K9n8W2b1/n9Vm7sEP6ctdjV9DinJ40/WlVXT8+hzHwimlDoGHj2rGSAveRa9j2vgRlRBB78f00D6ogb/ZEsg8dJuZOY/eOEpJC4wmJCcDILlR3oIjIWaaRBiuT8JRutHTYFK9ZwRaXhWvlSnZd3ozY7t1pNnk727yiiYs0sEq3syXLDbjZMP7/uPMLwAhjQL9ATHs3W7bkY2FTuvQd/nznO4BB1KVDCTANHB1H8o/nRx7crRVMWAjVgpUZFU+8t4Hp24tbx/Q65BEXIaGB+waf2+Rt30qeC8Aif8d2XD1GMPyqG4gL8cY0DMDC6VXT22HSpFn8UdtTU+/kEewS0rdm1xqqAOyy0r1X31UVU1xhg1lIQaEFdgUlRVVgeOPlZeLevY2MDj255ubh/CEqEC/TwABcTm+cBlQc/gqOcYzM/cFq1za21HSVoOFPfLMITMNJ4tBHeW7oIYcgJITgky5ZGfgEhIFhUVa0u/YxekYEcUNepFdyNCXLR7Ng7obD1nVRXpQLRlN8A0KBwpNtmIiINDKNM1iZ4XTt3hKHYRLc7wHe6HfIYzHd6J7wDdsy9y+wD1YNbAvLBkz7wGMHWfu6dUzYF3QKl3/Fh7PSOVDAMCrIybaJObQtxt6zupUzj0/HL2LPIWfakswC7N6HN95Bi6H3ctvF0eQu+YJXftqMT+9R3NE/qvbXe4z2JNf+zJNkUFPJxafTtdx7w3kEZMzls5fmkB4+kHtu7E1grZs5+jGywo7dDsMA7ArWf/cOU9MOlokMdx7bLR861+FVnSizxc10TY7H2vEa86fO5aizOjTGyzlFROSkNcoxVmZ4V3q0cEBlHjvSNrFp097/tu4qwzJj6N49AbMqm4xdNqZ/Ai2jHYCDZpfez1Ojn+DGri4yM4uxjCY0bx6CCfi0vYpHnxrN/13dmsKMDEotk8DYJlSmrWTFihWs2+NLYNkOsg87m1o56WS5bIywOELy17NixQpWbiwh0DefHbtqqA+ZwbRoFYnDzmP5jJms2LiNPeXVV9m/B4fTAVjkHa095S5cbgB/AgMcgIF/gK+HjnRN6cAkqlVLQkyLzEXTmLs6jZ0FVdU/SPtegOEwMTiBY3Q4u5SMjDwsw4voKCfbV61gxYo1ZDqCcaenc/LThdlUlOSDbeIXFFHLl8LEJzweb8NF4fp5FNfQXQhOfIOagG1RXpx/so0SEZFGqBFWrEzCU3qQ6IDyFRN4/vUFlOw7kXu1v4Gn/9yfqG49aP71V8ybtZGBI9sw5KG/0zbDpGmbpgRWrGLGtmLW584hvc8QOox8jMe678E/MYlov0J++zqdslUzmLG9B8MS+3PvU61Iy7SIapVI6K5v2fnUt9VaYxct4ce5g2jfP5HBj4ymw+ZdeMclEe+/Gb/N41h7ePOtErKzirDahtHvhj8SvDuEth2jMbFxOPYGqaL8ImxCaDvsIR6MnMgb3xy9PTu252G1jaDvqMeIzDSIS2qG0xOjewz2VcuqvWLyM7Ipt5vS7KJbubtpEdEdOhJkgtthYgLuwgKKLIOwlJE8+qdYPnvtl6Mcoxf45ZgNcbPll2ms7XsdHXvexpNNL2R7WRgtWkZQPjuXv316HOHsqGyqsjdQbJ9DUHxnQhy/kntEcLIoX/IoU1JNbFd5zUfX0YrwZgEY9jbys3T/QBGRs1Hjq1iZ4XTrkYiDKjamrqk2I3dVWiqriy3MqBS6Jxhkz3yDV75cxA53JK1bh+PatoAvX3mXuXssXFun8Mrr37I820HTti0ILt3E7I9e5tPlxdiurXz38otMmJdGgU8crZMiqNo8i0/en3ZwKof97FLWjh/Ha5MXs700gOZtWhJUvIZp73/M3N01lVIqWTPpbb5ZloU7uiPJMcUsmL2WMtsgNDIcbywy5nzNz2kFWIERxIR4g/to7XGx6fuP+H71bioDm9IispwVizYefaby42YfmauwKVr8Oe/8uJY9jniSOzQha86vbHHZmE0iCTfBveknJs3fQbEZQnRkIF7U9Rgdycr+mTfGfcTP63ZBZCvaxBpkzJ/IO5PXHXXc2HG/0l3zyMxzY4QNoHmifw1rGDijLqTNedcQE+JV4za8WgwmPtTEzv2VrN01lrREROQMp5swiwBgEtDj3wy8tCtmzqfM/uBtcg9NbEYELa//jC4tnLhW/4PvJ82mWnTy6kDHP7xMmygXu3+8hbmLs1SxEhFpZDxxE+bGV7ESOSUsSpa/ycbsSoyoEfQafAkBh05FZReQt2U15eVZ5GzeVP1qQEdTEoY8QesoJ1bWeFYtV6gSETlbNfKbMIt4kLWH3B0lNOlwDmFx/WgWb1C4bTUlFRZgUb5jKpvmTSQ9++AEF2ZwT9pd/TTJrSMxyhaz8ouXyCjWlOsiIo2RJ27CrGAlcgi7dD1Z28oIad2NkOhuNEu5iIggL2x3Ga6qStyWgdM/gqD4PjQ/5266D76ZuAhf7KL5rBo/ms055cfeiYiInJY8Eaw0xkqkBkZAMkmXPEC7Di3wquWLBGDbRRSu/pDU6RPZXaJKlYhIY+aJMVYKViK1MvGK6EF8h/OJbdmJ4NAIfPy8sMryKMvfwp7Nc8lYM5uc3UUaUyUicgZQsBIRERHxEF0VKCIiInIaUbASERER8RAFKxEREREPUbASERER8RAFKxEREREPUbASERER8RAFKxEREREPUbASERER8RAFKxEREREPcTZ0A0Q8wenth9PbD4fTB8PhhelwYBoOACzbjeV2Y7urcLsqcFWW4aosa+AWi4jImUjBShotw+GFj38w3n5BmEbtH2XTcGA6HeD0xssnAALAsl1UlhVRUVqI7a6qx1aLiMiZTMFKGh3TdOIb2ARvv+AT34bhxNc/DF//MCrLCikvzsWyXB5spYiInI0UrKRR8fEPwSewyYFuPk/w9gvG6RtARXEuFaUFHtuuiIicfRSspNHwD446qSrV0ZiGA7+gSBxOH0oLc07JPkRE5MynqwKlUQgIjT1loepQ3n7BBITGnvL9iIjImUnBSk57AaGxewed1xMvnwCFKxEROSEKVnJa8w+OqtdQtZ+XTwD+wVH1vl8REWncFKzktOXjH1Iv3X+18fYLxsc/pMH2LyIijY+ClZyWTNOJT2CThm7G3isQTV3jISIix0dnDA/o27cvXbp0oWXLloSFhQGQl5fH5s2bSU1N5ddff23gFjY+vic4pUJc276EJ3QhOLIFPgF734uKkjwKd21hz/ZUMtbX7b0wDQe+gU10peBpIjExkbi4OJo0aYK/vz8ApaWl5ObmkpGRwdatWxu2gdLg9BmRhmYkJSXZtm3X+ODxLt//+/6fsbFnx8Dfvn37cuWVVx4IU7XJy8tj0qRJCljHyXB4ERLRvE7PiWvblxbdrzgQpmpTUZLHliVf1zlgFezephnaG1BiYiKdOnU6cKKsTWlpKatWrdLJ8yykz4h4QmZmJgCGYVT7ud/hv9e0XMHqBP3+979nwIABAGzatIl58+axdu1acnL2VjaioqJo3749ffr0ISkpCYCZM2fyySefNFibGwvfoHB8/Y8ekA7Vus/1NOu4970oyN5E5sbfyEtfS9m+KpNfcBRhTdsT2/pcQqL3vhc7Vs9k47xPj3sf5aV5lBftqcOrEE9J+X/27js+ijJ/4Phndje9F9ITEpIAgdA7QQOoWFB+Yj1QOUVUbHdiO9ud53neqedZz94LKoKiKCqIIAihJhASEiCF9L7Z9LZlfn+EXRJIxaX6ffvKC3f3mWeemXlm57vP88wzY8YQGxsLgF6vJy8vj/LychoaGgBwd3cnMDCQyMhI/Pz8AMjKymL37t2nrMzi5JI6IuxFAqtTpGNQ9dFHH7Fx48Ye0ycmJrJgwQJAgqu+8AyI7PHZfx11DKr2b/6Yksyej0VIXCJDp90A9C+4sqgm6iry+pRW2E/HC2ZycjI5OTk9po+OjmbcuHGAXDh/L6SOCHuyR2AlY6z6KSEhwRZUvfDCC6Snp/e6zMaNG9Hr9SxZsoSZM2eSl5d3AroFNXhET2fu3JmMifLH2WQgb89PrFi+gZwGFdAx7IZnWDLdu/2OBVXFYmygPGs73y/7iqTiVkBL9NX/5P6BP/HI8+sxWKx56xh768ss4h3+9FYKJ/KJejpHlz4HVSFDEmxB1e4fXsBQtK/XZUoyN9JcX8WYi5cQPnwmjfr8PnULahQdOkcXTG3NPaXCZ+Z9PH3d0K5PLEs9m1+6n/fTO+xBzQCm3/M414Vu4/m/fEJmdztXcSNq+pVced4YBg1wwVxXzL5NX7Hs+30YzO1JHCfewcu3jcMBABWLqZW60ky2fLOMVbsrMZ0Gx7c/IiMjbRfMjRs3Ul5e3usyOTk5NDQ0kJiYSGxsLAaD4YR1+SiKwpw5c8jPz2fPnj1dpvH09CQ6OhpXV9djznkvLy/GjRuHr68vLS0tZGRkkJuba/vc0dGRcePGERwcjMVioaCggN27d3f7gxcgJiaG2NhYXF1daWpqIjc3l4MHD9qWCQ8PZ8qUKbb0JpOJ2tpa0tLSbK3twcHBnHPOOXzxxRed8o6Ojmb48OGsWrWqhuokpwAAIABJREFUfzvqBDpd60h4eDiTJk1ixYoVvaYNCAhg+vTppKSkkJ2d3WO6+Ph4fHx8aG1tpbS0lLS0NNra2gBwdnZmzpw5tvQWi4XGxkaysrLIyclBVVV0Oh1XXHEFGzZsoLKy0pbW09OTiy66iB9//JG6urrfsOUCJLDqt7lz5wLtLVV9Caqs0tPT+eijj1iwYAFz5861e2DlGHUZ99w7A/Ovy3lz2SEaXSOZduUfuOcOLU899xNlhy+i5oNf8+zSFJpU0DgHEH/RtSxY4kbLE++SUm/XIh0XnaNLn9NGjbscaG+p6hhUBcVMIiRuOt6B7V+4NeVZlGT+Qln2dgAMRfvYv/ljhk67gahxl/d5vFXvgZWF2q3v8niGIwDaiIu5Z2Ewm59/n+11KmCh2RoFAaDgPf4q5sQ5QY/fZTrCLryb+y51YMfyd1ieVYsudAJz593FEqf/8s8V2bQdTqm2pLL02S85YAK0boSOvYw/3HYPji/8g88PnC4hU9/Ex8cD7a0QfblgWpWXl5OcnMy4ceOIj48/YYFVQEAATk5OREREkJqa2ing0el0TJs2jYCAAFpbW6mpqem0rKIoJCQkYDAY+Omnn/Dz82Ps2LHU1dVRVVUFtLfEeHp6snHjRnQ6HRMnTqS5uZnMzMwuyzN06FDi4+PZu3cvlZWVeHp6MmbMGHQ6Hfv2HTk/LBYLP/30EwBarZawsDASExNZt24dBoPB3rvphDrd60hvFEVhzJgxvabz9/fn3HPPJTc3lz179uDg4MDIkSOZMmUKmzZt6lT3tm3bRm1tLYqi4Ovry5gxY1AUhaysrBO5KaIDmW6hHxISEvDx8SE7O7vX7r+ubNy4kezsbHx8fEhISLBfwTQ+TJ57AX5pn/LKsi3sLyyh8EASy977gbJBszgv9kj8rLYaKCsupri4mMKc3fzw7qfs0Ixj5njv06IyaHVOfUoXMiQBJzcfasuzO3X/xU6+lmEzbsE7KBYUQAHvoFiGzbiF2MnX2tKVZG6ktjwbJzcfQob07Vj0pWyW5mrKysra//RNmNU2aisOvy6roLb1yBeg4jqSy6+IJGtnNuYe8lRcR3PJRWHkLn+VTzbuI7+kiJydX/Pmin34TL+Q0W4dmqYtjegPH9/igoPs+OZtvsrwYtqMEfQ9ZD31IiMjcXV1Ra/X99q105WcnBz0ej2urq5ERkbav4DAwIEDOXToEFqtlgEDBnT6TFEU9Ho9q1ev7tQKZeXv74+rqyvJycnU1taSm5tLRUUFERERAGg0GsLCwti7dy96vZ7y8nKysrIYOLDrmzp0Oh3Dhw9n7969HDx4EIPBQH5+PqmpqQwZMgSNpvPZXVtbS21tLdXV1ezdu5eKigpby8+Z4kyoI70ZPHgwJpPJNhasOyNGjKC0tJSUlBSqq6spLy9n69atBAYG2saMWTU0NFBbW0tNTQ25ublkZmYydOjQE7kZ4iinw7X0jDFq1CgAkpKSjjsP67LWvOxBcYljdIyZtG17qO/QS2CpSGbN2j1UKU503SsMtBVTUA6+/r7dpzmJFK1Dn9L5RbTvv9Ksrbb3gmImET7igm6XCR9xAUExk2yvrcta87JX2frGidg5VzOiYCUr0xvpvnMHtFHDiXPKZdduA7beO1QaUtfy1bpsmhx7OHJqA4WFBrS+/nicQWd7SEgIwG9qSbAua83LnjQaDaGhoRQUFFBSUmILiKyMRiNpaWk0NjZ2ubyHhwdNTU22bhxov3vYy6t9Qlo3Nze0Wi21tbWdPvfw8OhyjIefnx9arZb8/PxO7xcXF5OVlYWjo2OP22PN+0xyuteR3ri4uDBs2DBSUlJ6TKfVavH39z/m2DY0NJCWltbregwGAy4uLscE1+LEkT3dD4MGDQLotim+L6zLWvOyB8XHD1+Ngcqqo7p6LBXs+mopa/b3cOFWPPH2VGhq6PnifrJotH2bu8pzQBQAhuIjxyIkbnqvy3VMY13Wmpe9ytYXuogLuXZyNauX76DW0lNKBRdfX5ybq9A3HXXTSONBNny9hnRDTxno8PJ2h6YGmk+HA9xHvr7tk8P2p3vnaNZlrXnZU1BQEKqqUlFRQVFREWFhYf26cDk4OGA0dp6+o62tDZ1OZ/vc+p6V0WhEURRbmo7c3NwwmUy0trYek2daWhotLS09lsfV1ZXm5p66uU8/p3sd6c2YMWPIz8/vtfvVxcUFRVFoamo65rPMzExb13FPy7e1tWGx9PhFI+xIAqt+sM5XZR3keTysy/Y291W/6BzQqmZM/R1Co/MmdtZcpvkWs3tvBafDadfXSUGt81U1d5i40zqmqicd01iX7W3uq/6WrfeMgpjxh5lYfvqCTZWWXgJaBZ2DDswmTP0NjBRH/EbM4dJxDhxMyaDxDAqsrHMR9dZF0hPrsr3Na3Q8Bg4cSElJCaqqUlZWhlarJSgoqM/LdxeEdXfHUW9pNBoNpn5/AbTnFRISQlhYGIWFhf1e/lQ63etITwIDAxkwYECfxula60p/j6+iKHh5eTF06FCKioqOq5zi+Mjg9bOB0YgJLdo+HE3d8AU890b7dAOKRotal8umD95iTbEFsF+LjOiOBt+p13KJ+xb+91MRJno7CVVMRhOKgwO6w9dT50m385+Fo3EEsBjY8OKjfH6gfZSW4jKZO1+d2B6saTRoTAb2r3uLDzZXY5Hjaxc6nY7g4GC2bdsGgNlspqSkhPDwcEpKSvqUR29T2XR3qzfQZcuD2WzG0dERRVFQVdV2V5rVpk2bbD/qNBoNV111lS1/s9lMRkbGGRdYnak0Gg1jx44lNTW1U4tkd6wBlbUV08XFhdmzZ9s+z8jIICMjw/baetc6tB/fwsJC9u7da6/iiz6QwKofDAYDPj4+BAQEHHerVUBAgC0ve1Fr9BhUbwL8dFDU4UTV+DPywmn4HFzDppz2bgdz9jf856NkGlWwGBupMdTTZvueVjFbLKBRjhpvpUGjVbD0u8mk/yyquU8tQ62NBpzcfHDxDLC1PNWUZ7UPWu9BTfmRO2NcPANsefW1bL+ZJoLpF8bjHjiU+16ccfg9Bxx0Kn9+eTRJrz3ERx2nY0CluaqCBucwQrw17Kuy0Lb3c556fCW4jmXBgzPRdrj4qq2pfPbvFe3TNpjbqK8x0GhUbXmd6uPbV01NTbi6uuLu7n7cLRLu7u62vOwpJCQEnU7H1KlTO72vqiq7du3CbO69nrS1teHk1PlmCEdHR9uF1vpvxy5DR0dHLBZLl/k3NDSg0WhwcXGhqamJsrIy1q5di0ajYdasWZ0COYvFwtq1a4H2i3Zzc/Mxn0N7ANAxiNNqtadVd9LpXEd6EhYWhoeHB2PHjmXs2LFAe7A+evRowsPD2bBhQ6f0LS0tmM1mPDw80Ov1tLS02I7flClTjgm+d+zYQU1NDRaLhaampk7HrOOx7eh4W8VE1ySw6ofc3FzGjRtHXFzccQdWcXFxtrzsRW3eT1quI5dNjMd9bwoNh78jNX5jmT1nGgUvf2frblJba6koK+s0yL1DTlRX6lGnRhDmANXW4RraECKCFfTJlSe8u9BiNqPR9R5Y1VUeYoCbDz6hcbbAqiTzl14Dq5LMX2z/7xMaZ8urr2X7zSzF/PTiI2zWHvkydBp9A49eXM9Hz64kTX/sOky5qaQ1nMPUaeH88nU+xmYDZc2guNXSevRxtDRTXVZGWZffj6f++PZVdXU1rq6uBAYGHvdFMzAw0JaXPUVERFBYWNhpCgOA888/n5CQkD61/NTW1uLi4oKTk5NtXJSPj49tDqGGhgZMJhO+vr62i763tzf19fVdtnZVVVXR0tLC4MGD2bNnD0ajEaPR2OV4LKDHuYqsn/n4+KDXH3naQMfynQ5O5zrSk9LSUr7//vtO782YMYPc3FwOHTr2u8hisVBWVkZMTAz5+fmoqmo7Dl0Fug0NDd0eJ4vFQkNDAz4+Pp3Gpvn4+NiCbPHbyRirfkhNTQU45pdqf1iXteZlF5Zqklb+TN2Y61k8dyLRocGED5nKNYtmE5q3hg19nr9IpT5lPbssE5m/8CJGRYUQHDGMxOtvZKbnfn5OKjnhF96+Po9PX9C+/4Jjj0x2WJa9ncK0n7pdpjDtJ9tcVh2XteZlr7L1zEi9vpKKigrbX2VdK6qlCUNlJfVtXUS8rRl891Uanhfdwe2XjScmNIiQgUOZOGsSEdRR19DXo3Lqj29fWbvUfstt8NZl+9o91xcODg4EBQWRl5dHXV1dpz9rd2BfVFdX09DQwNixY/H09CQqKoqAgAAKCgqA9tavwsJC4uPj8fX1ZcCAAQwePPiYO8OsVFVlz549xMTEMGzYMLy8vPDz82P48OFYLJZjBrX3pLm5mcLCQiZOnEhISAje3t7ExcURHh7OgQMH+pzPiXa61pGO3N3dO/05OztjNBppaGjo9Gc2m2ltbe225Sw1NRUPDw8mT56Mr68v3t7exMTE2O4u7Y+DBw8SFxfHoEGD8PLyIjw8nJEjR3aaSFb8NtJi1Q9btmxh7ty5xMTEkJiY2O+5rBITE4mJicFgMNh9gtDWnJW8+Eoz11xxFfdc6I2uuZLc3d/wwpcbKOnH1VJt2MMn/32f/7tmNgseuAJPTTMVOcksf3E5v1ae+Muu2dSKg5Nbr+lKDmwhatzleAXGEBKXaJvLKmvbMuqr8nqcIBTaH23jFRhDa6OhzxOEmk19vzjZlwV90ts823wR/3fxVdx9iQ+OpjrKD6Wx5qX3WFfU9+Nyqo9vX+Xl5REfH4+fnx/R0dH9nqcoOjoaPz8/mpqa7Dr5Y3h4OGazucs70QoKCpg6dWqnLr3uqKrKli1bmDBhArNmzaKlpYWUlJROLUR79uxh3LhxTJ8+HVVVycvL6zGwKSgowGg0MmzYMOLi4rBYLOj1en755Zd+tzTt3LmT4cOHM3bsWJydnampqSEpKek33YFnb6drHbHSaDRccsklnd4rKSlh8+bN/c6roaGBn3/+mZEjR5KYmIiiKNTV1bF79+4uW7l6kpOTg8ViITY2lrFjx9LU1MTBgwfZv39/v8sluibPCuynhIQEFi5cCPT9kTbQPkPwkiVLAHjvvfdOwCNtzg46RxfcfUL7lDZkSAJDz70J6PsjbQB8woYz5uL2Y7F/0/t9DqwaDMW9zLwu7CkyMpKJEycCfX9cCbR37yQmJgLt401O1aza4sSTOiLszR7PCtT6+vr+3d4FO9MmmuuPwsJCPDw8iIqKYsqUKdTW1nbbPG+VmJjI4sWLgfaHMK9evfpkFPWMZDGbcHTzRFF676Wu1xeic3bHKyCK4NgptDbXUl/V87EIiUtkxHm3Ae0PYc7f832P6W3lUk001/U8X4ywr5qaGhwdHfHz8yMyMpKWlpZeb/qIjo62PQsvKytLfoWf5aSOCHuzjteTwOokS0tLswVXo0aNYvjw4Wi1Wpqbm20zLQcEBDB+/Hjmz5/PjBntd3+tX7+epUuXnsqinxEUjRadQ98ewFJdmGYLrvwjRuEbNgxFo8XU1oyptf1YuHgGEDBoPIOnziNsWPuxKNy3nqykT/tcptbmWmmtOgXKyspsF86QkBCCgoLQaDQYjUZbd5u7uzvh4eGMHTuW6OhooP2CuXv37lNZdHGSSB0R9mSPwEq6An+DhIQE5s6d2+tknwaDgZUrV0r3Xx8pWge8/Lt+Jlp3QoYkEDXu8l4n+2xtNHAo+es+d/9Z1Vbl22nwujgekZGRxMfH9zqRY1NTE+np6dK18zskdUTYgz26AiWwsoOEhARGjRrFoEGDbEGWwWAgNzeX1NRUCaiOg6tnAI4unv1eLmRIAn4Ro/AcEGULslobDdRVHkJfkNrvgAqgrbmOprrjn21f2E9kZCQhISH4+vraLqBNTU1UV1dTUlIiF0shdUT8JhJYibOWRqPD3T/cfo+ROU4W1UxDVSEWi0ycJ4QQZzt7BFYyj5U4LVksJlobTt6kfd1pbaiWoEoIIUSfSWAlTlutTbW0NZ+6mZ7bmutobao9ZesXQghx5pHASpzWmuoqMB6+u+9kMrY2yrgqIYQQ/SaBlTjtNdaUntTgytjaSGNN6UlbnxBCiLOHBFbijNBYU3pSugXbmuskqBJCCHHc5FmB4ozRVFeB2dSKk7uv3e8WtKhmWhuqZUyVEEKI30QCK3FGaW2qxdjSiLO773HNc9WVtuY6WuTuPyGEEHYggZU441gsJprqKmhuNODk6omjiwcapX9V2aKaaGuup7WpTmZUF0IIYTcSWIkzlmo20lKvp6Vej87RBZ2jC1qdE4rWAY1Wa+sutKhmLGYzqtmI2dTa/hxBee6fEEKIE0ACK3FWkGBJCCHE6UDuChRCCCGEsBMJrIQQQggh7EQCKyGEEEIIO5HASgghhBDCTiSwEkIIIYSwEwmshBBCCCHsRAIrIYQQQgg7kcBKCCGEEMJOJLASQgghhLATCayEEEIIIexEAishhBBCCDuRwEoIIYQQwk4ksBJCCCGEsBMJrIQQQggh7EQCKyGEEEIIO9Gd6gKcDRISEhg1ahSDBg3Cx8cHAIPBQG5uLqmpqWzZsuUUl1AIIYQQJ4MSExOjqqra5Yd9fd/62vpvcHCwHYt4+kpISGDu3Lm2YKo7BoOBlStXSoAlhBBCnMZKS0sBUBSl079WR7/u6n1psTpO1113HTNnzgQgOzubpKQkMjMzqaioACAgIIC4uDimTp1KTEwMCxcuJDIykqVLl57KYgshhBDiBJIWq+PQMaj66KOP2LhxY4/pExMTWbBgAQDr16+X4EoIIYQ4DUmL1SmQkJBgC6peeOEF0tPTe11m48aN6PV6lixZwsyZM8nLy7Njt6AjE25/mcXjHbr+2LiHd+59heT4O3j5tnG0p1KxmFqpK81kyzfLWLW7EhOgG3kzL9zuyId3v84ukzUDBa/Ee3n60lJefOhTDpj7UzYN3sNnM//KRIaHemCpK2DP2s/5bF0OTV3H7Ciu0Zx/3TwuHBWOu0VPdtJKPl6xk3JT1+mFEEKI04kEVv00d+5coL2lqi9BlVV6ejofffQRCxYsYO7cuXYMrIykffZ3Hl0JoMH/3Nu4a+QB3nh9PWVmgFZqW9pTqi2pLH32Sw6YAK0boWMv4w+33YPjC//g8wOtdirPEZqQWdxx+3Saf/yQp9+swnXobBbMu4N5VX/lvd1NHBNbKa6MnncHc8NS+eSF9yl0Hc3VNy1kcWMZT35biMXuJRRCCCHsS6Zb6IeEhAR8fHzIzs7utfuvKxs3biQ7OxsfHx8SEhLsVCqVlpoyysra/6rqjaimeqpKre8ZaLZGJJZG9MXFFBcXU1xwkB3fvM1XGV5MmzECFzuV5ggNoROnEF6ylk++30theQkHNn3G9xkuDB8RhbarRbRRjBzhRPrq5STlFFOY9gNfbCgnaFQ8AVJThRBCnAHkctUPo0aNAiApKem487Aua83rlFIbKCw0oPX1x+N4aoImkiufeo0HZvraKpIm/P944rW/cIG/hto9X/Push3orYGdasFkAWNb27GtVQDo0CpgMh7pb2wztoGikYoqhBDijCDXq34YNGgQAJmZmcedh3VZa16nlg4vb3doaqC5mzFPPbIUkJxSTeToeDwVAA0BI0YyID+FPdUm6vJ2syvHYOvC0/iMZVJsHXt259PlUC1zFsmpzQw77zyi3LQ4+I7kwqkhFKekUib9gEIIIc4AElj1g3W+KuuUCsfDumxvc1+dcIojfiPmcOk4Bw6mZNB4PIEVFgqSU6iOGsNwdwU0fowYFUxByp4jrVRWmgFMW3AlAw98zQ9ZbV1npzaxd/knpPpfwaMvvsFrz97JxIZVvL+mSMZXCSGEOCPI4PXfEcVlMne+OrG9G06jQWMysH/dW3ywuRoLxxdlWwpS2G2YwehhrmzNGsGo0AKS39F3DoQUF6IvX8zVQam88+/t1FgAxZvEJU8xf4gOsFCz6SUe/ayCCTfcwPDK1bzxdjJVzrGcd+0cFl6aw7Nf52D/4fVCCCGEfUlg1Q8GgwEfHx8CAgKOu9UqICDAltfJpram8tm/V5BpAsxt1NcYaDR2aKqyWDCjQdMpwlLQaDVgtnTdamQpIHm3gSWjhxHgNIrI4hQ+7NRcpcF34h9ZnNjK6uc+JbXu8PrUOna893cyHRVAxdJciyVoFuePqGbd46vYVWEBCvl4WRj/WjyLUWteZ0ezffeHEEIIYW/SFdgPubm5AMTFxR13HtZlrXmdVJZmqg/fPVhWWd05qAIs+nL0SggRoR3jbQdCwgOhqoKqLrsLLRSm7KYubhpXToyiOHl3p25Ap6hLWXxdBPvef5M1hW2dlmuuqaSiooKKikqq6tvA0QknTLR1mLPKYjRi0TniqO16UjYhhBDidCKBVT+kpqYCMHXq1OPOw7qsNa/TiaV8Gxsy3Jhx4w3MGD6Q4JBIRs26iesmq+z6eWd7F15XyxUmk1I3jDGxZaTs0XcYrD6eGxbPQrdpKd8dAk8vL7y8vPDydMWxi5pnKd5LWnUU5191DoODfPELG8Wll0/CNWsv+7ubUVQIIYQ4jUhXYD9s2bKFuXPnEhMTQ2JiYr/nskpMTCQmJgaDwXB6PpDZUs2Wd15Ac8VVXHjLQ8x3g/rS/Wz/4L+s3F3fzRQJgKWI5JRSLhyWwu4qW1iF15gZTPB3QXfxvTxzcYf0pgMsffg51lcfFakZs1j5yvso8+dwx+PX42KuoSh9La9+tpEqGb0uhBDiDCDPCuynhIQEFi5cCPT9kTYA8fHxLFmyBID33nvv9AyshBBCiN8xezwrUOvr6/t3exfMw8PD3lmeNgoLC/Hw8CAqKoopU6ZQW1tLfn5+j8skJiayePFioP0hzKtXrz4ZRRVCCCFEPzQ0NAASWJ10aWlptuBq1KhRDB8+HK1WS3NzM42NjUD73X/jx49n/vz5zJgxA2gPqpYuXXoqiy6EEEKIbtgjsJKuwN8gISGBuXPn9jrZp8FgYOXKldL9J4QQQpzG7NEVKIGVHSQkJDBq1CgGDRpkC7IMBgO5ubmkpqZKQCWEEEKcASSwEkIIIYSwE3sEVjKPlRBCCCGEnUhgJYQQQghhJxJYCSGEEELYiQRWQgghhBB2IoGVEEIIIYSdSGAlhBBCCGEnElgJIYQQQtiJBFZCCCGEEHYigZUQQgghhJ1IYCWEEEIIYScSWAkhhBBC2IkEVkIIIYQQdiKBlRBCCCGEnUhgJYQQQghhJxJYCSGEEELYiQRWQgghhBB2IoGVEEIIIYSdSGAlhBBCCGEnElgJIYQQQtiJ7lQX4HjExcWd6iIIIYQQ4iTLzMw81UXo1RkZWAEUFRWd6iIIIYQQ4iQJCws71UXoE+kKFEIIIYSwEwmshBBCCCHsRAIrIYQQQgg7kcBKCCGEEMJOJLASQgghhLATCayEEEIIIexEAishhBBCCDuRwEoIIYQQwk4ksBJCCCGEsBMJrIQQQggh7EQCKyGEEEIIO5HASgghhBDCTiSwEkIIIYSwEwmshBBCCCHs5CwNrFyYdN8nfPns5QQrR32kjWXB61/x9qJh6E5J2ezJhcRHl/PerSPOuG3RhFzKk5+8yZIE/24roSZ4Lv9Z/l+uCrNPNVX8pnLPm5/x9OUR/dxfCm4z/8rytxcRZ/cdrcFnxBUseeZNli7/iuVL3+TpP88hzvNIxXWa9hArVq1i1apVrFr1Dd98tYwPXnqEGyYH4QCgCeWK55bz0rwotB2z1sVzy7vL+cdFPhx9GpxyDiO45c0PePAczxNfNl0wCYue5I1PV/DVsvd5/t7ZxLiedntECHGWOEsDq2b2bk6hedBkJgR2/gLVRk1hUmAV25MOYjpFpfvd0wQy65bZmD57ile3VGE5SatV9Um89u/PaJt9G5eEantf4CRwGbaAJ/42lwH7P+fpB+/hwae/ICd8Hn975HIiOgRxavMO3rrnbu6++0/86f4neGenM+ff/zh/jHc5dYX/LUzF7PzuGzbmNKGe0BVpCLvsXv58jpkNLz/GX/61nLKhN3HftYPPuB8jQogzw1n73dK8N4mUlvuZMnEA366qOPzlrWXg5IkEVe0g6aCEVaeMpYJ1T93FGpP5xFxUFQVFVbvMuy1vFY/f/gNai/lErLl/FH9m/OESvLe9yKMfJFGvAhTwzn/diH75Ci6NX81re9ra01oaqSjMJ9/Y/jL/0PM4R73BwkvG8mlG3okuKIqiotrzYKnV7Pl2pR0z7I4DnhTz80dfsnxbIRYO8sX6C/nPmKH4KwcoO7FRnRDid+isDaxoTiUpuYX7Jk3E/9vvqFQBbQRTJgVTtf1/tMdVOvzHX82tN1zIqFBXWkr2sPajt/h8VxVmdAxb9AZPBH7Mgqc20gzgfA4Pf7wQwz9u4Y00E4r3SK6+/WZmjwnHzVTB/g2f8vqHmyhu61gQJ8bd/Rb3ub7NLc9sphHAYSSL33gYnw9v4elNDTiETuOGW+YxY1gAuoYCdn37Lm99nUGdCg6T7uPjO1t4ZuGr7DYBygAu+9drnL/3Qe79rOyYzXYInsr1t13PecMD0BoOsvGzN3h/QwFt/pfyz7duZUSnI26m4Iv7+PMnuXQKMxRv4i9fyILZ4xnko6U+bxvLX3uTH6ytC7pAJs9bxLzzRxLq2krx7tW8//oX7DGogBMR0xew6JpEhgY40Ji/nZVvvcm3BxpReyhfK4BjGNMX/YkFiYNwa8pn28ZinDqVy52hl93GLZdPYKB7+3rffX05e2u0DL3pVZ4ctp91bcOZGXuI1296il8aOy6sI2DCNdx83QWMDvfErD/Ipk9f5b1fiuh0uA7TDpjEgj/dzKw4H0zFyfx00AMo7XU/t0If6wXgOpzRQ8ykPp9yOKhqp5ZtYflSTwLaHFG6LB2g1pN7qAqHUQF4afK6TtMDhwn38MEdbmzY6sT46cMYoFST+dO7vPzhdirM7Z9/uMSPbVudGXdOIMm887KrAAAgAElEQVTPLOTlFOdu9r96OD9HvvtRw+RLxhLqVEf2z+/yylonLlt8HYmxPqiVqax67SWWpdWh6sZw53sP4/bGdTy7LYir//s84zbcycOHfwTpRt/Ju4+68+b8Z9jqdB5/fW8u1V8k4zfzfOIHaNCnr+L1t3YRdu1irpoSiXtbETu/eIVXvs1uP1dtWslY+SIZttc6PDzdsDQ00NTvvSaEEL07S7sCAZpJTUqmdfBkJvi1dwdqIyYzMaSKHVuyMQFOg+fz1wdmYF73X+694z6e/1lhxoN/Zd5gx96zVzxIuPVB5rgm8cL9d3DP09/TNOVuHpgbedRObSU9aSdtIyYx4nCvjS5mImNc00hKaQS3cdzy97sZVfUlT/75Lh56PRnvKx7joctC+31wFLfRLPzb7Qw59AmP//nPPLGsjPjFD3JtrA5Vv45nbrmJm266iZtuupn73tlNfXMWv2wp7BxUoRBw8b08MseNrS8/yG2LH+K93Ghuuv8aYnUAjgye9yj3nmNk7X/u4677X+JXh4t58N5LCFIU3MYt4m+3j6B8xT/4890P81ZaINc+eicJXkqP5QMHYq/9C3dNauTH5/7CX/61nOKBI4mw9dhpCL7kQR67WMP6Fx7g7gf/R5LLbB68czo+h3t7ddFD8dr2Go8++DY7j7pqaqOu4pEHEmn7/hnuufUO/v5VDePv+BOzQ7vYy5pQZt93L7OctvK/Rx7g8Q/2ETQypn08Uy/7ue/1AjQ+A/DT6CmvNHb+QNWT/PUn/JDR0EOLng5fX09oqKfxOFtdND5xRBi+4NGF17HoybVYZi7hz5cE28Y8KW5DiLas4bmHHmNphtrr/tf4jmOi93be/PuD/PWtVNwvXMJ//34Jph+f5+EHnuCTvIFcc8dcYo6nF1YbzuQxJn568REefPJT8sKv4ZHn72dS+XL+9eADPP1tDSMW3MKsYwZVduYSewULZujYvm5np2BWCCHs5SwOrNq7A3e1DmHyBF8UNIRPmkxY1Ta2ZJsAN8ZffhF+uz7gf9+lUVxRSOqql/kwxZ+LLh2Lc2+ZK54EBDhRfWAn6QVlFO39ljdfeJMfs9uOGYzbmp7ETuNIJsU7A1qiJozBM20LKY3gm3g5iazj7bfXc6C0nLydn/HyskPEXHoxQ/rVnqjgPfX/mNG2mjc+SSKnpJj9P7/L8r3+TEkYhFZtoU6vR6/XU81wrroylvylr/D1IeMxOdXvep/HHnmer/cWoa88RNIP2yj3jybGUwHHEcw635/Upa/zfXoRZfnJfPX2Z6Q4hDDQzZ0JF56DdtMHvLP+IKWluWz95G2+zPJkYJiu5/LphjJzZhAHvniN5TtzyMvaxor3viPXGvXphjB7ziD2fvIaq9MKKc3byYqPfqZ25DTGuLXvcdO+r3nnuxSy8yqOCTYsFRt5+S9/5bWf9lOqL+fgujXsbhlI7MBjd7Im4hzOiylj1esfseVgHrm7v+PNL/di7Mt+7ke9UBwc0GGizdzPK7ziRMC4eVw7VUf6tj3HHyA0JbP663T0La0YMlbywY9VDD5nEkHWgjbvYtm760jLLUBvHNzr/qd5J198sIGMQ3lkbljBz7kamrd/wocbM8k7lMbab7ZS5R9JpNtxDBy3VLHx089IOpjPob3f89XmMnQVv/D+F9vIys8l+evVpJgiiI7o/qRR/BO5+5G5uKx/iXe21Z3gsV1CiN+rs7crEKB5L0m7Wrh/8nh8ftrPxMmhVG57nWwToA0kKtyBgrVZNFm/YdUGDmQU4jQzgkDNrp7ztpSw8atfmHn3U7wat4sdybvY+uuv/FjZemza1n1s3WXh7olxOKXUMH6cD+krU2hQtYyKjIDctWTbFlPRZ+6n8o+xDPRQyO7zxmoJixqIc8QInv3sCtu7Gp0TphZfNNDeMqUEcN7tNzMifyn3ry7sYgC/SnN1PT5XLObWGSMZ6O0IGgdctAfQaEDxDiXMtZLUgkbbhclSsobnHgK0g7g+REvxnrwjHVimbL568jFAx4iE7sundfcixL2a7GzDkQueyWxrTVM8Ihno78Hwe97niz9b39TiqM3H10ehBMBk7PaGBLWxmtaQa1ly1zTigj3QKVqcXDXs0Bx7kdcGhRHUdojsoiNteSaT9f972c+WrD7XC9VoxKw44KRrL4MScBn/fOVGhuoAzOQte5AHvshr/8w1kYc+n4YKKBodWlMlqd8+z/9+qkIltJut7t2R4MJM8aEi1AuCCdBCFYDFiHWze9v/AFjMmG13IrTR2qbS2NBguzlBNbbRhg7dcX3rmOg4LM7Y2oalqYEGa+YWI21GLW7dtoY5MvKqGxlX/in3vrebOomqhBAnyNkdWNFMWlIyrfdNZuIwL6aEVbL99ezDF18ViwqqpfM9aRoUULR9aMpT0Se9yj3p3zFqwnjGTLiCR679A9teeIRXtxmO+jXcyr6kXXDnBOIiqhk/IJ3vUhpQ0aKqKqhq5zvjNAoKGrq45vdI0SgY0z7mL6/voKVjSZsNh7dZQ/CFt3Pj0Cw+vO8HSrocv60h4vKHeWB6Pq8/ezdJeXVYIufzwrPDD2fWXtZuBzKrdNsS0HP5EgET5u5abzQaNJYyfvrvk3yd37HgbdRVWgjvZp1WDnHX8dhdw9n14hO8lFxMIyNZ/M5f8e5yG1RUs4nuitLzdvS9Xlj0ZZSb/AkPc0bJaUStXs+L9+7GSRvABfc9zGitYmvlUlt28M5DH7HXqKKaW6nV62loO5ybYsZsBs0xFUaDVgNmc98G6mt0WhToevqDXvY/QX1axamjeBHsb+ZAUjKlp8F9C0KIs9dZ3RUI0Jy2heS2eObceh4RldvZknO4TcNcTl6RkfAhMbhaEytuxA4Lx1iYR5lFxWgygoMTDtYrjdbhSCTqEssF189ltFMByT9/yTtPP8DT63QkXjIJ7y6uTK0ZSezSTGD2vCkE79tGcr0KmCnKL4SooUTbhnUp+A0Zgn9tPvl1KqrZiMnBGSfbL3Edui5/lZspKy6D0BC8DKWUlrb/lVUbMNS2oALa0NncsSCazPdeZ215N5McKO4MGR5Bzc41bDlUh1EFxcnJNohcrSmiuGkAURGuR8bi+IzliptnM9SpnMJSE2GREdg2RxPM1Pk3cV4UPZbP0lBMUZ0vYWFH8m0PMA+vt66YkiZfwga0UVZqXb6S6uoaGnu9wVND4PDh+Bdt5oedxe3pdc44d/OzwlxWRJlzOGF+Rw6kolj/v5f93J960ZLG9r0WRs6aSZAWMDVSWVxEUVE5tUf30FqaqSoqoqiomOLSqiNBVftBoayiDf/ISDr2sil+kUR6NFBe1s2UBkrH4N2ByJgIKC+hrIvA47ft/16oJoxGcHR0sh1vjU6LXSfEUCv58Z+L+NuqopM2vYcQ4vfprA+saE5ny64WQiMCqNi2hVzbRaCJlO9+om7STdx+yXBCA0KJv/QuFoytZu13KTRjoTQnH9PQ87l8fBQRg8Zy6eKrGWUdwdxmwm/8fBbfchmjIwIJGjSGiYM9aKyspLmrq1hrBlt26Zg4KYyMrbsOj4tRqf71O7bozue2m6cTGxxAxLirufPqaPJWr2G/CcwFhyjQjebC2SOJjBjM5CsXcVlsV5cclcpfv2W7dia33zOHMQODCRkynVv+9RJ/muqBoovgsrvmMyhrBZ/tMeHt44OPjw/ebo6dWyjUZspKaxkweQ4XjhnM0AmXcuftFxGkdcDBATDuY+26KkZft5iLhoUSED6ay26/g6uiFGpbmti1ZjPmxJtYOD2W4MAoJl57B7ddGEBbjbnn8pn2s2FDJaOuWsDUUFcc3SKYduX5DLJuqjGdH74vInbe/Sw8dzChQZGMu+JBXv731UT1egVWMZSU0xY5ncunjyA2bjJX3nMz0zw0ODgeG11ZCn9lffZA/u/GWUS5O+ISNJ5rZg8/HFT3sp/7Uy/UWjYv/ZycqBt47J45TIiNIGxgLGPOu4QpISZqDA19DAJa2PPDOvSjF3DfvASGDgwjavh0blpyDVF5q1mT2U3k4zqBqxdMIzookKipf2TR+Z5k/rKV8q7q72/a/71Q9eQdaiA88VISYiOIGnE+N1+XgIdd5/B0InzKZcyMdT/9JksVQpxVzvKuQGjvDtxFbeJQtiUd6jQGpyXjY558wcyt1z/Eizc70lS0l7XP/YNl+9vHwzRs/Zg3R93LjQ/+lzmtpaT+vJuMpintC5sPseKZ53FZNJ97n7sRd0sNh3Yt49kPUzp1Dx3RSkbSDqrP9Wdrcr2tBUGt384bT7zJjbfO44lX/FBq89j1zVO88HVB+/iiip9458M47vnD33h+XiOFu9aRnDWSwV2sQa1J4tUnXPnjoqt54L9/RNtYROrad3h7ez1K0IWcM8QND90iXvxgkW0ZY/LL3PSPdR3GnBhJ//xFlg24nfmPPY1Gn8H6b77i11ljcPbSQmkbWZ/9ixe0t3L9Iy9yi2MjBbu+49/PrabUokLyuzz55o3cOu8f/M9fwZCTxLIn32WzQUWl+/KpQPYX/+ENr7tZ9Pwn3NNWxJ4NBzlktnbymchd/k/+zS38ceGTzHa3UJW9mS//9y15ZhjSYx1Qadz2Hi99/yduvuUJzrOUsufH71i163wi3HzR0Ng5gLGUsPr5F/H700L+9eEtqBXprE/PpnlU7/tZNdf3q16Y8lfx1KO1XDvvcm5/YgFeulaqCzPY/uHfWLa2ss8DrFszPuYfz7Rw07yFPH6VH04tlWTv/JIn3/+aQ921KLVkk2WeyX3/vYdATTUZa1/k5R8rullnz/v/t32RtJH6xev8cN+t3PXM+Zgr97NpZypVxz907FiKNyMuvoaLsw6wMesg0hsohDhRlJiYGFXtZsBMX9+3vrb+GxwcbMciHisuLo6ioqITug4hzmYOE+7hoyUKL/zxBXYce2OoEEKcdsLCwsjMzDyh6ygtbZ+v0Dr848gwELp83dX7Z39XoBBCCCHESSKBlRBCCCGEnfwOxlgJIY5m3Pki8+af6lIIIcTZR1qshBBCCCHsRAIrIYQQQgg7kcBKCCGEEMJOJLASQgghhLATCayEEEIIIexEAishhBBCCDuRwEoIIYQQwk4ksBJCCCGEsBMJrIQQQggh7EQCKyGEEEIIO/ldBFaK/3ym3L2UEdGu/VhKh/e0tzjv/87HseuHWZ8mFHRxf+O8mxbhrT3VZbFScB75D86dPx/PXmuYgtPgBzl30d8I83H47avWDmHwH1cwZrgnJ++wuRB82QrOmT7iN59QSsANTLnzn4S5nU6Vrrvts/OxO+H6Uy+FEOL4/A6+XrS4xybgprjhN3jMyXs4ovuljLvzFaL9T5to5yRSMZasp2DvbppVQDOI6OtXMH6U3zEpFdepxE7yp3j1cxQbjCe/qOK4nRbHrl/n2VH1UgghToCz/yHM2mgCY3yoTF2P+9Bp+DklUd4q36onmrnqF/KqDr/oofFFbdpOxqdJWMxyTM40Z+Kx61Qvj6IoCqp65myLEOL0dNYHVpqABALc0sjdtY7mqMcIinKnYn89tq9PTSABk28hethIXJ1aacxfzcENy6huPPy5NoTAxH8xcOgQHM3FVG5/kX17c7EAKB54jb6VoWMn4m5bdjlNg//NtMRhKIDvdV8RnPwXkjbvx9Jl+i+obokiev7zDPLr/KtbLX6LzSu+peWobVI8JhFzwSLCgn2w1OyipMyDTpcDhyhCzrmNQYNjcLRUYsj4kMyt22gxA64jGTRjEWEDw3EwV1Cz/1Myt2ykyXTUOlxnMeam/6Nu+Z/IrjADWjymvMzE4NVs+ep72qKWcO5MyN1lIWh8Ah5OzdQfeI/0XzbSZFZwHv00CcP2sONnHfHXXIO7Bpj+AecN/YBtX3xJo6rBaeC1xE27GB9vJ0xV28n75U2KyhtRccItbiFxk87Fy0OLUb+Lgo1vkF9cxzGXPcUVz5G3EzdhCu66WmoPJmHs1A7b03qOrizd1QUV8MZn3M3EjByPp5sWY9U2cte/QXFF07H54ITb0D8ydGIiXh4OmPTbydv4JoWlDdDLfm09Jq8OtAEMmHIHscPicXFoobnwR7LWf0ZlgxnNoPtIPK+Vve/+D70FYAARV71OaNEDbNtWiNe01xgTsJsiYzwhEcFoW3IoTXqZA5mFWJRQIq95icDqVTT7n4efnxvm6u3k/fwqheVdbV/3+xTn8xi98Apad+7CKe4CfDwUWotWkflLMm6TbiMqJgoHYxEVO18hY08W5vYK3fV50aSi6baebcIy4ukuzzPFN5Hoc64hOCwErbEMw773ydy6gxbLkXq5/bPPaHQ6j9E3z0fdfwCX6Iko6Y+wNSkbx27ri4JD4KUMmXElAQO8UBuyqdj1BgfSczBJPCaEOOws7wrU4Rk7BcfireibDlKR24hP7Hh0thYUR7wmP0b84DaKfriXpM9fpEx7MSMvvASXwymU0PMJaPmOtOUPkpbeiP+0mwhxVwANLiMfZMwIDSVr7ifpi1eocJzNiPMSIe2vbPjoPWpM+eR9MZ+kpANYuk0/HSe1gPyvbmbTuzey6d0b+fXLZdQa66jav+PYC60SSsRF9xGmSyLjy/tJ+XUfzmExRw6k4kPgBY8T7ZHM/hV3s/377zHHLmHEyFAUxYPAxL8Q7pRE+rLb2fb995hi7mbE2MjjGo+kuE0jPKyA3G8fYNdPW9AMuY3oqM7j2NSKz9jx1gPk6VsxbFrML19+Q5MKmoBrGX3hZFpT/sX2pY9woDSUmNkL8XMEZcAVjJg5kuZtj5P08cMcLA5m0CW3EuB0dCkVdAMXMnLaEJp3/ZOdK/5DUdsQfDoMoOlpPZ31VBcUnEfex6jRblSue4DNHz7EwcpoBl90DZ7H9EApOETewtiZI2ja+QRblz7M/qJABl16B4Guv2XclIJz/J8ZMaSVwu/+TNKylyh3uJj4C2bh3McctEExkP4kW968kV079PjPfICoAdbfVlrcg7ypWHMXm96+hwPlUcRc8kd8uxg61es+1YQzIMJEydqH2bHqUxp8r2XUvPsJqF3BnmUPkJpag2/CLYR59XQeTcd6uLuuZy607u3iPNONIGbOnfjWfc7ujxex9fv1KMOXMHSoT9d1XBmAt28lh757gNTUfJSetk03gphLbsC15A12fHwnKdtL8D73YaJDjqlMQojfsbM7sNIOJTDak5rsFEyqidrsHZjCzmGAy+GvWN0IQof5U731dYqKi2jWJ5O/8VP02lDcD3+rW0qXk7EtiVp9DpW7fqSaCNx9tKAdQsToQVRvfZ3CokKaq3ZyKGkdxvBz8HUwYjYasaBiMbZgsag9pvdzMmNq0tPaoKe12YXASbNxLniH/enlx7QWKH7nEhJQRv76jygvy6O+4DsOJO+1pVO8z2dgZBF5P6+gqqqUxqLvOLgnD4/YSTjjiYunE22lOzHoy2gsXMX+NW9QXNF2fPvXlEzuupVUVeRTm/U1JZWOuPsHHnUBM2E2trW38FlaMJtMqLjgP3o2jgff4UDmfppqcqhIWkqZZjKBIY4o7kE4mwvQ52XRXJNDWdJLpG/bScsxtdUZ32EJOBz6mIzUPdRV7ads6weU1FkOf97zejrppS4Y894j+cvnySssorU+l/K9W2n2iMHT+ajLteKOf/w5cOB9DmQepLkmh4qtb5NX7oWbz28Zb6fF2WMA1KZTWVJMc9VOctc9T9aBoj7noBb/QH5eGSZTHXVp75FfHkLgkEGHj5eZhswvKa+ux9xaRMWWZeidphEUenTQ0Id9qlZRtu0zysvyaSj8nrysMjT1Gziwcyt1+hyqUr5Db47Aw0/Xy3lxeN92U8+wtB17nlkKKFx9P7t//ZW6Oj3NRd9RUuKAZ0BY14GVqqds68eUlRyisVHTc73UDcDZpZH6vFQaakqozXyX9HVfYmjVnsQbJYQQp7uzuitQE3IOAc4Z5OQf7vor30ply98IHORNaboB1TUUN6dKqvVHuoXUmjWkLQfQ4Q0oxmbMCqACljYs6NBqQXGOxN3DA59Z7zPzgsMLK1o0Sh6OrgocFav0mr5FBXS4j/4Tg7x3k/H5L8d0AQIoXqG4mA5RbzDb3rOYj/y/xj8Kd4fhDF7wBbG2hRzQNGXhpCmhNOUXQs57ioSQnVTkJVNx8FeK6nvsgOqepQWTtQtRacNsAo2mD3eHKQG4+7vh5Ps404fZQkI0Dhqq3Z1RD6wmr/wx4q5/gaBDO9HnbqYsfSPGY6LMAbh7OdB4MIcjw3zMYOnbehTajgSuPdYFwFSP07jbGDp0FO6ujqBxQKs5cOz4MSUAV28tTQV5R/I2Z5G36tH2j/tzY2onJur2raAqdhGTrx9PZW4ylTm/UpxhQOV4fiFV06BvwNkzEIXcYz5V2wqor3fCx8sTaDzyQa/7tL2squXIIhZTG7Q2YLK+ZzFiNmvR9eU8gv7VM0sdbcoEomffx4DAABw0CorOAVOGtosuTQAjFuvp08u20bqD/NRLGHnpa7jnb6Pq0HbKs3+ktk36AYUQR5zFgZUT3rGTcHLwYdjCL4mzvq3RQewknNJ/pEVVaf+v/1RFg6KWUfzjP8irOhLYoLRhrLdg60vsa3pAE3Alwyb5U7nmKSoauymVqqJaTFi6+1jRQMtWMpd/jKHjatRGWswqlqz/sa3oW3yjJuAbOZfRk/5AxZqHycgxHMdeOE6KBhQz9SlPkL6vig7XYCzNDajGg+R9fSvlwePxHziOgMRnGTR2Gbu/+Yq6o8aCqYBqMXV9DHtbT6eMeqoLGtzGPsyIoQVkfn8XFfo6VL/5TL42vuvN63UHHB+LYS17P96JZ8RE/AdOJmbuPKL2/ouUrWmYe1/8GIqmp5YWDUpXH/a2T/sZ4fV6Xnj1Lz/FaRJD5tyE895n2PV9Oi1GB4JmL2VwnxbuZdtUC9VbHmDzvuEMiBqHX/w9TJ58kP1fPk1JraXbbIUQvy9nb2CliydokAvVvz7Agbwm29vKgLmMPv8cBrivobCpiMbWADz83FCqDrdquY0lclwwhq1res6/uZimVl9cPdpozqmwrhSNTj3yC7g/6XWDiTr/ShwP/IfdubXdBntqbTFNjmNxc1fQ17WnUjpcAVVDES26SbjoKimpPhyFKE5ota1YHAYTOj6e1vSVVGXkU5WxisrE1xgzchI5uT/S8WZJ1WxCxQnNkQFpaLS/oSur4waplTTVmHHx9sVYl4b1B7/WwQmzEVyiriLUZQ+5GZspLNlM0d4DjLnxGoIDV1FXbDoqHyMuvuFoqDh8IVRQlb6s56gLYU91YduvuIcMpC33LSqq6rAAGgcnutwbajmNNSZC/CPQUH14cHYwgZMuQpv9ESX1x7lfFS98Rl2Ge+UqinLXUJe7hoKi+5l2/kX47Eij0mLConVCq+Fwi50OzdFBjtLhDSUIzwGutBR07G4+8rniMghPzxZaauug45b2sk+Vvg74surlvOhvS5ziF4+P0wFyUtNoMaqgOKLp67dcb9vmey6DBquU7fiV0t1plKauJ+oPzxM+JJzSHfnH9QNNCHH2OWvHWGnDz2GAwz7KDmTRaCiy/TVk/0xl0xACYwaAeR/FGVX4TrmN0JBQnH1HEzHjTiL9FdpMvazAnE7R3kK8Jj3A4CGDcfOKxH/cX5h6VfsdcIqxEbPqi0doNG7uLig9pnfGa+JdRLrsIGd3NhpXH5zcfHB0dTvmAKnVmygtH8jAabNwd3ZE6zWeqJHDORJL/ExhiT8DL7iDsNBwXHzjCbvgeSZNG4HGbMQpcj5DE+fg5xeIS8BYBgR6YKqvPPauJmM+dbW+BI46D2+/SLwHX0/ssJDja42xNGFqU3AJHIGHlzcatYHKvT9jjLqZ+ImT8fQKxiP6ekZf/xhhnmDWRRF67u3Exg7GxTMU75jRuKpVtDQe3Srw/+3deXSU5aHH8d87MyE7hCBbCIRIyEISEEzYlUWlcqTe1iIWrdVq1bpdj+2599hz297bSo/1dlG01d5zbT21RcWFXrQFLaBWQZA9BIiEkMQshGEJZN8m894/YHBIZiYzyZuQwPdzDifv+7zPPO8z78nw/s7zPPOmSacObpE58XZNSBouu2OIBmd+XaM8i9cDnqfDOwn0u9DWpKaaGkVMuFljxqUqLnmJMhYuVoQRpk6ZyGzQif2bZabfo9T0VEUNTtbw6Q8rLWuE3E3u7l9Xs1mKm6fUhfcqIWGMIoakavi4ZNkbnGpxS2Z1sRrsUzVmymTFxKdqRM59Gjvyws4ZY/5FEzPSFTV4nK7IfUDjhpWrqvDIuUBgV2z2nRo3dqwihmZp7PxvKr7hY1VVdpjTDuWaBqOLz1FXOn7OzLqjajIzlJg7R3EjszVq5r8pZdwg2exBTFF38d5MV4yGXPWA0nOnK3bISMUkztLQ6DY1150J/X0DuGRdoiNWkRo2MVf2yj/qZMcnAboL5Sw+rcSJsxS5d61qt/1cB2wPaMKSlUp3NKi+9G/a997f1WTaFR7wHC7V7lihPN2nlGtWaFx4u5qPb1HJpnfU4JbM1l0qz1+i7LkrNCX2v7Rt80H/9Y1kpaYmyRaTrKw7550/g9nyofL+9zc64T0CZh5V+fvPKPyGe5X73ftl1u5XVWWRXGM9FapUsf6nMq69V+O/ulJpRo3qit9VwWf75XabKln/GzmuvV1Zt92tMPOMaktWa9+W3Z2nktzFKvtwtQZfd7euvt2uVudWOcvKNLhba4Sccu79WGOue1Q5Q1Zpx1trVF/+snb/o03pMx5RzvQItdcc1LEtv1dVrVvtdb9XXvR3NXHuTzU7Okyu2gJVbVip8jOdp1tcZX9U3raHNGnRi0oKq1ftkS06c7r9/C92u9/zdEySrQF+F0w1f/aMSmIf0oSbn5ZRf1BH96yRM2uqbFF2qca7HVOu0pe058PvKH3GTzUr1qaW45+q+N0/yNlgSurudW3R6YNSe8IAABAzSURBVC0/V8Hc+zR+yUqlD2pTi/NTHXrvTdW6JdVu0KHNGcqa8Z+aMbNBDSUbdNI5WXFeLbhPFqo1+UHlLhgnW3ORnJt+eXb6zZCkdjUcO6bY2U/qyhExcp/aqsL1f5av534GvKahjlh18TnqKqp1/pxtUMGmZGXN/VflTGlRfck7Kt03SAnh0UH9BYXAvy/v6cC6wUqf+5Bypw+RmspVvf/X+vyQ/xFmAJcfIyUlxfT3ULxgyz37np+jR4+2sIudZWRkqKIi+G9DAZc3h+LmvqCrh72hT97ZqE5rrT3PsTrymLbvrCQkAOiXEhMTVVBQ0KvnqKqqkvTlEhujw2LTjvu+yi/RESvphsfevdhdAPqFDSu/fsF+x8/Ghue+F/A4urZh5VcvdhcA9BOXbLDiPzrA48KPeafPhjEm8HEAQNAu2WAFwMOlM5vv1yZ/h81Kla5eqtI+7BEAXKou2W8FAgAA9DWCFQAAgEUIVgAAABYhWAEAAFiEYAUAAGARghUAAIBFCFYAAAAWIVgBAABYhGAFAABgEYIVAACARQhWAAAAFiFYAQAAWIRgBQAAYBHHxe5AdyUmJl7sLgAAAFxgQAargoKCi90FAACATpgKBAAAsAjBCgAAwCIEKwAAAIsQrAAAACxCsAIAALAIwQoAAMAiBCsAAACLEKwAAAAsQrACAACwCMEKAADAIgQrAAAAixCsAAAALEKwAgAAsIjDNM1OhR3LulsHAABgoDFNU4ZhXJBtOu57yjz1Pfs+g5V3w4H2O5YRrgAAwEDlHZC8t72P+Srz3nd0rOzvJN0pAwAAGGg8I1aebQ9/Zd77Drfb3akxXyfoqoxgBQAABjLvTOQJUd77vqYCO5Y5YmJiLigINLUXaN+zTcACAAADUVRU1PlA5R2sfIUsf/t8KxAAAMAiBCsAAACLEKwAAAAsQrACAACwCMEKAADAIgQrAAAAixCsAAAALEKwAgAAsAjBCgAAwCIEKwAAAIsQrAAAACxCsAIAALAIwQoAAMAiBCsAAACLEKwAAAAsQrACAACwCMEKAADAIgQrAAAAixCsAAAALEKwAgAAsAjBCgAAwCIEKwAAAIsQrAAAACxCsAIAALAIwQoAAMAiBCsAAACLEKwAAAAsQrACAACwCMEKAADAIgQrAAAAixCsAAAALEKwAgAAsAjBCgAAwCIEKwAAAIsQrAAAACxCsAIAALAIwQoAAMAijovdAQDA5WdQ1t166rE50uZn9cM/HVBrX5zUNkqLf/gz3RK9Qb/48Zs60t4XJ7WQMVTJy9/Q1CvDOh1yFz2t9avXq8Xsy/6MUNLSF5Ud87Y++dOrqnH34bn7MYIVAKCPhSsjd4oG22zSlOlKCz+g/JaL3aeBw2w/ooot/1SdV4gyqw/L1ZehSpLkUlvDcTW216q9q3OfC4VXjXxfnz73KzkHWqgNgSM+Pl6meeEV8d73te2vrGM7AAB0Ep6unCkxajhxQvZhk5WbFq78ff09WRmS+sk9zl2qyi2v6GgPw4lhGD27b5vVOrruQR3tWTe63Z8e99+HuLi4820bhnF+2/uc/so8246jR89eEl+d89dhf0HM83P06NGhvRMAwGUjYlKOsqPrlLdqjex33KfJuekK35enFkm2sV/Tf/5ksZo2vKWypOs0K2WI2o/t1TsvvawPyl0auvAH+sXyGG15e5/irrlWGcNsqj74vv700t9V2DhIMx5ZqfvSduj5x/+gPJdkn3Cbfv7EQp1+4z/0y02d+2JET9CCZbdq0bQkxalGJTvX6bXVn6is2a5p9z+nB7NLtHV3hLKnR+vxB5/o82sVEvs0XfXor5RU9WflN+YqNWOiBrUWqXzjCuXtr5Q5/Nta8N27ZCtcr8ZRC3RF9Qt6//V1cg2/QVk33KnExJGyNRXLueN3ytuWrxZTMsLTdeXi7ystdbzsjQUqKzitUTNn6fSaJdr++Sil3v2yMiPf0j//5/eqbrcpYvwdmnL91zRy+GCZDUVy7nhRe3eEK/PRp5UcbZO0RHOeyFXRn7+lwit+oRsXj5Uz76Ci02aqfesD+ujTo4pKu1uT5y3W8PhIuap3qfSDlSooOiH56P87r/3d0kvodDol+Q5QvvZ9lQdcvO6vAavqAwAuN5GalDtZ0Q0HtDt/v/YUNCk6O1eTIrzrOJSyYIGuKPtE7314WG0Jubr11lka6rlj2cZo7nXJOrXtfW3Mr1X85Jv1zesSQv82lm2EFjz4uJZfHa6iTWu1dotTw2bfqUeWTZKnO0ZUmnJSG7V/87aevnELRSg8bpSiPP+GDJXd6/ZrT/mGksP2qHjre6ox0jT+K/doVPj5o4pNm6vwYx+p7PAXao9eoKuXP6Hxg0v1xcd/VPHRKI1auEJXZcbLMGI08oafaXJmgloK39ChfWUakn2Novz0yoi5XlNv/Y5GuD7Wgb/9WocqYpSwcIWmpjlV8u7TKna6ZLbsVMGaX6n0xLnhNmOERmUkqbFwvSqd9QpLfkhzb1mmuPoPdOifq3XcPUVp3/iRJsTbfPa/N/Q0+7DGCgDQd6IylZMVpcb9e1TY3CTtLlBLTrZyJ0Vqz+6mc5Xccm56SS+8VSyXbbtak1do2ZhxGm2TqiTJXaetf3leq/JapMjTSvjNvZo0dozCdDKkrtiT5+mGtDAVr3lJqz44Kbe26Uz8k7rn6hlKe+3Q2UquQr39y2e0qbr/rMw2wuZo6oNzvixo3609z/9AJecun/voX7Ttr6+rwbTrhGOK5s+6UkPi7KpyS5JbTXuf1MfrdqldNsXOelgJ0WUqWvPfKjjmkvaWaFDCUxqXOV1hR1qVlDFc7tLn9Onav6rJlEpOx+umm3N8dyw2STFhbtUXrVVJfqnMwlI1V02VvbFRNaXbVTPdlGKOqbpwh2rbjbPh1azX0XWPafuBWpnGUCUtu1FRjRv12do/yNkq2crsGnLXciWmJai4qGP/+yeCFQCgjxiKzMxRdmSbSkqrFTtiuIyTpfrCNU1ZuZmK3L1TZ1damWppbpZbksxmNTVJcji8blhtam5yndtsVKNLMhyOEEesDMUkjlW8zaERS3+m3y71OuSK05BIQ/WSZDaovqH/hCpJMl37VLj2DVWfTxanVdPktUSnpUFnr46ptpYGmYqR3S6du6ByNdSd3ZRDsaPGy7BFKvWud5XqdQ53w3BFxtoU43CroSJfzeeab3e1+l1pZh7fqJIvlih73gtaNHGXnEc+U2X+/+n46SbJGOrnVa1qbWo626ZtnOJGhsuIXayZjy/27o0aY+NlqGP/+yeCFQCgbxiRmpyTpUhbuDJv+7Geuu3LQ2ZWrrKidmlXX3bHZpPMZu1/+7f6W5HrywPuRh1vNDWhD/sSEvOEThduVlXHIRt7qA2dW6DdflCFb76oKu/vD7Q61WDeKFOm5A4yxrSXqOj1u3Qq9StKTJuhUbmPa/zMr6vo9UeVXx5MA2ejsXlirXas36gvs6Ipd32pTMdVwb+1i4hgBQDoE0Z0tnImhavl0Dq98sEX56dyHMnX665Fk5SbFaXdVT05g1uuNrfkiFTUIEkuyRY+yM+NzlR9VZVqzTSNHGqq7PBhtUgyYhKVFOlUjcvniy4xbao/WSFlJCgyrEzVRTUyJdmvSFNU7XG5jDLVt9k0amymIoxiNZmSPWyQ/CzfVvj4ZUpLDdPxba8qv2C19g++Rdc8/IjGZqbrQHnJ+Xp+v8fnrlDdKZeUmKhBNQdUUeOWFKbo0ePUeqZe5hXWX4HeQLACAPSJmOxcZUS06dCWf2j7zrrzN1ijKFqzF35Lk3KzFf1OT87QrsqyCrXnZmrJd76hoWXhSp8zR3E26YSP2q7Cj7SpeLaWLviefhC+SbuORShlznxlVr+pHz27uScd6V22JCXMvkOxXgNJ7pqdKv081Ibcqt37lo7l/LsSb/q1NHKjaswJSsyZL21/QB9u3qmygpMac9X9mvXV4ao8M1Qjp86UIV+p01RbS4xGXH2HEkfE6PM9h2WOvlaxtlbVnTom02xWS2OLFDlVE+bfJtvut3SmUxMnVbF9k1KTblT27U8qKm+fXEPnKnnyMFWuulv5TT5O2w8RrAAAfSI7N0MRriPad7DhglELs3a/8krcmjQpV9kbg5oz8sMt50ev6e0r79FNkxdpyfgvtGP7Hh1bNM1P9Ur947fPqn3ZUl037SbdYm+U89BHenn1p6p2S+N70JPeZNhTNG5eygVl7rJmVXxe4ucV/pm172vnqzZlXr9cY2beq4TWY6o++Kzyt5fINE05N/5EeWHfV3rGcqU2HFB56SHFZyXL19OY3FWvaOvbNk2ef6Oybl4qNZXpxNYVytt1VKak49tX6XjitzVy2mLVH17TOVjJVOvhZ7TlrzXKunaRrpyXK7PusKo+eEqfl7dKA2TEykhJSTGl4J9Z5aus4wNDeY4VAAADnzFohCJsJ9TUbEqyKWb273T9gqEqfuVb2ld+6c2XVlVV+X34p699X2WMWAEAAB/CNWz+s5o1oVgle3eqOSxbSTPSpBOvqqLq0gtVViFYAQAAH1pUvf15FcV8W0lzHlaEvVZ1xav02YZXVE2u8qvLqUBfx5gKBAAAl5pQpwJ9TQ2G/BcAAAAA4Nv5YMXf+QMAAOiZbo1YBfvXngEAAAai7mYdpgIBAAAsQrACAACwCMEKAADAIhcEq1DWSrGuCgAAXA5CyTyMWAEAAFjE8mDFSBYAABiIrMgwjFgBAABYhGAFAABgkU7Biqk8AACA0BmGEdyIFWELAADgS/6ykWVTgYQvAABwKehJpumVNVamafZGswAAAL3CquzSK8Gqra2tN5oFAADoFVZllx4FK39DZXV1dYxaAQCAAcE0TdXV1fk8Fuq0YK+NWFVXV6u1tZWABQAA+iXTNNXa2qrq6mrLRqwcwVY0DKPLkORdp62tTadOnTp/rONrvff9bftCUAMA4PLV1QiS93F/26HUC7UPQQerYPkLYB3Lvfc7bnv4aydUhDEAAPofq54o4KudYEOV1f3xGayCGZ0KVNdTFihMBduOR0/CEY+CANATiYmJqqiouNjdAOAl0L09lGOe/a7CWbD9sXzEyteJgg1TgYKUVSELAEJFqAL6h+6Eqe4GsO6yJFgFGrUKtO3vtZ5yybrpQG8EMwAA+l5vBJnujE4F2g6m3UD8BquuwlIwQglXHoFGqvzVCRVTgwAADDw9WVjek8XqXbXvXRZwxKqna60C1fE3IhXMlF9vhC0AANB/dGd9UzDHevqtv67qOlwuV8AXBBNYAj1KIdSy7tQBAACXp+4GpWDKutO2w2YL/IzQQMHG1yMSAr0mmADWVds9QUgDAODi609rrXpS7uuYI1BlzyMTfJV3daJAbXX1en/n7amu3isAALDGxVjP3N2Hh3bn9f7KLwhWwSwc98fXYnR/Zd0Jc1YIFJ5Y0A4AQN/ozXtud8JRT8o6cvh76nlHwQanrvhb5G7l1F8oi94BAED/YOV9OpRgZFUYk3r4HKuuvgkY6BlVvflYBQIUAACXD6sew9Ddtr39P5VynW1JdMbnAAAAAElFTkSuQmCC)"
      ],
      "metadata": {
        "id": "XnWcHggOchg8"
      }
    }
  ],
  "metadata": {
    "colab": {
      "provenance": [],
      "collapsed_sections": [
        "X-oxmSRFt25K",
        "F4eZTJsu1970",
        "_9qrXE-7TeFx",
        "q7-xsx8gCKpw",
        "TxQQKzoYbC4I",
        "E7oDglX0OasW",
        "qOJ5mEPNSTG6",
        "Qbh-NdSFVuj_"
      ],
      "gpuType": "T4",
      "include_colab_link": true
    },
    "kernelspec": {
      "display_name": "Python 3",
      "name": "python3"
    },
    "language_info": {
      "name": "python"
    },
    "accelerator": "GPU"
  },
  "nbformat": 4,
  "nbformat_minor": 0
}