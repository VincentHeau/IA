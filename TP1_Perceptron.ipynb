{
  "nbformat": 4,
  "nbformat_minor": 0,
  "metadata": {
    "colab": {
      "provenance": [],
      "collapsed_sections": [
        "cc1vw8gcaIbw",
        "8OWPnTSelxlA",
        "pCB4Dl6PoH_i"
      ],
      "include_colab_link": true
    },
    "kernelspec": {
      "name": "python3",
      "display_name": "Python 3"
    },
    "language_info": {
      "name": "python"
    }
  },
  "cells": [
    {
      "cell_type": "markdown",
      "metadata": {
        "id": "view-in-github",
        "colab_type": "text"
      },
      "source": [
        "<a href=\"https://colab.research.google.com/github/VincentHeau/IA/blob/main/TP1_Perceptron.ipynb\" target=\"_parent\"><img src=\"https://colab.research.google.com/assets/colab-badge.svg\" alt=\"Open In Colab\"/></a>"
      ]
    },
    {
      "cell_type": "markdown",
      "source": [
        "# TP1 - Classification d'espèces à l'aide d'un perceptron"
      ],
      "metadata": {
        "id": "Y66DhAixsvbq"
      }
    },
    {
      "cell_type": "markdown",
      "metadata": {
        "id": "_KfOHAPdVYMQ"
      },
      "source": [
        "## Introduction\n",
        "\n",
        "Dans ce TP, nous allons explorer les bases de l'apprentissage machine à l'aide du dataset <a href=\"https://fr.wikipedia.org/wiki/Iris_de_Fisher\">Iris</a>. Ce jeu de données de référence permet de différencier trois espèces d'iris : *Iris setosa*, *Iris virginica* et *Iris versicolor* selon quatre caractéristiques : la longueur et la largeur des sépales et des pétales, en centimètres. Nous disposons de 50 échantillons de chacune des trois espèces.\n",
        "\n",
        "**Objectif** : classifier le jeu de données Iris avec un perceptron afin de distinguer les espèces les unes des autres par combinaisons de leurs caractéristiques.\n",
        "\n",
        "**Objectifs pédagogiques** :\n",
        "- manipuler des bibliothèques python d'apprentissage machine\n",
        "- explorer un jeu de données\n",
        "- mettre en oeuvre les méthodes d'apprentissage machine\n",
        "- se familiariser avec les réseaux de neurones\n",
        "\n",
        "**Etapes** :\n",
        "1. Découvrir le jeu de données et le formater\n",
        "2. Implémenter et évaluer un perceptron\n",
        "3. Visualiser les résultats\n",
        "\n",
        "Après import des bibliothèques néccessaires, nous commencerons par explorer le dataset Iris."
      ]
    },
    {
      "cell_type": "code",
      "metadata": {
        "id": "NF8LbmgLVZNr"
      },
      "source": [
        "import numpy as np\n",
        "import pandas as pd\n",
        "from sklearn.datasets import load_iris\n",
        "from sklearn.model_selection import train_test_split\n",
        "\n",
        "import matplotlib.pyplot as plt\n",
        "from matplotlib.colors import ListedColormap"
      ],
      "execution_count": 1,
      "outputs": []
    },
    {
      "cell_type": "markdown",
      "source": [
        "### Petit point sur la reproductibilité\n",
        "\n",
        "Afin de pouvoir comparer vos résultats d'un essai à l'autre, ou entre vous, il est intéressant d'avoir un code **reproductible**, c'est-à-dire dont les nombres aléatoires générés et les résultats en résultant sont les mêmes.\n",
        "\n",
        "Pour cela, nous utilisons la fonction **seed** de la bibliothèque numpy qui permet de contrôler les nombres générés de manière pseudo-aléatoire.\n",
        "\n",
        "Un ordinateur étant déterministe, c'est-à-dire qu'il met en oeuvre systématiquement une suite d'instructions, est incapable de générer des nombres réellement aléatoires.\n",
        "\n",
        "C'est pourquoi l'on utilise un algorithme générateur de nombres pseudo-aléatoires qui prend en entrée une graine (un nombre) déterminant la suite d'opérations qui donnera un nombre en sortie.\n",
        "\n",
        "Définir la graine permet donc d'obtenir les mêmes séquences de nombres aléatoires générées à chaque exécution du programme, et sur n'importe quelle machine."
      ],
      "metadata": {
        "id": "FqZ6TkxBaq-V"
      }
    },
    {
      "cell_type": "code",
      "source": [
        "# Pour la reproductibilité du code, nous allons fixer :\n",
        "seed = 11\n",
        "np.random.seed(seed)"
      ],
      "metadata": {
        "id": "qTUZQ7g4O-pS"
      },
      "execution_count": 2,
      "outputs": []
    },
    {
      "cell_type": "markdown",
      "source": [
        "## 1. Le jeu de données Iris"
      ],
      "metadata": {
        "id": "qYyoEtnd2X_Y"
      }
    },
    {
      "cell_type": "markdown",
      "metadata": {
        "id": "bM89qNZMVeJF"
      },
      "source": [
        "### 1.1 Explorer le jeu de données\n",
        "\n",
        "**Consignes** :\n",
        "\n",
        "Explorer le dataset Iris avec la librairie pandas :\n",
        "- sa structure,\n",
        "- ses données,\n",
        "- ses labels,\n",
        "- sa taille.\n"
      ]
    },
    {
      "cell_type": "code",
      "source": [
        "# .... A FAIRE ....\n",
        "# Tout d'abord, il s'agit d'importer le dataset Iris avec une fonction importée :\n",
        "from sklearn.datasets import load_iris\n",
        "iris = load_iris()\n",
        "\n",
        "# .... A FAIRE ....\n",
        "# Préparer les vecteurs de labels et caractéristiques de ce jeu de données :\n",
        "# - définir X comme les 'data' de iris\n",
        "# - définir y comme les 'target' de iris\n",
        "# - définir les labels comme les 'target_names' de iris\n",
        "# - définir les feature_names comme les 'feature_names' de iris\n",
        "# Pour cela, regarder à quoi ressemble iris : print(iris)\n",
        "X = iris['data']\n",
        "y = iris['target']\n",
        "labels = iris['target_names']\n",
        "feature_names = iris['feature_names']\n",
        "\n",
        "# .... A FAIRE ....\n",
        "# Transformer ces données en une DataFrame de la bibliothèque pandas (tableau) :\n",
        "iris_df = pd.DataFrame(X, columns=feature_names)\n",
        "iris_df['target'] = y\n",
        "\n",
        "print(iris_df.head())\n",
        "\n",
        "# Astuce : si vous avez besoin de vous familiariser avec les DataFrame de pandas :\n",
        "# https://colab.research.google.com/github/google/eng-edu/blob/main/ml/cc/exercises/pandas_dataframe_ultraquick_tutorial.ipynb"
      ],
      "metadata": {
        "colab": {
          "base_uri": "https://localhost:8080/"
        },
        "id": "EWCcRV57Z7cM",
        "outputId": "96a40bab-8806-4858-9522-9e154f879146"
      },
      "execution_count": 5,
      "outputs": [
        {
          "output_type": "stream",
          "name": "stdout",
          "text": [
            "   sepal length (cm)  sepal width (cm)  petal length (cm)  petal width (cm)  \\\n",
            "0                5.1               3.5                1.4               0.2   \n",
            "1                4.9               3.0                1.4               0.2   \n",
            "2                4.7               3.2                1.3               0.2   \n",
            "3                4.6               3.1                1.5               0.2   \n",
            "4                5.0               3.6                1.4               0.2   \n",
            "\n",
            "   target  \n",
            "0       0  \n",
            "1       0  \n",
            "2       0  \n",
            "3       0  \n",
            "4       0  \n"
          ]
        }
      ]
    },
    {
      "cell_type": "markdown",
      "source": [
        "#### Solution"
      ],
      "metadata": {
        "id": "cc1vw8gcaIbw"
      }
    },
    {
      "cell_type": "code",
      "metadata": {
        "id": "K3z9UkDZVZTY",
        "colab": {
          "base_uri": "https://localhost:8080/"
        },
        "outputId": "8b9d981b-1028-4196-c802-beeca929ea35"
      },
      "source": [
        "iris = load_iris()\n",
        "print(iris['data'].shape)\n",
        "\n",
        "X = iris.data\n",
        "y = iris.target\n",
        "\n",
        "labels = iris.target_names\n",
        "feature_names = iris.feature_names\n",
        "\n",
        "data = np.hstack((X, y[:, np.newaxis]))\n",
        "\n",
        "df = pd.DataFrame(data, columns=iris.feature_names+['label'])\n",
        "df.label = df.label.map({k:v for k,v in enumerate(labels)})\n",
        "df.tail()"
      ],
      "execution_count": null,
      "outputs": [
        {
          "output_type": "stream",
          "name": "stdout",
          "text": [
            "(150, 4)\n"
          ]
        },
        {
          "output_type": "execute_result",
          "data": {
            "text/plain": [
              "     sepal length (cm)  sepal width (cm)  petal length (cm)  petal width (cm)  \\\n",
              "145                6.7               3.0                5.2               2.3   \n",
              "146                6.3               2.5                5.0               1.9   \n",
              "147                6.5               3.0                5.2               2.0   \n",
              "148                6.2               3.4                5.4               2.3   \n",
              "149                5.9               3.0                5.1               1.8   \n",
              "\n",
              "         label  \n",
              "145  virginica  \n",
              "146  virginica  \n",
              "147  virginica  \n",
              "148  virginica  \n",
              "149  virginica  "
            ],
            "text/html": [
              "\n",
              "  <div id=\"df-ee0302c9-65f6-46de-b84a-1742f6ce7b75\" class=\"colab-df-container\">\n",
              "    <div>\n",
              "<style scoped>\n",
              "    .dataframe tbody tr th:only-of-type {\n",
              "        vertical-align: middle;\n",
              "    }\n",
              "\n",
              "    .dataframe tbody tr th {\n",
              "        vertical-align: top;\n",
              "    }\n",
              "\n",
              "    .dataframe thead th {\n",
              "        text-align: right;\n",
              "    }\n",
              "</style>\n",
              "<table border=\"1\" class=\"dataframe\">\n",
              "  <thead>\n",
              "    <tr style=\"text-align: right;\">\n",
              "      <th></th>\n",
              "      <th>sepal length (cm)</th>\n",
              "      <th>sepal width (cm)</th>\n",
              "      <th>petal length (cm)</th>\n",
              "      <th>petal width (cm)</th>\n",
              "      <th>label</th>\n",
              "    </tr>\n",
              "  </thead>\n",
              "  <tbody>\n",
              "    <tr>\n",
              "      <th>145</th>\n",
              "      <td>6.7</td>\n",
              "      <td>3.0</td>\n",
              "      <td>5.2</td>\n",
              "      <td>2.3</td>\n",
              "      <td>virginica</td>\n",
              "    </tr>\n",
              "    <tr>\n",
              "      <th>146</th>\n",
              "      <td>6.3</td>\n",
              "      <td>2.5</td>\n",
              "      <td>5.0</td>\n",
              "      <td>1.9</td>\n",
              "      <td>virginica</td>\n",
              "    </tr>\n",
              "    <tr>\n",
              "      <th>147</th>\n",
              "      <td>6.5</td>\n",
              "      <td>3.0</td>\n",
              "      <td>5.2</td>\n",
              "      <td>2.0</td>\n",
              "      <td>virginica</td>\n",
              "    </tr>\n",
              "    <tr>\n",
              "      <th>148</th>\n",
              "      <td>6.2</td>\n",
              "      <td>3.4</td>\n",
              "      <td>5.4</td>\n",
              "      <td>2.3</td>\n",
              "      <td>virginica</td>\n",
              "    </tr>\n",
              "    <tr>\n",
              "      <th>149</th>\n",
              "      <td>5.9</td>\n",
              "      <td>3.0</td>\n",
              "      <td>5.1</td>\n",
              "      <td>1.8</td>\n",
              "      <td>virginica</td>\n",
              "    </tr>\n",
              "  </tbody>\n",
              "</table>\n",
              "</div>\n",
              "    <div class=\"colab-df-buttons\">\n",
              "\n",
              "  <div class=\"colab-df-container\">\n",
              "    <button class=\"colab-df-convert\" onclick=\"convertToInteractive('df-ee0302c9-65f6-46de-b84a-1742f6ce7b75')\"\n",
              "            title=\"Convert this dataframe to an interactive table.\"\n",
              "            style=\"display:none;\">\n",
              "\n",
              "  <svg xmlns=\"http://www.w3.org/2000/svg\" height=\"24px\" viewBox=\"0 -960 960 960\">\n",
              "    <path d=\"M120-120v-720h720v720H120Zm60-500h600v-160H180v160Zm220 220h160v-160H400v160Zm0 220h160v-160H400v160ZM180-400h160v-160H180v160Zm440 0h160v-160H620v160ZM180-180h160v-160H180v160Zm440 0h160v-160H620v160Z\"/>\n",
              "  </svg>\n",
              "    </button>\n",
              "\n",
              "  <style>\n",
              "    .colab-df-container {\n",
              "      display:flex;\n",
              "      gap: 12px;\n",
              "    }\n",
              "\n",
              "    .colab-df-convert {\n",
              "      background-color: #E8F0FE;\n",
              "      border: none;\n",
              "      border-radius: 50%;\n",
              "      cursor: pointer;\n",
              "      display: none;\n",
              "      fill: #1967D2;\n",
              "      height: 32px;\n",
              "      padding: 0 0 0 0;\n",
              "      width: 32px;\n",
              "    }\n",
              "\n",
              "    .colab-df-convert:hover {\n",
              "      background-color: #E2EBFA;\n",
              "      box-shadow: 0px 1px 2px rgba(60, 64, 67, 0.3), 0px 1px 3px 1px rgba(60, 64, 67, 0.15);\n",
              "      fill: #174EA6;\n",
              "    }\n",
              "\n",
              "    .colab-df-buttons div {\n",
              "      margin-bottom: 4px;\n",
              "    }\n",
              "\n",
              "    [theme=dark] .colab-df-convert {\n",
              "      background-color: #3B4455;\n",
              "      fill: #D2E3FC;\n",
              "    }\n",
              "\n",
              "    [theme=dark] .colab-df-convert:hover {\n",
              "      background-color: #434B5C;\n",
              "      box-shadow: 0px 1px 3px 1px rgba(0, 0, 0, 0.15);\n",
              "      filter: drop-shadow(0px 1px 2px rgba(0, 0, 0, 0.3));\n",
              "      fill: #FFFFFF;\n",
              "    }\n",
              "  </style>\n",
              "\n",
              "    <script>\n",
              "      const buttonEl =\n",
              "        document.querySelector('#df-ee0302c9-65f6-46de-b84a-1742f6ce7b75 button.colab-df-convert');\n",
              "      buttonEl.style.display =\n",
              "        google.colab.kernel.accessAllowed ? 'block' : 'none';\n",
              "\n",
              "      async function convertToInteractive(key) {\n",
              "        const element = document.querySelector('#df-ee0302c9-65f6-46de-b84a-1742f6ce7b75');\n",
              "        const dataTable =\n",
              "          await google.colab.kernel.invokeFunction('convertToInteractive',\n",
              "                                                    [key], {});\n",
              "        if (!dataTable) return;\n",
              "\n",
              "        const docLinkHtml = 'Like what you see? Visit the ' +\n",
              "          '<a target=\"_blank\" href=https://colab.research.google.com/notebooks/data_table.ipynb>data table notebook</a>'\n",
              "          + ' to learn more about interactive tables.';\n",
              "        element.innerHTML = '';\n",
              "        dataTable['output_type'] = 'display_data';\n",
              "        await google.colab.output.renderOutput(dataTable, element);\n",
              "        const docLink = document.createElement('div');\n",
              "        docLink.innerHTML = docLinkHtml;\n",
              "        element.appendChild(docLink);\n",
              "      }\n",
              "    </script>\n",
              "  </div>\n",
              "\n",
              "\n",
              "<div id=\"df-32342966-0f09-45be-8855-e6186d79be18\">\n",
              "  <button class=\"colab-df-quickchart\" onclick=\"quickchart('df-32342966-0f09-45be-8855-e6186d79be18')\"\n",
              "            title=\"Suggest charts\"\n",
              "            style=\"display:none;\">\n",
              "\n",
              "<svg xmlns=\"http://www.w3.org/2000/svg\" height=\"24px\"viewBox=\"0 0 24 24\"\n",
              "     width=\"24px\">\n",
              "    <g>\n",
              "        <path d=\"M19 3H5c-1.1 0-2 .9-2 2v14c0 1.1.9 2 2 2h14c1.1 0 2-.9 2-2V5c0-1.1-.9-2-2-2zM9 17H7v-7h2v7zm4 0h-2V7h2v10zm4 0h-2v-4h2v4z\"/>\n",
              "    </g>\n",
              "</svg>\n",
              "  </button>\n",
              "\n",
              "<style>\n",
              "  .colab-df-quickchart {\n",
              "      --bg-color: #E8F0FE;\n",
              "      --fill-color: #1967D2;\n",
              "      --hover-bg-color: #E2EBFA;\n",
              "      --hover-fill-color: #174EA6;\n",
              "      --disabled-fill-color: #AAA;\n",
              "      --disabled-bg-color: #DDD;\n",
              "  }\n",
              "\n",
              "  [theme=dark] .colab-df-quickchart {\n",
              "      --bg-color: #3B4455;\n",
              "      --fill-color: #D2E3FC;\n",
              "      --hover-bg-color: #434B5C;\n",
              "      --hover-fill-color: #FFFFFF;\n",
              "      --disabled-bg-color: #3B4455;\n",
              "      --disabled-fill-color: #666;\n",
              "  }\n",
              "\n",
              "  .colab-df-quickchart {\n",
              "    background-color: var(--bg-color);\n",
              "    border: none;\n",
              "    border-radius: 50%;\n",
              "    cursor: pointer;\n",
              "    display: none;\n",
              "    fill: var(--fill-color);\n",
              "    height: 32px;\n",
              "    padding: 0;\n",
              "    width: 32px;\n",
              "  }\n",
              "\n",
              "  .colab-df-quickchart:hover {\n",
              "    background-color: var(--hover-bg-color);\n",
              "    box-shadow: 0 1px 2px rgba(60, 64, 67, 0.3), 0 1px 3px 1px rgba(60, 64, 67, 0.15);\n",
              "    fill: var(--button-hover-fill-color);\n",
              "  }\n",
              "\n",
              "  .colab-df-quickchart-complete:disabled,\n",
              "  .colab-df-quickchart-complete:disabled:hover {\n",
              "    background-color: var(--disabled-bg-color);\n",
              "    fill: var(--disabled-fill-color);\n",
              "    box-shadow: none;\n",
              "  }\n",
              "\n",
              "  .colab-df-spinner {\n",
              "    border: 2px solid var(--fill-color);\n",
              "    border-color: transparent;\n",
              "    border-bottom-color: var(--fill-color);\n",
              "    animation:\n",
              "      spin 1s steps(1) infinite;\n",
              "  }\n",
              "\n",
              "  @keyframes spin {\n",
              "    0% {\n",
              "      border-color: transparent;\n",
              "      border-bottom-color: var(--fill-color);\n",
              "      border-left-color: var(--fill-color);\n",
              "    }\n",
              "    20% {\n",
              "      border-color: transparent;\n",
              "      border-left-color: var(--fill-color);\n",
              "      border-top-color: var(--fill-color);\n",
              "    }\n",
              "    30% {\n",
              "      border-color: transparent;\n",
              "      border-left-color: var(--fill-color);\n",
              "      border-top-color: var(--fill-color);\n",
              "      border-right-color: var(--fill-color);\n",
              "    }\n",
              "    40% {\n",
              "      border-color: transparent;\n",
              "      border-right-color: var(--fill-color);\n",
              "      border-top-color: var(--fill-color);\n",
              "    }\n",
              "    60% {\n",
              "      border-color: transparent;\n",
              "      border-right-color: var(--fill-color);\n",
              "    }\n",
              "    80% {\n",
              "      border-color: transparent;\n",
              "      border-right-color: var(--fill-color);\n",
              "      border-bottom-color: var(--fill-color);\n",
              "    }\n",
              "    90% {\n",
              "      border-color: transparent;\n",
              "      border-bottom-color: var(--fill-color);\n",
              "    }\n",
              "  }\n",
              "</style>\n",
              "\n",
              "  <script>\n",
              "    async function quickchart(key) {\n",
              "      const quickchartButtonEl =\n",
              "        document.querySelector('#' + key + ' button');\n",
              "      quickchartButtonEl.disabled = true;  // To prevent multiple clicks.\n",
              "      quickchartButtonEl.classList.add('colab-df-spinner');\n",
              "      try {\n",
              "        const charts = await google.colab.kernel.invokeFunction(\n",
              "            'suggestCharts', [key], {});\n",
              "      } catch (error) {\n",
              "        console.error('Error during call to suggestCharts:', error);\n",
              "      }\n",
              "      quickchartButtonEl.classList.remove('colab-df-spinner');\n",
              "      quickchartButtonEl.classList.add('colab-df-quickchart-complete');\n",
              "    }\n",
              "    (() => {\n",
              "      let quickchartButtonEl =\n",
              "        document.querySelector('#df-32342966-0f09-45be-8855-e6186d79be18 button');\n",
              "      quickchartButtonEl.style.display =\n",
              "        google.colab.kernel.accessAllowed ? 'block' : 'none';\n",
              "    })();\n",
              "  </script>\n",
              "</div>\n",
              "\n",
              "    </div>\n",
              "  </div>\n"
            ],
            "application/vnd.google.colaboratory.intrinsic+json": {
              "type": "dataframe",
              "summary": "{\n  \"name\": \"df\",\n  \"rows\": 5,\n  \"fields\": [\n    {\n      \"column\": \"sepal length (cm)\",\n      \"properties\": {\n        \"dtype\": \"number\",\n        \"std\": 0.30331501776206193,\n        \"min\": 5.9,\n        \"max\": 6.7,\n        \"num_unique_values\": 5,\n        \"samples\": [\n          6.3,\n          5.9,\n          6.5\n        ],\n        \"semantic_type\": \"\",\n        \"description\": \"\"\n      }\n    },\n    {\n      \"column\": \"sepal width (cm)\",\n      \"properties\": {\n        \"dtype\": \"number\",\n        \"std\": 0.31937438845342625,\n        \"min\": 2.5,\n        \"max\": 3.4,\n        \"num_unique_values\": 3,\n        \"samples\": [\n          3.0,\n          2.5,\n          3.4\n        ],\n        \"semantic_type\": \"\",\n        \"description\": \"\"\n      }\n    },\n    {\n      \"column\": \"petal length (cm)\",\n      \"properties\": {\n        \"dtype\": \"number\",\n        \"std\": 0.14832396974191348,\n        \"min\": 5.0,\n        \"max\": 5.4,\n        \"num_unique_values\": 4,\n        \"samples\": [\n          5.0,\n          5.1,\n          5.2\n        ],\n        \"semantic_type\": \"\",\n        \"description\": \"\"\n      }\n    },\n    {\n      \"column\": \"petal width (cm)\",\n      \"properties\": {\n        \"dtype\": \"number\",\n        \"std\": 0.23021728866442667,\n        \"min\": 1.8,\n        \"max\": 2.3,\n        \"num_unique_values\": 4,\n        \"samples\": [\n          1.9,\n          1.8,\n          2.3\n        ],\n        \"semantic_type\": \"\",\n        \"description\": \"\"\n      }\n    },\n    {\n      \"column\": \"label\",\n      \"properties\": {\n        \"dtype\": \"category\",\n        \"num_unique_values\": 1,\n        \"samples\": [\n          \"virginica\"\n        ],\n        \"semantic_type\": \"\",\n        \"description\": \"\"\n      }\n    }\n  ]\n}"
            }
          },
          "metadata": {},
          "execution_count": 3
        }
      ]
    },
    {
      "cell_type": "markdown",
      "source": [
        "### 1.2 Visualisation\n",
        "\n",
        "A quoi ressemble notre jeu de données ?"
      ],
      "metadata": {
        "id": "WmWXuoGitcAT"
      }
    },
    {
      "cell_type": "code",
      "source": [
        "# setup marker generator and color map\n",
        "markers = ('s', 'x', 'o')\n",
        "colors = ['red', 'blue', 'lightgreen']\n",
        "cmap = ListedColormap(colors[:len(np.unique(y))], name='from_list')\n",
        "\n",
        "# Visualize the data sets\n",
        "\n",
        "plt.figure(figsize=(16, 6))\n",
        "plt.subplot(1, 2, 1)\n",
        "for target, target_name in enumerate(labels):\n",
        "    X_plot = X[y == target]\n",
        "    plt.plot(X_plot[:, 0], X_plot[:, 1], linestyle='none', alpha=0.8, c=cmap(target),\n",
        "                    marker=markers[target], label=target_name)\n",
        "plt.xlabel(feature_names[0])\n",
        "plt.ylabel(feature_names[1])\n",
        "plt.axis('equal')\n",
        "plt.legend();\n",
        "\n",
        "plt.subplot(1, 2, 2)\n",
        "for target, target_name in enumerate(labels):\n",
        "    X_plot = X[y == target]\n",
        "    plt.plot(X_plot[:, 2], X_plot[:, 3], linestyle='none', alpha=0.8, c=cmap(target),\n",
        "                    marker=markers[target], label=target_name)\n",
        "plt.xlabel(feature_names[2])\n",
        "plt.ylabel(feature_names[3])\n",
        "plt.axis('equal')\n",
        "plt.legend();"
      ],
      "metadata": {
        "colab": {
          "base_uri": "https://localhost:8080/",
          "height": 542
        },
        "id": "NOaRgKl7s2Gj",
        "outputId": "85113496-776e-4ab3-bfe6-1b31afa0e755"
      },
      "execution_count": 6,
      "outputs": [
        {
          "output_type": "display_data",
          "data": {
            "text/plain": [
              "<Figure size 1600x600 with 2 Axes>"
            ],
            "image/png": "[encoded data removed]"
          },
          "metadata": {}
        }
      ]
    },
    {
      "cell_type": "markdown",
      "source": [
        "Qu'observez-vous ?\n",
        "\n"
      ],
      "metadata": {
        "id": "QHOVi5KbMZr8"
      }
    },
    {
      "cell_type": "markdown",
      "source": [
        "Setosa a des pétales courts, Virginica a les plus longs, et Versicolor est intermédiaire.\n"
      ],
      "metadata": {
        "id": "YrarbEf3gQ6W"
      }
    },
    {
      "cell_type": "markdown",
      "source": [
        "### 1.3 Pré-traitements\n",
        "Pour simplifier la classification et sa visualisation, nous n'allons conserver que deux classes en sortie : les *iris setosa* et les *iris versicolor*.\n",
        "\n",
        "Pour le moment, la sortie attendue de la classification binaire comprend trois éléments : y = [0,1,2] avec les sorties correspondant aux labels = ['setosa' 'versicolor' 'virginica'].\n",
        "\n",
        "**Consignes** :\n",
        "- Sélectionner uniquement les *iris setosa* et *versicolor* dans X et y. On va transformer la sortie et attribuer y=-1 pour les *setosa* et y=1 pour les *versicolor*. Pour chaque x<sub>i</sub> appartenant à X on veut un y<sub>i</sub> appartenant à y valant 1 ou -1 (target)."
      ],
      "metadata": {
        "id": "yYbA09yylfQr"
      }
    },
    {
      "cell_type": "code",
      "source": [
        "# .... A FAIRE ....\n",
        "# Sélectionner les iris setosa et versicolor et changer leur sortie y en -1 et 1\n",
        "iris_df = iris_df[iris_df['target'] < 2]  #seulement Setosa et Versicolor\n",
        "y = iris_df['target'].values\n",
        "y = np.where(y == 0, -1, y)\n",
        "\n",
        "# .... A FAIRE ....\n",
        "# Extraire les caractéristiques : sepal length et petal length\n",
        "X = iris_df.iloc[:, [0, 2]].values\n",
        "\n",
        "# Aide : tous les paramètres des iris sont accessibles de cette manière :\n",
        "# X = df.iloc[0:100, [0, 1, 2, 3]].values\n",
        "\n",
        "# .... A FAIRE ....\n",
        "# Afficher la donnée avec matplotlib (utiliser plt.scatter)\n",
        "plt.scatter(X[:, 0], X[:, 1], c=y, cmap='bwr', edgecolors='k')\n",
        "plt.xlabel('Sepal Length (cm)')\n",
        "plt.ylabel('Petal Length (cm)')\n",
        "plt.title('Iris Setosa vs Versicolor')\n",
        "plt.show()"
      ],
      "metadata": {
        "colab": {
          "base_uri": "https://localhost:8080/",
          "height": 472
        },
        "id": "7B_9MbNH1hNT",
        "outputId": "30922544-253c-4de2-f2d4-9f5f941071de"
      },
      "execution_count": 18,
      "outputs": [
        {
          "output_type": "display_data",
          "data": {
            "text/plain": [
              "<Figure size 640x480 with 1 Axes>"
            ],
            "image/png": "[encoded data removed]"
          },
          "metadata": {}
        }
      ]
    },
    {
      "cell_type": "markdown",
      "source": [
        "#### Solution"
      ],
      "metadata": {
        "id": "YviTpA0OmlrQ"
      }
    },
    {
      "cell_type": "code",
      "source": [
        "# Sélectionner les iris setosa et versicolor\n",
        "filtered_df = df[df.label.isin(['setosa', 'versicolor'])]\n",
        "y = filtered_df.iloc[:, 4].values\n",
        "y = np.where(y == 'setosa', -1, 1) # cette condition applique la valeur -1 aux données de label 'setosa' et 1 aux autres\n",
        "\n",
        "# Extraire les caractéristiques : sepal length et petal length\n",
        "X = df.iloc[0:100, [0, 2]].values\n",
        "\n",
        "# plot data\n",
        "plt.scatter(X[:50, 0], X[:50, 1],\n",
        "            color='red', marker='o', label='setosa')\n",
        "plt.scatter(X[50:100, 0], X[50:100, 1],\n",
        "            color='blue', marker='x', label='versicolor')\n",
        "\n",
        "plt.xlabel(feature_names[2])\n",
        "plt.ylabel(feature_names[3])\n",
        "plt.legend(loc='upper left')\n",
        "\n",
        "plt.show()\n"
      ],
      "metadata": {
        "id": "Fs23MELjlgV4",
        "colab": {
          "base_uri": "https://localhost:8080/",
          "height": 449
        },
        "outputId": "abfa9220-96af-4efd-f796-09b6917e5770"
      },
      "execution_count": null,
      "outputs": [
        {
          "output_type": "display_data",
          "data": {
            "text/plain": [
              "<Figure size 640x480 with 1 Axes>"
            ],
            "image/png": "[encoded data removed]"
          },
          "metadata": {}
        }
      ]
    },
    {
      "cell_type": "markdown",
      "source": [
        "### 1.4 Séparation en jeu de données d'entraînement et de test"
      ],
      "metadata": {
        "id": "MrtXOOjh1XPo"
      }
    },
    {
      "cell_type": "code",
      "source": [
        "# .... A FAIRE ....\n",
        "# Séparer le jeu de données en jeu d'entraînement et de test\n",
        "from sklearn.model_selection import train_test_split\n"
      ],
      "metadata": {
        "id": "-0ZReYM_X23v"
      },
      "execution_count": 19,
      "outputs": []
    },
    {
      "cell_type": "markdown",
      "source": [
        "#### Solution"
      ],
      "metadata": {
        "id": "hoGuMDgHX7Ik"
      }
    },
    {
      "cell_type": "code",
      "source": [
        "# Séparer le jeu de données en jeu d'entraînement et de test avec une fonction\n",
        "# déjà implémentée dans sklearn :\n",
        "X_train, X_test, y_train, y_test = train_test_split(X, y, test_size=0.3, random_state=2)"
      ],
      "metadata": {
        "id": "W8m9-_2Z1Xok"
      },
      "execution_count": 20,
      "outputs": []
    },
    {
      "cell_type": "code",
      "source": [
        "# Vous pouvez séparer vous-même le jeu de données en deux de la manière suivante :\n",
        "n=int(len(X)*0.8)\n",
        "X_train = X[:n]\n",
        "y_train = y[:n]\n",
        "X_test  = X[n:]\n",
        "y_test  = y[n:]"
      ],
      "metadata": {
        "id": "Jlg_qJJzdm2Q"
      },
      "execution_count": 21,
      "outputs": []
    },
    {
      "cell_type": "markdown",
      "source": [
        "## 2. Implémentation d'un modèle de perceptron\n",
        "\n",
        "Maintenant que nous sommes familiarisés avec le jeu de données Iris, et que nous voyons clairement la délimitation possible entre les types d'iris selon leurs caractéristiques, nous allons entraîner un modèle à apprendre à classifier les données iris selon leurs caractéristiques.\n",
        "\n",
        "Pour cela, nous allons utiliser un perceptron, modèle que nous avons vu en cours."
      ],
      "metadata": {
        "id": "f_HV-ofgHcLc"
      }
    },
    {
      "cell_type": "markdown",
      "source": [
        "### 2.1 Plusieurs implémentations possibles\n",
        "\n",
        "Il existe un modèle de perceptron déjà implémenté dans sklearn auquel l'on peut donner des données d'apprentissage avec la fonction fit et évaluer ses performances avec la méthode score.\n",
        "\n",
        "Vous pouvez jouer avec le nombre d'itérations pour voir comment il fonctionne."
      ],
      "metadata": {
        "id": "1e2Prk9PWwC9"
      }
    },
    {
      "cell_type": "code",
      "source": [
        "from sklearn import linear_model\n",
        "model = linear_model.Perceptron(max_iter=10)\n",
        "model.fit(X_train, y_train) # entraînement du modèle\n",
        "y_pred = model.predict(X_test) # prédictions du modèle sur les données test\n",
        "model.score(X_test,y_test) #évaluation du modèle"
      ],
      "metadata": {
        "id": "o12INnOZBdUL",
        "colab": {
          "base_uri": "https://localhost:8080/"
        },
        "outputId": "53d0ba62-1b76-4376-98af-5c9506a9644e"
      },
      "execution_count": 22,
      "outputs": [
        {
          "output_type": "execute_result",
          "data": {
            "text/plain": [
              "1.0"
            ]
          },
          "metadata": {},
          "execution_count": 22
        }
      ]
    },
    {
      "cell_type": "code",
      "source": [
        "from sklearn.metrics import accuracy_score, r2_score\n",
        "y_pred = [0, 2, 1, 3]\n",
        "y_true = [0, 1, 2, 3]\n",
        "a = accuracy_score(y_true, y_pred)\n",
        "r = r2_score(y_true, y_pred)\n",
        "print(a, r)"
      ],
      "metadata": {
        "colab": {
          "base_uri": "https://localhost:8080/"
        },
        "id": "-s4bk2RBSvcy",
        "outputId": "a0ca371c-889d-46a6-f66c-fe8d8a5a397d"
      },
      "execution_count": 23,
      "outputs": [
        {
          "output_type": "stream",
          "name": "stdout",
          "text": [
            "0.5 0.6\n"
          ]
        }
      ]
    },
    {
      "cell_type": "markdown",
      "source": [
        "Libre à vous d'explorer la bibliothèque sklearn pour aller plus loin.\n",
        "Plongeons désormais dans l'implémentation de notre perceptron avec la bibliothèque NumPy pour comprendre un peu mieux son fonctionnement."
      ],
      "metadata": {
        "id": "ogh6YrItBeYs"
      }
    },
    {
      "cell_type": "code",
      "source": [
        "class Perceptron(object):\n",
        "    \"\"\"Perceptron classifier.\n",
        "\n",
        "    Parameters\n",
        "    ------------\n",
        "    lr : float\n",
        "        Le taux d'apprentissage, qui contrôle la taille des pas lors de la mise à jour des poids.\n",
        "    n_iter : int\n",
        "        Le nombre d'itérations sur le jeu de données d'entraînement pour l'apprentissage.\n",
        "\n",
        "    Attributes\n",
        "    -----------\n",
        "    w_ : 1d-array\n",
        "        Les poids du modèle après l'apprentissage.\n",
        "    b_ : float\n",
        "        Le biais du modèle après l'apprentissage.\n",
        "    errors_ : list\n",
        "        Une liste contenant le nombre d'erreurs de classification à chaque itération (époque).\n",
        "\n",
        "    \"\"\"\n",
        "    def __init__(self, lr=0.01, n_iter=10):\n",
        "        self.lr = lr\n",
        "        self.n_iter = n_iter\n",
        "\n",
        "    def net_output(self, X):\n",
        "        \"\"\"Calcule la sortie du réseau.\"\"\"\n",
        "        return np.dot(X, self.w_) + self.b_  # Calcule la sortie du réseau comme le produit scalaire entre X et les poids, plus le biais.\n",
        "\n",
        "    def predict(self, X):\n",
        "        \"\"\"Renvoie l'étiquette de classe.\"\"\"\n",
        "        return np.where(self.net_output(X) >= 0.0, 1, -1)  # Prédiction de la classe par un simple seuil.\n",
        "\n",
        "    def fit(self, X, y):\n",
        "        \"\"\"Fit training data.\n",
        "\n",
        "        Parameters\n",
        "        ----------\n",
        "        X : {array-like}, shape = [n_samples, n_features]\n",
        "            Les données d'entraînement X, où n_samples est le nombre d'échantillons\n",
        "            et n_features est le nombre de caractéristiques.\n",
        "        y : array-like, shape = [n_samples]\n",
        "            Target values. Les valeurs cibles correspondant aux échantillons dans X.\n",
        "\n",
        "        Returns\n",
        "        -------\n",
        "        self : object\n",
        "        Retourne l'objet perceptron lui-même après l'apprentissage.\n",
        "\n",
        "        \"\"\"\n",
        "        self.w_ = np.zeros(X.shape[1])  # Initialise les poids à zéro.\n",
        "        self.b_ = 0  # Initialise le biais à zéro.\n",
        "        self.errors_ = []  # Initialise la liste des erreurs.\n",
        "\n",
        "        for _ in range(self.n_iter):  # Répète l'apprentissage pour n_iter époques.\n",
        "            errors = 0\n",
        "            for xi, target in zip(X, y):\n",
        "                update = self.lr * (target - self.predict(xi))  # Calcule la mise à jour des poids.\n",
        "                self.w_ += update * xi  # Met à jour les poids.\n",
        "                self.b_ += update  # Met à jour le biais.\n",
        "                errors += int(update != 0.0)  # Incrémente le compteur d'erreurs si la prédiction est incorrecte.\n",
        "            self.errors_.append(errors)  # Ajoute le nombre d'erreurs de cette époque à la liste."
      ],
      "metadata": {
        "id": "oOVWJVNKlOOb"
      },
      "execution_count": 24,
      "outputs": []
    },
    {
      "cell_type": "markdown",
      "source": [
        "Prenez le temps de comprendre le code ci-dessus et les différentes fonctions qui le composent.\n",
        "\n",
        "**Remarque** : dans la fonction *predict*, nous avons implémenté une simple fonction seuil mais bien d'autres fonctions d'activation sont possibles comme vu en cours. Vous pouvez vous amusez à implémenter d'autres fonctions d'activation."
      ],
      "metadata": {
        "id": "ox1Ur34gYR02"
      }
    },
    {
      "cell_type": "markdown",
      "source": [
        "### 2.2 Entraîner et évaluer le réseau de neurones\n",
        "Nous allons utiliser le modèle de perceptron défini ci-dessus pour effectuer une classification binaire sur le jeu de données Iris.\n",
        "\n",
        "**Consignes** :\n",
        "- Implémenter le mlp\n",
        "- Évaluer les performances du modèle en calculant le taux de classification correcte.\n"
      ],
      "metadata": {
        "id": "8OWPnTSelxlA"
      }
    },
    {
      "cell_type": "code",
      "source": [
        "# .... A FAIRE ....\n",
        "# Définir une instance de notre classe Perceptron\n",
        "model =\n",
        "\n",
        "# Puis entraîner le modèle\n",
        "\n",
        "# Bonus : afficher les erreurs en fonction des époques"
      ],
      "metadata": {
        "id": "h6VAXSNHoHnD"
      },
      "execution_count": null,
      "outputs": []
    },
    {
      "cell_type": "markdown",
      "source": [
        "#### Solution"
      ],
      "metadata": {
        "id": "pCB4Dl6PoH_i"
      }
    },
    {
      "cell_type": "code",
      "source": [
        "model = Perceptron(lr=0.1, n_iter=10)\n",
        "model.fit(X_train, y_train)\n",
        "\n",
        "plt.plot(range(1, len(model.errors_) + 1), model.errors_, marker='o')\n",
        "plt.xlabel('Epochs')\n",
        "plt.ylabel('Number of misclassifications')\n",
        "\n",
        "plt.tight_layout()\n",
        "plt.show()\n"
      ],
      "metadata": {
        "id": "znoQFR1hlyHy",
        "colab": {
          "base_uri": "https://localhost:8080/",
          "height": 487
        },
        "outputId": "94f4d3c7-2232-40c9-f10d-0240b2697b10"
      },
      "execution_count": null,
      "outputs": [
        {
          "output_type": "display_data",
          "data": {
            "text/plain": [
              "<Figure size 640x480 with 1 Axes>"
            ],
            "image/png": "[encoded data removed]"
          },
          "metadata": {}
        }
      ]
    },
    {
      "cell_type": "code",
      "source": [
        "from sklearn.metrics import accuracy_score\n",
        "\n",
        "y_pred = model.predict(X_test)\n",
        "acc = accuracy_score(y_test, y_pred)\n",
        "print(acc)"
      ],
      "metadata": {
        "colab": {
          "base_uri": "https://localhost:8080/"
        },
        "id": "Bka610r34SpR",
        "outputId": "e3c00475-b4d4-4f06-e3ab-ac04d59c37e2"
      },
      "execution_count": null,
      "outputs": [
        {
          "output_type": "stream",
          "name": "stdout",
          "text": [
            "1.0\n"
          ]
        }
      ]
    },
    {
      "cell_type": "markdown",
      "source": [
        "### Pour aller plus loin\n",
        "\n",
        "- Expérimenter avec différents taux d'apprentissage et nombres d'itérations pour voir comment ils affectent les performances du perceptron.\n",
        "- Expérimenter avec 1 seule caractéristique des iris, 2, 3 et 4 en entréee du perceptron\n",
        "- Expérimenter en modifiant le learning rate.\n"
      ],
      "metadata": {
        "id": "YxydVWA13gDX"
      }
    },
    {
      "cell_type": "code",
      "source": [],
      "metadata": {
        "id": "VOVo329dYfGR"
      },
      "execution_count": null,
      "outputs": []
    },
    {
      "cell_type": "markdown",
      "source": [
        "## 3. Visualisation des résultats"
      ],
      "metadata": {
        "id": "f9bs0y_Rl7xW"
      }
    },
    {
      "cell_type": "code",
      "source": [
        "def plot_decision_regions(X, y, classifier, resolution=0.02):\n",
        "\n",
        "    # setup marker generator and color map\n",
        "    markers = ('s', 'x', 'o')\n",
        "    colors = ['red', 'blue', 'lightgreen']\n",
        "    cmap = ListedColormap(colors[:len(np.unique(y))], name='from_list')\n",
        "\n",
        "    # plot the decision surface\n",
        "    x1_min, x1_max = X[:, 0].min() - 1, X[:, 0].max() + 1\n",
        "    x2_min, x2_max = X[:, 1].min() - 1, X[:, 1].max() + 1\n",
        "    xx1, xx2 = np.meshgrid(np.arange(x1_min, x1_max, resolution),\n",
        "                         np.arange(x2_min, x2_max, resolution))\n",
        "    Z = classifier.predict(np.array([xx1.ravel(), xx2.ravel()]).T)\n",
        "    Z = Z.reshape(xx1.shape)\n",
        "    plt.contourf(xx1, xx2, Z, alpha=0.4, cmap=cmap)\n",
        "    plt.xlim(xx1.min(), xx1.max())\n",
        "    plt.ylim(xx2.min(), xx2.max())\n",
        "\n",
        "    # plot class samples\n",
        "    for idx, cl in enumerate(np.unique(y)):\n",
        "        plt.scatter(x=X[y == cl, 0], y=X[y == cl, 1],\n",
        "                    alpha=0.8, c=cmap(idx),\n",
        "                    marker=markers[idx], label=cl)"
      ],
      "metadata": {
        "id": "e0TmuLk03wc1"
      },
      "execution_count": 25,
      "outputs": []
    },
    {
      "cell_type": "code",
      "source": [
        "plot_decision_regions(X, y, classifier=model)\n",
        "plt.xlabel(feature_names[2])\n",
        "plt.ylabel(feature_names[3])\n",
        "plt.legend(loc='upper left')\n",
        "\n",
        "plt.tight_layout()\n",
        "plt.show()"
      ],
      "metadata": {
        "id": "T9k3X3fMl8DG",
        "colab": {
          "base_uri": "https://localhost:8080/",
          "height": 542
        },
        "outputId": "0b746c2a-fe3a-497f-c16c-73d6b9d4a3e8"
      },
      "execution_count": 26,
      "outputs": [
        {
          "output_type": "stream",
          "name": "stderr",
          "text": [
            "<ipython-input-25-508cc7bb641e>:21: UserWarning: *c* argument looks like a single numeric RGB or RGBA sequence, which should be avoided as value-mapping will have precedence in case its length matches with *x* & *y*.  Please use the *color* keyword-argument or provide a 2D array with a single row if you intend to specify the same RGB or RGBA value for all points.\n",
            "  plt.scatter(x=X[y == cl, 0], y=X[y == cl, 1],\n"
          ]
        },
        {
          "output_type": "display_data",
          "data": {
            "text/plain": [
              "<Figure size 640x480 with 1 Axes>"
            ],
            "image/png": "[encoded data removed]"
          },
          "metadata": {}
        }
      ]
    },
    {
      "cell_type": "markdown",
      "source": [
        "Cependant, le perceptron a des limites, notamment pour les problèmes de classification non linéaires. C'est là que le MLP entre en jeu dans le prochain TP."
      ],
      "metadata": {
        "id": "9yqcQ3X9lNjf"
      }
    }
  ]
}